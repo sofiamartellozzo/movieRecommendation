{
 "cells": [
  {
   "cell_type": "markdown",
   "metadata": {
    "id": "ofUfngSuuiuR"
   },
   "source": [
    "#Numerical Analysis' project\n",
    "\n",
    "Movie recommendation system"
   ]
  },
  {
   "cell_type": "code",
   "execution_count": 977,
   "metadata": {
    "id": "BUpzryGvufOX"
   },
   "outputs": [],
   "source": [
    "from scipy.sparse import csr_matrix\n",
    "from scipy.stats import pearsonr\n",
    "from numpy.linalg import matrix_rank\n",
    "from tqdm.notebook import tqdm\n",
    "from enum import IntEnum\n",
    "import numpy as np\n",
    "import matplotlib.pyplot as plt\n",
    "import pandas as pd\n",
    "import seaborn as sns\n",
    "#import jax.numpy as jnp\n",
    "#import jax\n",
    "import time"
   ]
  },
  {
   "cell_type": "markdown",
   "metadata": {
    "id": "v2E-g2QavVzT"
   },
   "source": [
    "Load the dataset using pandas"
   ]
  },
  {
   "cell_type": "code",
   "execution_count": 978,
   "metadata": {
    "id": "_bxmTRyiu9He"
   },
   "outputs": [],
   "source": [
    "movies = pd.read_csv('movies.csv')\n",
    "ratings = pd.read_csv('ratings.csv')"
   ]
  },
  {
   "cell_type": "code",
   "execution_count": 979,
   "metadata": {},
   "outputs": [
    {
     "name": "stdout",
     "output_type": "stream",
     "text": [
      "668 10329\n"
     ]
    }
   ],
   "source": [
    "# Find all the possible user ids and movie ids-> do that after the deletion\n",
    "userIds_available = set()\n",
    "movieIds_available = set()\n",
    "for id in np.array(ratings['userId'] , dtype = int):\n",
    "    userIds_available.add(id)\n",
    "\n",
    "for id in np.array(movies['movieId'] , dtype = int):\n",
    "    movieIds_available.add(id)\n",
    "    \n",
    "userIds_available = list(userIds_available)\n",
    "movieIds_available = list(movieIds_available)\n",
    "\n",
    "userIds_available.sort()\n",
    "movieIds_available.sort()\n",
    "\n",
    "print(len(userIds_available) , len(movieIds_available))"
   ]
  },
  {
   "cell_type": "code",
   "execution_count": 980,
   "metadata": {
    "colab": {
     "base_uri": "https://localhost:8080/"
    },
    "id": "vr2mVUTIvc2r",
    "outputId": "3617be62-cbfe-49c3-e0e9-4a6e0874f4ac",
    "tags": []
   },
   "outputs": [
    {
     "data": {
      "application/vnd.jupyter.widget-view+json": {
       "model_id": "28176e3ab51b447abbb3b44165458d83",
       "version_major": 2,
       "version_minor": 0
      },
      "text/plain": [
       "  0%|          | 0/105339 [00:00<?, ?it/s]"
      ]
     },
     "metadata": {},
     "output_type": "display_data"
    },
    {
     "data": {
      "application/vnd.jupyter.widget-view+json": {
       "model_id": "984a12c9ebc74baebcec8c88ae2ec61b",
       "version_major": 2,
       "version_minor": 0
      },
      "text/plain": [
       "  0%|          | 0/105339 [00:00<?, ?it/s]"
      ]
     },
     "metadata": {},
     "output_type": "display_data"
    },
    {
     "data": {
      "text/plain": [
       "(669, 149533, 105339)"
      ]
     },
     "execution_count": 980,
     "metadata": {},
     "output_type": "execute_result"
    }
   ],
   "source": [
    "#ratings # 105339 users' ratings , 668 different users\n",
    "#movies # 10329 movies\n",
    "rows = np.array(ratings['userId'])\n",
    "cols = np.array(ratings['movieId'])\n",
    "vals = np.array(ratings['rating'])\n",
    "\n",
    "n = rows.max() + 1 # Number of user\n",
    "p = cols.max() + 1# Number of movies\n",
    "N = len(vals) # Number of ratings\n",
    "\n",
    "\n",
    "def binary_search(array , x):\n",
    "    low = 0\n",
    "    high = len(array) - 1\n",
    "    while(high >= low):\n",
    "        mid = int((high + low) / 2)\n",
    "        \n",
    "        if array[mid] == x:\n",
    "            return mid\n",
    "        \n",
    "        elif array[mid] > x:\n",
    "            high = mid - 1\n",
    "            \n",
    "        else:\n",
    "            low = mid + 1\n",
    "\n",
    "    print(\"Element %d not found\" % x)\n",
    "    return -1\n",
    "\n",
    "# Update the arrays rows/cols with the true position instead of the ids \n",
    "for i_user in tqdm(range(len(rows))):\n",
    "    rows[i_user] = binary_search(userIds_available ,  rows[i_user])\n",
    "\n",
    "for i_movie in tqdm(range(len(cols))):\n",
    "    cols[i_movie] = binary_search(movieIds_available , cols[i_movie])\n",
    "\n",
    "n , p , N"
   ]
  },
  {
   "cell_type": "code",
   "execution_count": null,
   "metadata": {
    "id": "f5lmpABEvelb",
    "tags": []
   },
   "outputs": [],
   "source": [
    "# Command for analyse input data matrix \n",
    "movies.head()\n",
    "ratings.head()\n",
    "movies.info()\n",
    "ratings.info()\n",
    "movies.describe()\n",
    "ratings.describe()\n",
    "sns.distplot(ratings['rating'])\n",
    "sns.distplot(ratings['movieId'])\n",
    "sns.scatterplot(data = ratings , x = 'userId' , y = 'movieId' , hue = 'rating')\n",
    "ratings.corr()"
   ]
  },
  {
   "cell_type": "code",
   "execution_count": 1126,
   "metadata": {
    "id": "3MAjyzHuom52"
   },
   "outputs": [],
   "source": [
    "# Shuffle the data\n",
    "indexes = np.arange(N)\n",
    "np.random.seed(154358372) # for reproducibility\n",
    "np.random.shuffle(indexes)\n",
    "indexes\n",
    "# Reordering the arrays\n",
    "rows = rows[indexes]\n",
    "cols = cols[indexes]\n",
    "vals = vals[indexes]"
   ]
  },
  {
   "cell_type": "markdown",
   "metadata": {
    "id": "RhJA61ParQ1d"
   },
   "source": [
    "Building the train set (80%) and the validation set (20%)"
   ]
  },
  {
   "cell_type": "code",
   "execution_count": 1127,
   "metadata": {
    "id": "kiIg-jcNpBZc"
   },
   "outputs": [
    {
     "name": "stdout",
     "output_type": "stream",
     "text": [
      "84271 84271 84271\n"
     ]
    }
   ],
   "source": [
    "# Split data in training and testing\n",
    "num_training = int(N * 0.8)\n",
    "\n",
    "rows_train = rows[:num_training]\n",
    "cols_train = cols[:num_training]\n",
    "vals_train = vals[:num_training]\n",
    "rows_test  = rows[num_training:]\n",
    "cols_test  = cols[num_training:]\n",
    "vals_test  = vals[num_training:]\n",
    "\n",
    "print(len(rows_train) , len(cols_train) , len(vals_train))"
   ]
  },
  {
   "cell_type": "markdown",
   "metadata": {
    "id": "Z6jfWiwBrSqA"
   },
   "source": [
    "Building the matrix with the origina values\n",
    "\n",
    "Building the 'Ratings matrix'\n",
    "Users on the rows and Movies on the columns\n",
    "\n",
    "Initializing all the elements to 0 and then updating position (i,j) with the rating of movie j by user i if it's present"
   ]
  },
  {
   "cell_type": "code",
   "execution_count": 1128,
   "metadata": {
    "id": "FjVM07332FrT"
   },
   "outputs": [
    {
     "name": "stdout",
     "output_type": "stream",
     "text": [
      "[[0. 0. 0. ... 0. 0. 0.]\n",
      " [0. 0. 0. ... 0. 0. 0.]\n",
      " [0. 0. 0. ... 0. 0. 0.]\n",
      " ...\n",
      " [0. 0. 0. ... 0. 0. 0.]\n",
      " [0. 0. 0. ... 0. 0. 0.]\n",
      " [0. 0. 0. ... 0. 0. 0.]]\n",
      "=========================\n",
      "[[0.  0.  0.  ... 0.  0.  0. ]\n",
      " [5.  0.  2.  ... 0.  0.  0. ]\n",
      " [0.  0.  0.  ... 0.  0.  0. ]\n",
      " ...\n",
      " [0.  0.  0.  ... 0.  0.  0. ]\n",
      " [0.  0.  0.  ... 0.  0.  0. ]\n",
      " [3.  3.  2.  ... 0.  4.5 0. ]]\n"
     ]
    }
   ],
   "source": [
    "# Initialize the matrix with all zeros\n",
    "ratings_matrix = np.zeros((len(userIds_available) , len(movieIds_available)))\n",
    "print(ratings_matrix)\n",
    "print(\"=========================\")\n",
    "# Update the matrix with the known values (contained in vals_train array)\n",
    "ratings_matrix[rows_train, cols_train] = vals_train\n",
    "print(ratings_matrix) "
   ]
  },
  {
   "cell_type": "code",
   "execution_count": null,
   "metadata": {
    "colab": {
     "base_uri": "https://localhost:8080/"
    },
    "id": "6Eofsk3o31hp",
    "outputId": "9b4547b2-68a4-467b-9ce5-b3e5ebcb8689"
   },
   "outputs": [],
   "source": [
    "frame = pd.DataFrame(ratings_matrix, index = userIds_available , columns = movieIds_available)\n",
    "print(frame)"
   ]
  },
  {
   "cell_type": "markdown",
   "metadata": {
    "id": "K8TXykDUUygu"
   },
   "source": [
    "Checking if there are users that haven't watched any movie"
   ]
  },
  {
   "cell_type": "code",
   "execution_count": 1129,
   "metadata": {},
   "outputs": [
    {
     "data": {
      "application/vnd.jupyter.widget-view+json": {
       "model_id": "e09cf6fac15643349ef062ff2b55d762",
       "version_major": 2,
       "version_minor": 0
      },
      "text/plain": [
       "  0%|          | 0/668 [00:00<?, ?it/s]"
      ]
     },
     "metadata": {},
     "output_type": "display_data"
    },
    {
     "name": "stdout",
     "output_type": "stream",
     "text": [
      "There are 6815501 missing valuess\n",
      "There are 84271 values inserted\n",
      "There are 6899772 values\n"
     ]
    }
   ],
   "source": [
    "# Count the number of missing values\n",
    "def count_missing_values(matrix):\n",
    "    missing_values = 0\n",
    "\n",
    "    for i_user in tqdm(range(matrix.shape[0])):\n",
    "        for j_movie in range(matrix.shape[1]):\n",
    "            # If the movie in position j_movie hasn't a rating\n",
    "            if matrix[i_user , j_movie] == 0:\n",
    "                missing_values += 1\n",
    "\n",
    "    print(\"There are %d missing valuess\" % (missing_values))\n",
    "    print(\"There are %d values inserted\" % (matrix.shape[0] * matrix.shape[1] - missing_values))\n",
    "    print(\"There are %d values\" % (matrix.shape[0] * matrix.shape[1]))\n",
    "    \n",
    "count_missing_values(ratings_matrix)"
   ]
  },
  {
   "cell_type": "markdown",
   "metadata": {
    "id": "WoA2QL7vz3gr"
   },
   "source": [
    "Building movie-genre correlation matrix M\n",
    "\n",
    "$$\n",
    "M_{i,j} = \n",
    "\\begin{cases}\n",
    "1 & \\text{if movie i is of genre j}\\\\\n",
    "0 & \\text{otherwise}\n",
    "\\end{cases}\n",
    "$$"
   ]
  },
  {
   "cell_type": "code",
   "execution_count": 1130,
   "metadata": {
    "id": "uB4OdENLyn_Q"
   },
   "outputs": [],
   "source": [
    "# Put in a set all the genres available\n",
    "genre_available = set()\n",
    "\n",
    "for i in range(movies.shape[0]):\n",
    "    genres = movies['genres'][i].split('|')\n",
    "    for g in genres: genre_available.add(g)\n",
    "\n",
    "# print(\"All genres available are: \" , id_available , genre_available)"
   ]
  },
  {
   "cell_type": "code",
   "execution_count": 1131,
   "metadata": {
    "colab": {
     "base_uri": "https://localhost:8080/"
    },
    "id": "4MI3Kx7V0txE",
    "outputId": "fd9e033e-5e6c-4cfc-b2e5-72a0d09c1719"
   },
   "outputs": [
    {
     "name": "stdout",
     "output_type": "stream",
     "text": [
      "Max movie id:  149532\n",
      "Number of movies is:  10329\n",
      "Number of genres is:  20\n"
     ]
    }
   ],
   "source": [
    "# Build the matrix\n",
    "num_movies = len(movieIds_available)\n",
    "num_genres = len(genre_available)\n",
    "print(\"Max movie id: \" , max(movies['movieId']))\n",
    "print(\"Number of movies is: \" , num_movies)\n",
    "print(\"Number of genres is: \" , num_genres)\n",
    "# Initialize the matrix with all zeros of int8 type\n",
    "correlation_matrix = np.zeros((num_movies , num_genres) , dtype = np.int8)"
   ]
  },
  {
   "cell_type": "code",
   "execution_count": 1132,
   "metadata": {
    "id": "iLvwYbkS3MNJ"
   },
   "outputs": [
    {
     "data": {
      "application/vnd.jupyter.widget-view+json": {
       "model_id": "54d927a3cad244a6a5368d1697849f7f",
       "version_major": 2,
       "version_minor": 0
      },
      "text/plain": [
       "  0%|          | 0/10329 [00:00<?, ?it/s]"
      ]
     },
     "metadata": {},
     "output_type": "display_data"
    }
   ],
   "source": [
    "# Update the table with the correspondance\n",
    "for i in tqdm(range(movies.shape[0])):\n",
    "    id = movies['movieId'][i]\n",
    "    # Take the right position in the matrix\n",
    "    id = movieIds_available.index(id)\n",
    "\n",
    "    genres = movies['genres'][i].split('|')\n",
    "    for pos , g in enumerate(genre_available):\n",
    "        if g in genres:\n",
    "            correlation_matrix[id , pos] = 1"
   ]
  },
  {
   "cell_type": "code",
   "execution_count": null,
   "metadata": {
    "colab": {
     "base_uri": "https://localhost:8080/"
    },
    "id": "oSNhv6KVHs0g",
    "outputId": "83274e56-8675-4edd-bccc-4ceaff035b1d"
   },
   "outputs": [],
   "source": [
    "frame = pd.DataFrame(correlation_matrix, index = movieIds_available , columns = genre_available)\n",
    "print(frame)"
   ]
  },
  {
   "cell_type": "markdown",
   "metadata": {
    "id": "-pjZ2GqVQYfs"
   },
   "source": [
    "Next step:\n",
    "create a movie-movie matrix to find similiar movies: movies which covers the same genres"
   ]
  },
  {
   "cell_type": "code",
   "execution_count": 1135,
   "metadata": {
    "colab": {
     "base_uri": "https://localhost:8080/"
    },
    "id": "RAOfoYWNvUHx",
    "outputId": "dc477a3e-b286-4683-bb50-592bb1a695c7"
   },
   "outputs": [],
   "source": [
    "def cosine_similarity(vector1 , vector2):\n",
    "    \"\"\"\n",
    "    vector1 and vector2 are rows of correlation_matrix or of ratings_matrix\n",
    "    \"\"\"\n",
    "    return np.dot(vector1, vector2)/(np.linalg.norm(vector1) * np.linalg.norm(vector2))\n",
    "\n",
    "def cosine_similarity_users(vector1 , vector2):\n",
    "    '''\n",
    "    Apply this similarity between users -> want to find similar behaviour in rating common movies and then\n",
    "        use it for movies that one of the two hasn't watched yet, not use them here\n",
    "    vector1 and vector2 are vector containing ratings of two users \n",
    "    '''\n",
    "    common_vector1 = []\n",
    "    common_vector2 = []\n",
    "    \n",
    "    # Take just the movies rated in both the array to find a similarity between the two users\n",
    "    for i in range(len(vector1)):\n",
    "        if vector1[i] != 0 and vector2[i] != 0:\n",
    "            common_vector1.append(vector1[i])\n",
    "            common_vector2.append(vector2[i])\n",
    "    # If the two vectors(users) has at least 5 common ratings\n",
    "    if len(common_vector1) > 5:\n",
    "        # Calculate the cosine similarity\n",
    "        return np.dot(common_vector1, common_vector2)/(np.linalg.norm(common_vector1) * np.linalg.norm(common_vector2))\n",
    "    else:\n",
    "        return 0"
   ]
  },
  {
   "cell_type": "code",
   "execution_count": 1140,
   "metadata": {},
   "outputs": [
    {
     "data": {
      "application/vnd.jupyter.widget-view+json": {
       "model_id": "0f4a8ee705f04b59994e95681cb49a35",
       "version_major": 2,
       "version_minor": 0
      },
      "text/plain": [
       "  0%|          | 0/10329 [00:00<?, ?it/s]"
      ]
     },
     "metadata": {},
     "output_type": "display_data"
    },
    {
     "data": {
      "application/vnd.jupyter.widget-view+json": {
       "model_id": "4ff8f863baa44eb99ce46e996690b5a8",
       "version_major": 2,
       "version_minor": 0
      },
      "text/plain": [
       "  0%|          | 0/162 [00:00<?, ?it/s]"
      ]
     },
     "metadata": {},
     "output_type": "display_data"
    },
    {
     "data": {
      "application/vnd.jupyter.widget-view+json": {
       "model_id": "3c09eaecf0fd42238a74cd2341584498",
       "version_major": 2,
       "version_minor": 0
      },
      "text/plain": [
       "  0%|          | 0/52 [00:00<?, ?it/s]"
      ]
     },
     "metadata": {},
     "output_type": "display_data"
    },
    {
     "data": {
      "application/vnd.jupyter.widget-view+json": {
       "model_id": "2c02cefce6ea45c5a4fe3d86a512b813",
       "version_major": 2,
       "version_minor": 0
      },
      "text/plain": [
       "  0%|          | 0/22 [00:00<?, ?it/s]"
      ]
     },
     "metadata": {},
     "output_type": "display_data"
    },
    {
     "data": {
      "application/vnd.jupyter.widget-view+json": {
       "model_id": "532eb402a75d42418819cb604d88ceeb",
       "version_major": 2,
       "version_minor": 0
      },
      "text/plain": [
       "  0%|          | 0/11 [00:00<?, ?it/s]"
      ]
     },
     "metadata": {},
     "output_type": "display_data"
    },
    {
     "data": {
      "application/vnd.jupyter.widget-view+json": {
       "model_id": "86e8c3b476474d2eb1673f170438e5c7",
       "version_major": 2,
       "version_minor": 0
      },
      "text/plain": [
       "  0%|          | 0/5 [00:00<?, ?it/s]"
      ]
     },
     "metadata": {},
     "output_type": "display_data"
    },
    {
     "data": {
      "application/vnd.jupyter.widget-view+json": {
       "model_id": "f90b1d5d0bef49c1829208f2f93d6c9c",
       "version_major": 2,
       "version_minor": 0
      },
      "text/plain": [
       "  0%|          | 0/2 [00:00<?, ?it/s]"
      ]
     },
     "metadata": {},
     "output_type": "display_data"
    },
    {
     "data": {
      "application/vnd.jupyter.widget-view+json": {
       "model_id": "459138bd780441259927bc04e5f7b455",
       "version_major": 2,
       "version_minor": 0
      },
      "text/plain": [
       "  0%|          | 0/1 [00:00<?, ?it/s]"
      ]
     },
     "metadata": {},
     "output_type": "display_data"
    },
    {
     "name": "stdout",
     "output_type": "stream",
     "text": [
      "Number of cluster is:  261\n"
     ]
    }
   ],
   "source": [
    "# Creating clusters for movies\n",
    "movie_cluster = {}\n",
    "threshold = 0.7\n",
    "index_cluster = {}\n",
    "movieIds_copy = movieIds_available.copy()\n",
    "\n",
    "num_cluster = 0\n",
    "while len(movieIds_copy) > 0:\n",
    "    for id_x in tqdm(movieIds_copy):\n",
    "        list_movies = []\n",
    "        index_cluster[id_x] = num_cluster\n",
    "        list_movies.append(id_x)\n",
    "        for id_y in movieIds_copy:\n",
    "            if id_x != id_y:\n",
    "                sim = cosine_similarity(correlation_matrix[movieIds_available.index(id_x)], correlation_matrix[movieIds_available.index(id_y)])\n",
    "                if sim>= threshold:\n",
    "                    index_cluster[id_y] = num_cluster\n",
    "                    list_movies.append(id_y)\n",
    "                    movieIds_copy.remove(id_y)\n",
    "        movieIds_copy.remove(id_x)\n",
    "        movie_cluster[num_cluster] = list_movies\n",
    "        num_cluster += 1\n",
    "    \n",
    "print(\"Number of cluster is: \" , num_cluster)"
   ]
  },
  {
   "cell_type": "code",
   "execution_count": 1141,
   "metadata": {},
   "outputs": [
    {
     "data": {
      "application/vnd.jupyter.widget-view+json": {
       "model_id": "7bc334a38bed422eaf89dc2c9e48802a",
       "version_major": 2,
       "version_minor": 0
      },
      "text/plain": [
       "  0%|          | 0/668 [00:00<?, ?it/s]"
      ]
     },
     "metadata": {},
     "output_type": "display_data"
    },
    {
     "data": {
      "application/vnd.jupyter.widget-view+json": {
       "model_id": "ebb0dc7ad9fd49bfa57786e2cc562838",
       "version_major": 2,
       "version_minor": 0
      },
      "text/plain": [
       "  0%|          | 0/84 [00:00<?, ?it/s]"
      ]
     },
     "metadata": {},
     "output_type": "display_data"
    },
    {
     "data": {
      "application/vnd.jupyter.widget-view+json": {
       "model_id": "3a6f14e505a948afa253e58961ec77c8",
       "version_major": 2,
       "version_minor": 0
      },
      "text/plain": [
       "  0%|          | 0/37 [00:00<?, ?it/s]"
      ]
     },
     "metadata": {},
     "output_type": "display_data"
    },
    {
     "data": {
      "application/vnd.jupyter.widget-view+json": {
       "model_id": "78f1a10245c84f2abcb5b5233040342d",
       "version_major": 2,
       "version_minor": 0
      },
      "text/plain": [
       "  0%|          | 0/17 [00:00<?, ?it/s]"
      ]
     },
     "metadata": {},
     "output_type": "display_data"
    },
    {
     "data": {
      "application/vnd.jupyter.widget-view+json": {
       "model_id": "146c8ca053b24b61941987538539ffdb",
       "version_major": 2,
       "version_minor": 0
      },
      "text/plain": [
       "  0%|          | 0/8 [00:00<?, ?it/s]"
      ]
     },
     "metadata": {},
     "output_type": "display_data"
    },
    {
     "data": {
      "application/vnd.jupyter.widget-view+json": {
       "model_id": "915414b342274ca2bbbd0780af10bd4f",
       "version_major": 2,
       "version_minor": 0
      },
      "text/plain": [
       "  0%|          | 0/4 [00:00<?, ?it/s]"
      ]
     },
     "metadata": {},
     "output_type": "display_data"
    },
    {
     "data": {
      "application/vnd.jupyter.widget-view+json": {
       "model_id": "f722abf7941343fb84f1ed6171fd0097",
       "version_major": 2,
       "version_minor": 0
      },
      "text/plain": [
       "  0%|          | 0/2 [00:00<?, ?it/s]"
      ]
     },
     "metadata": {},
     "output_type": "display_data"
    },
    {
     "data": {
      "application/vnd.jupyter.widget-view+json": {
       "model_id": "00a9883a26ff4f9a8f50b2e0f6263f47",
       "version_major": 2,
       "version_minor": 0
      },
      "text/plain": [
       "  0%|          | 0/1 [00:00<?, ?it/s]"
      ]
     },
     "metadata": {},
     "output_type": "display_data"
    },
    {
     "name": "stdout",
     "output_type": "stream",
     "text": [
      "Number of cluster is:  158\n"
     ]
    }
   ],
   "source": [
    "# Creating clusters for users\n",
    "users_cluster = {}\n",
    "threshold = 0.95\n",
    "user_index_cluster = {}\n",
    "userIds_copy = userIds_available.copy()\n",
    "\n",
    "num_cluster = 0\n",
    "while len(userIds_copy) > 0:\n",
    "    for id_x in tqdm(userIds_copy):\n",
    "        list_users = []\n",
    "        user_index_cluster[id_x] = num_cluster\n",
    "        list_users.append(id_x)\n",
    "        for id_y in userIds_copy:\n",
    "            # If it's not the same user\n",
    "            if id_x != id_y:\n",
    "                # Calculate the cosine similarity\n",
    "                sim = cosine_similarity_users(ratings_matrix[userIds_available.index(id_x)], \n",
    "                                              ratings_matrix[userIds_available.index(id_y)])\n",
    "                # If they are similar enough\n",
    "                if sim >= threshold:\n",
    "                    user_index_cluster[id_y] = num_cluster\n",
    "                    list_users.append(id_y)\n",
    "                    userIds_copy.remove(id_y)\n",
    "        userIds_copy.remove(id_x)\n",
    "        users_cluster[num_cluster] = list_users\n",
    "        num_cluster += 1\n",
    "    \n",
    "print(\"Number of cluster is: \" , num_cluster)"
   ]
  },
  {
   "cell_type": "code",
   "execution_count": 1142,
   "metadata": {
    "id": "hLDTPLstktw3"
   },
   "outputs": [],
   "source": [
    "# Order each sublist of the dictionaries\n",
    "for key , value in movie_cluster.items():\n",
    "    new_value = value\n",
    "    new_value.sort()\n",
    "    movie_cluster[key] = new_value\n",
    "    \n",
    "for key , value in users_cluster.items():\n",
    "    new_value = value\n",
    "    new_value.sort()\n",
    "    users_cluster[key] = new_value"
   ]
  },
  {
   "cell_type": "code",
   "execution_count": 1143,
   "metadata": {},
   "outputs": [],
   "source": [
    "# Array that contains the position of each ratings (used as mapping)\n",
    "ratings_position_array = list([0.5 , 1 , 1.5 , 2 , 2.5 , 3 , 3.5 , 4 , 4.5 , 5])\n",
    "\n",
    "def get_rating_to_assign(array):\n",
    "    # Find the max count\n",
    "    max_rating_count = 0\n",
    "    count_of_ratings = 0\n",
    "    for i in range(len(array)):\n",
    "        count_of_ratings += array[i]\n",
    "        if array[i] > max_rating_count:\n",
    "            max_rating_count = array[i]\n",
    "        \n",
    "    # If there aren't ratings\n",
    "    if count_of_ratings < 3:\n",
    "        return 0\n",
    "            \n",
    "    # Fill the list with the maximum ratings\n",
    "    list_of_max = set()\n",
    "    for i in range(len(array)):\n",
    "        if array[i] == max_rating_count:\n",
    "            list_of_max.add(ratings_position_array[i])\n",
    "    \n",
    "    if len(list_of_max) == 0:\n",
    "        return 0\n",
    "            \n",
    "    # Calculate the avg between the ratings that appear more\n",
    "    rating = 0\n",
    "    for r in list_of_max:\n",
    "        rating += r\n",
    "    \n",
    "    return rating / len(list_of_max)"
   ]
  },
  {
   "cell_type": "code",
   "execution_count": 1144,
   "metadata": {},
   "outputs": [
    {
     "data": {
      "application/vnd.jupyter.widget-view+json": {
       "model_id": "0cee25d0f37a4db2a33b2f0d7f343699",
       "version_major": 2,
       "version_minor": 0
      },
      "text/plain": [
       "  0%|          | 0/668 [00:00<?, ?it/s]"
      ]
     },
     "metadata": {},
     "output_type": "display_data"
    },
    {
     "name": "stdout",
     "output_type": "stream",
     "text": [
      "877403\n"
     ]
    }
   ],
   "source": [
    "# Filling matrix with some ratings due to user similarities\n",
    "partial_ratings_matrix = ratings_matrix.copy() # to maintain the original\n",
    "num_of_predicted_value = 0\n",
    "\n",
    "for i_user in tqdm(range(partial_ratings_matrix.shape[0])):\n",
    "    # Take the cluster key for the user\n",
    "    cluster = user_index_cluster[userIds_available[i_user]]\n",
    "    # Take all the similar users\n",
    "    sim_users_ids = users_cluster[cluster]\n",
    "    \n",
    "    # If there is at least a similar user\n",
    "    if len(sim_users_ids) > 1:\n",
    "        \n",
    "        for j_movie in range(partial_ratings_matrix.shape[1]):\n",
    "            # If the user hasn't watched the movie yet\n",
    "            if ratings_matrix[i_user , j_movie] == 0:\n",
    "                # For each movie calculate the most common rating and assing it\n",
    "                # Array that will contains the sum of all the different ratings the movie received\n",
    "                ratings_array = np.zeros(10)\n",
    "                pos = 0\n",
    "                for user_id in sim_users_ids: \n",
    "                    # Take the row corresponding to the user\n",
    "                    pos = userIds_available.index(user_id , pos)\n",
    "\n",
    "                    # If the similar user has watched it\n",
    "                    if ratings_matrix[pos , j_movie] != 0:\n",
    "                        position_in_array = ratings_position_array.index(ratings_matrix[pos , j_movie])\n",
    "                        ratings_array[position_in_array] += 1\n",
    "                \n",
    "                rating = get_rating_to_assign(ratings_array)\n",
    "                if rating > 0:\n",
    "                    partial_ratings_matrix[i_user , j_movie] = rating\n",
    "                    num_of_predicted_value += 1\n",
    "            \n",
    "print(num_of_predicted_value)"
   ]
  },
  {
   "cell_type": "code",
   "execution_count": 1158,
   "metadata": {},
   "outputs": [
    {
     "data": {
      "application/vnd.jupyter.widget-view+json": {
       "model_id": "9fc58a9ebf944083b9858d07af65dfc0",
       "version_major": 2,
       "version_minor": 0
      },
      "text/plain": [
       "  0%|          | 0/668 [00:00<?, ?it/s]"
      ]
     },
     "metadata": {},
     "output_type": "display_data"
    },
    {
     "name": "stdout",
     "output_type": "stream",
     "text": [
      "2235429\n"
     ]
    }
   ],
   "source": [
    "# Other possibility\n",
    "\n",
    "# Filling matrix with some ratings due to user similarities\n",
    "partial_ratings_matrix = ratings_matrix.copy() # to maintain the original\n",
    "num_of_predicted_value = 0\n",
    "\n",
    "for i_user in tqdm(range(partial_ratings_matrix.shape[0])):\n",
    "    # Take the cluster key for the user\n",
    "    cluster = user_index_cluster[userIds_available[i_user]]\n",
    "    # Take all the similar users\n",
    "    sim_users_ids = users_cluster[cluster]\n",
    "    \n",
    "    # If there is at least a similar user\n",
    "    if len(sim_users_ids) > 1:\n",
    "        \n",
    "        for j_movie in range(partial_ratings_matrix.shape[1]):\n",
    "            # If the user hasn't watched the movie yet\n",
    "            if ratings_matrix[i_user , j_movie] == 0:\n",
    "                # For each movie calculate the avg rating given by similar users\n",
    "                ratings_sum = 0\n",
    "                total_contributions = 0\n",
    "\n",
    "                pos = 0\n",
    "                for user_id in sim_users_ids: \n",
    "                    # Take the row corresponding to the user\n",
    "                    pos = userIds_available.index(user_id , pos)\n",
    "\n",
    "                    # If the similar user has watched it\n",
    "                    if ratings_matrix[pos , j_movie] != 0:\n",
    "                        ratings_sum += ratings_matrix[pos , j_movie]\n",
    "                        total_contributions += 1\n",
    "\n",
    "                # If at least a similar user has watched the movie\n",
    "                if total_contributions > 0:\n",
    "                    average = ratings_sum / total_contributions\n",
    "                    partial_ratings_matrix[i_user , j_movie] = average\n",
    "                    num_of_predicted_value += 1\n",
    "            \n",
    "print(num_of_predicted_value)"
   ]
  },
  {
   "cell_type": "code",
   "execution_count": 1159,
   "metadata": {},
   "outputs": [
    {
     "data": {
      "application/vnd.jupyter.widget-view+json": {
       "model_id": "3c4d9c64704c4f2f8e8ced4712bdf070",
       "version_major": 2,
       "version_minor": 0
      },
      "text/plain": [
       "  0%|          | 0/668 [00:00<?, ?it/s]"
      ]
     },
     "metadata": {},
     "output_type": "display_data"
    },
    {
     "name": "stdout",
     "output_type": "stream",
     "text": [
      "There are 4580072 missing valuess\n",
      "There are 2319700 values inserted\n",
      "There are 6899772 values\n"
     ]
    }
   ],
   "source": [
    "# Count the number of missing values\n",
    "count_missing_values(partial_ratings_matrix)"
   ]
  },
  {
   "cell_type": "code",
   "execution_count": 1168,
   "metadata": {},
   "outputs": [
    {
     "data": {
      "application/vnd.jupyter.widget-view+json": {
       "model_id": "2b040b7f48f246f597d8b34cc6b2e59a",
       "version_major": 2,
       "version_minor": 0
      },
      "text/plain": [
       "  0%|          | 0/668 [00:00<?, ?it/s]"
      ]
     },
     "metadata": {},
     "output_type": "display_data"
    },
    {
     "name": "stdout",
     "output_type": "stream",
     "text": [
      "3078910\n"
     ]
    }
   ],
   "source": [
    "# Filling matrix with some ratings due to content similarities\n",
    "possible_ratings_matrix = partial_ratings_matrix.copy() # to maintain the original\n",
    "num_of_predicted_value = 0\n",
    "\n",
    "for i_user in tqdm(range(possible_ratings_matrix.shape[0])):\n",
    "    for j_movie in range(possible_ratings_matrix.shape[1]):\n",
    "        # If user i_user has whatched and rated movie j_movie\n",
    "        if ratings_matrix[i_user , j_movie] >= 0.5: # toDo: use partial_ratings_matrix\n",
    "            # Take movies similar to j_movie\n",
    "            cluster = index_cluster[movieIds_available[j_movie]]\n",
    "            sim_movies_ids = movie_cluster[cluster]\n",
    "            # Calculate the avg rating for the cluster\n",
    "            \n",
    "            pos = 0\n",
    "            ratings_sum = 0\n",
    "            elements_in_sum = 0\n",
    "            movie_to_rate = list()\n",
    "            for movie_id in sim_movies_ids:\n",
    "                # Take the position in the matrix of that movie\n",
    "                pos = movieIds_available.index(movie_id , pos)\n",
    "                \n",
    "                # If the movie doesn't have a rate\n",
    "                if ratings_matrix[i_user , pos] == 0:\n",
    "                    # Add in the new list\n",
    "                    movie_to_rate.append(pos)\n",
    "                else:\n",
    "                    # Sum the rate for the avg\n",
    "                    ratings_sum += ratings_matrix[i_user , pos]\n",
    "                    elements_in_sum += 1\n",
    "                \n",
    "            # If there is at least a rating\n",
    "            if elements_in_sum > 0:\n",
    "                rating = ratings_sum / elements_in_sum\n",
    "            else:\n",
    "                continue\n",
    "\n",
    "            # For all the movies in the cluster that hasn't been rated yet, insert the cluster's average\n",
    "            for movie_pos in movie_to_rate:\n",
    "                if possible_ratings_matrix[i_user , movie_pos] == 0:\n",
    "                    possible_ratings_matrix[i_user , movie_pos] = rating\n",
    "                    num_of_predicted_value += 1\n",
    "                        \n",
    "print(num_of_predicted_value)"
   ]
  },
  {
   "cell_type": "code",
   "execution_count": 1169,
   "metadata": {},
   "outputs": [
    {
     "data": {
      "application/vnd.jupyter.widget-view+json": {
       "model_id": "39fc1efa4cb749488020fc1da962766a",
       "version_major": 2,
       "version_minor": 0
      },
      "text/plain": [
       "  0%|          | 0/668 [00:00<?, ?it/s]"
      ]
     },
     "metadata": {},
     "output_type": "display_data"
    },
    {
     "name": "stdout",
     "output_type": "stream",
     "text": [
      "There are 1501162 missing valuess\n",
      "There are 5398610 values inserted\n",
      "There are 6899772 values\n"
     ]
    }
   ],
   "source": [
    "# Count the number of missing values\n",
    "count_missing_values(possible_ratings_matrix)"
   ]
  },
  {
   "cell_type": "code",
   "execution_count": 1001,
   "metadata": {},
   "outputs": [],
   "source": [
    "# Content + collaborative filtering\n",
    "#np.savetxt('content_collaborative_filterting_matrix.csv' , possible_ratings_matrix , delimiter = ',' , fmt = '%1.1f')"
   ]
  },
  {
   "cell_type": "code",
   "execution_count": 364,
   "metadata": {},
   "outputs": [],
   "source": [
    "# Content + collaborative filtering\n",
    "#possible_ratings_matrix = np.loadtxt('content_collaborative_filterting_matrix.csv', delimiter=',')"
   ]
  },
  {
   "cell_type": "code",
   "execution_count": 1162,
   "metadata": {},
   "outputs": [
    {
     "name": "stdout",
     "output_type": "stream",
     "text": [
      "[[0.  0.  0.  ... 0.  0.  0. ]\n",
      " [5.  0.  2.  ... 0.  0.  0. ]\n",
      " [0.  0.  0.  ... 0.  0.  0. ]\n",
      " ...\n",
      " [0.  0.  0.  ... 0.  0.  0. ]\n",
      " [0.  0.  0.  ... 0.  0.  0. ]\n",
      " [3.  3.  2.  ... 0.  4.5 0. ]]\n",
      "===============================\n",
      "[[3.625      3.625      2.91666667 ... 0.5        2.8        0.        ]\n",
      " [5.         4.5        2.         ... 0.         4.5        0.        ]\n",
      " [3.         3.         3.93333333 ... 4.         3.66666667 0.        ]\n",
      " ...\n",
      " [2.875      2.875      2.84210526 ... 2.25       3.6969697  0.        ]\n",
      " [4.         4.         3.69230769 ... 3.5        4.         0.        ]\n",
      " [3.         3.         2.         ... 2.54166667 4.5        0.        ]]\n"
     ]
    }
   ],
   "source": [
    "print(ratings_matrix)\n",
    "print(\"===============================\")\n",
    "print(possible_ratings_matrix)"
   ]
  },
  {
   "cell_type": "markdown",
   "metadata": {
    "id": "VThu3D-rlIgf"
   },
   "source": [
    "# Singular value truncation (SVT) based recommender system"
   ]
  },
  {
   "cell_type": "code",
   "execution_count": 1170,
   "metadata": {},
   "outputs": [
    {
     "data": {
      "application/vnd.jupyter.widget-view+json": {
       "model_id": "0be182f86e374870ae1acee5fc063421",
       "version_major": 2,
       "version_minor": 0
      },
      "text/plain": [
       "  0%|          | 0/21068 [00:00<?, ?it/s]"
      ]
     },
     "metadata": {},
     "output_type": "display_data"
    },
    {
     "name": "stdout",
     "output_type": "stream",
     "text": [
      "(1.0143194119082763, 0.36818728985128846)\n",
      "At this stage 20386 values have already been predicted\n",
      "True positive:  14656\n",
      "True positive + false positive:  17040\n",
      "True positive + false negative:  16640\n",
      "Precision:  0.860093896713615\n",
      "Recall:  0.8807692307692307\n"
     ]
    },
    {
     "data": {
      "text/plain": [
       "0.8703087885985749"
      ]
     },
     "execution_count": 1170,
     "metadata": {},
     "output_type": "execute_result"
    }
   ],
   "source": [
    "# Aanalyzing the errors/precision/recall/f1 score after the prediction of the ratings predicted only\n",
    "rows_test_limited = list()\n",
    "cols_test_limited = list()\n",
    "vals_test_limited = list()\n",
    "\n",
    "def analyze_starting_errors():\n",
    "    for i in tqdm(range(len(rows_test))):\n",
    "        # Add just the position filled with the algortithm\n",
    "        if possible_ratings_matrix[rows_test[i]][cols_test[i]] != 0:\n",
    "            rows_test_limited.append(rows_test[i])\n",
    "            cols_test_limited.append(cols_test[i])\n",
    "            vals_test_limited.append(vals_test[i])\n",
    "            \n",
    "    vals_pred_limited = possible_ratings_matrix[rows_test_limited, cols_test_limited]\n",
    "    err = vals_test_limited - vals_pred_limited\n",
    "    RMSE = np.sqrt(np.mean(err**2))\n",
    "    rho = pearsonr(vals_test_limited, vals_pred_limited)[0]\n",
    "    \n",
    "    return RMSE , rho\n",
    "\n",
    "# Perform some evaluations\n",
    "def precision_and_recall_initial_state():\n",
    "    total_recommended = 0 # true positive + false negative\n",
    "    predicted_recommended_items = 0 # true positive + false positive\n",
    "    predicted_true_recommended_items = 0 # true positive\n",
    "    # A movie is recommended if it's rating is greater than this value\n",
    "    recommendation_value = 3\n",
    "    for i in range(len(rows_test_limited)):\n",
    "        true_rating = vals_test_limited[i]\n",
    "        predicted_value = possible_ratings_matrix[rows_test_limited[i]][cols_test_limited[i]]\n",
    "        # Calculate true positive\n",
    "        if true_rating >= recommendation_value: \n",
    "            total_recommended += 1\n",
    "            if predicted_value >= recommendation_value:\n",
    "                predicted_true_recommended_items += 1\n",
    "        # Calculate true positive + false positive\n",
    "        if predicted_value >= recommendation_value:\n",
    "            predicted_recommended_items += 1\n",
    "                \n",
    "    print(\"True positive: \" , predicted_true_recommended_items)\n",
    "    print(\"True positive + false positive: \" , predicted_recommended_items)\n",
    "    print(\"True positive + false negative: \" , total_recommended)\n",
    "    precision = predicted_true_recommended_items / predicted_recommended_items\n",
    "    recall = predicted_true_recommended_items / total_recommended\n",
    "    print(\"Precision: \" , precision)\n",
    "    print(\"Recall: \" , recall)\n",
    "    return precision , recall\n",
    "\n",
    "def F1_measure(precision_value , recall_value):\n",
    "    return 2 * precision_value * recall_value / ( precision_value + recall_value)\n",
    "\n",
    "print(analyze_starting_errors()) \n",
    "print(\"At this stage %d values have already been predicted\" % len(rows_test_limited))\n",
    "precision , recall = precision_and_recall_initial_state()\n",
    "F1_measure(precision , recall)"
   ]
  },
  {
   "cell_type": "code",
   "execution_count": null,
   "metadata": {},
   "outputs": [],
   "source": [
    "'''\n",
    "    movie 0.7\n",
    "        RMSE: 0.979\n",
    "        rh0: 0.418\n",
    "\n",
    "        True positive: 14555\n",
    "        True positivie + False positive: 16835\n",
    "        True positive + fate negative: 16566\n",
    "        Precision: 0.865\n",
    "        Recall:    0.879\n",
    "        F-1 score: 0.872  \n",
    "\n",
    "    movie 0.9\n",
    "        RMSE: 1.012\n",
    "        rho: 0.409\n",
    "\n",
    "        True positive: 13754\n",
    "        True positivie + False positive: 15821\n",
    "        True positive + fate negative: 15774\n",
    "        Precision: 0.869\n",
    "        Recall:    0.872\n",
    "        F-1 score: 0.871    \n",
    "'''"
   ]
  },
  {
   "cell_type": "code",
   "execution_count": 1171,
   "metadata": {},
   "outputs": [
    {
     "data": {
      "application/vnd.jupyter.widget-view+json": {
       "model_id": "d63a586b680040159e04fa9d2e41088d",
       "version_major": 2,
       "version_minor": 0
      },
      "text/plain": [
       "  0%|          | 0/668 [00:00<?, ?it/s]"
      ]
     },
     "metadata": {},
     "output_type": "display_data"
    },
    {
     "name": "stdout",
     "output_type": "stream",
     "text": [
      "Saved 5398610 values\n"
     ]
    }
   ],
   "source": [
    "# Reconstruct rows_train, cols_train, vals_train with all the value of the input + already predicted values\n",
    "counter = 0\n",
    "rows_train_updated = list()\n",
    "cols_train_updated = list()\n",
    "vals_train_updated = list()\n",
    "for i_user in tqdm(range(possible_ratings_matrix.shape[0])):\n",
    "    for j_movie in range(possible_ratings_matrix.shape[1]):\n",
    "        # If it is a default or predicted value, save the position\n",
    "        if possible_ratings_matrix[i_user][j_movie] != 0:\n",
    "            rows_train_updated.append(i_user)\n",
    "            cols_train_updated.append(j_movie)\n",
    "            vals_train_updated.append(possible_ratings_matrix[i_user][j_movie])\n",
    "            counter += 1\n",
    "print(\"Saved %d values\" % counter)"
   ]
  },
  {
   "cell_type": "code",
   "execution_count": 1172,
   "metadata": {},
   "outputs": [],
   "source": [
    "def errors():\n",
    "    vals_pred = X_hat[rows_test, cols_test]\n",
    "    err = vals_test - vals_pred\n",
    "    RMSE = np.sqrt(np.mean(err**2))\n",
    "    rho = pearsonr(vals_test, vals_pred)[0]\n",
    "    \n",
    "    return RMSE , rho"
   ]
  },
  {
   "cell_type": "code",
   "execution_count": null,
   "metadata": {},
   "outputs": [],
   "source": [
    "# errors_jit = jax.jit(errors)"
   ]
  },
  {
   "cell_type": "code",
   "execution_count": 1173,
   "metadata": {
    "id": "nk3shAEo6OWu"
   },
   "outputs": [
    {
     "data": {
      "application/vnd.jupyter.widget-view+json": {
       "model_id": "cbcbd6d66a94404b9c91d600af1b0992",
       "version_major": 2,
       "version_minor": 0
      },
      "text/plain": [
       "  0%|          | 0/100 [00:00<?, ?it/s]"
      ]
     },
     "metadata": {},
     "output_type": "display_data"
    },
    {
     "name": "stdout",
     "output_type": "stream",
     "text": [
      "================== iter 10 - theshold 182.79 - increment 1.286e+02\n",
      "RMSE: 1.026\n",
      "rho : 0.365\n",
      "precision: 0.860\n",
      "recall: 0.871\n",
      "F1-score: 0.865\n",
      "================== iter 20 - theshold 165.39 - increment 3.179e+01\n",
      "RMSE: 1.022\n",
      "rho : 0.368\n",
      "precision: 0.860\n",
      "recall: 0.876\n",
      "F1-score: 0.868\n",
      "================== iter 30 - theshold 149.65 - increment 1.110e+01\n",
      "RMSE: 1.021\n",
      "rho : 0.369\n",
      "precision: 0.860\n",
      "recall: 0.877\n",
      "F1-score: 0.868\n",
      "================== iter 40 - theshold 135.41 - increment 6.181e+00\n",
      "RMSE: 1.021\n",
      "rho : 0.369\n",
      "precision: 0.860\n",
      "recall: 0.877\n",
      "F1-score: 0.868\n",
      "================== iter 50 - theshold 122.53 - increment 4.387e+00\n",
      "RMSE: 1.021\n",
      "rho : 0.369\n",
      "precision: 0.860\n",
      "recall: 0.877\n",
      "F1-score: 0.868\n",
      "================== iter 60 - theshold 110.87 - increment 3.606e+00\n",
      "RMSE: 1.021\n",
      "rho : 0.369\n",
      "precision: 0.860\n",
      "recall: 0.877\n",
      "F1-score: 0.868\n",
      "================== iter 70 - theshold 100.32 - increment 3.203e+00\n",
      "RMSE: 1.020\n",
      "rho : 0.369\n",
      "precision: 0.860\n",
      "recall: 0.877\n",
      "F1-score: 0.868\n",
      "================== iter 80 - theshold 90.77 - increment 2.934e+00\n",
      "RMSE: 1.020\n",
      "rho : 0.369\n",
      "precision: 0.860\n",
      "recall: 0.877\n",
      "F1-score: 0.868\n",
      "================== iter 90 - theshold 82.13 - increment 2.766e+00\n",
      "RMSE: 1.020\n",
      "rho : 0.369\n",
      "precision: 0.860\n",
      "recall: 0.877\n",
      "F1-score: 0.868\n",
      "================== iter 100 - theshold 74.32 - increment 2.605e+00\n",
      "RMSE: 1.020\n",
      "rho : 0.369\n",
      "precision: 0.860\n",
      "recall: 0.877\n",
      "F1-score: 0.868\n"
     ]
    }
   ],
   "source": [
    "# SVT before with the empty matrix , now check the rank, maybe it's low\n",
    "n_max_iter = 100\n",
    "\n",
    "increment_tol = 1e-1\n",
    "\n",
    "# Threshold parameters\n",
    "a = 0.01\n",
    "b = 200\n",
    "\n",
    "RMSE_list = list()\n",
    "rho_list = list()\n",
    "precision_list = list()\n",
    "recall_list = list()\n",
    "f1_score_list = list()\n",
    "\n",
    "X_hat = possible_ratings_matrix\n",
    "\n",
    "for k in tqdm(range(n_max_iter)):\n",
    "    X_old = X_hat.copy()\n",
    "    \n",
    "    # Calculating the SVD of the current matrix\n",
    "    U,s,VT = np.linalg.svd(X_hat, full_matrices=False)\n",
    "\n",
    "    # Update the threshold\n",
    "    threshold = b * np.exp(-k * a)\n",
    "    \n",
    "    s[s > 0] = s[s > 0] - threshold\n",
    "    s[s < 0] = 0\n",
    "\n",
    "    # Calculating the new matrix trough SVD\n",
    "    X_hat = U @ np.diag(s) @ VT\n",
    "    \n",
    "    # Maintain the default values\n",
    "    X_hat[rows_train_updated,cols_train_updated] = vals_train_updated\n",
    "    \n",
    "    # Some negative values could appear -> set to 0\n",
    "    X_hat[X_hat < 0] = 0\n",
    "\n",
    "    # Calculate the increment -> how much the new matrix is different from the previuos one\n",
    "    increment = np.linalg.norm(X_hat - X_old) \n",
    "\n",
    "    if k % 10 == 9:\n",
    "        # Calculate the errors\n",
    "        RMSE , rho = errors()\n",
    "        # Add the errors in the lists\n",
    "        RMSE_list.append(RMSE)\n",
    "        rho_list.append(rho)\n",
    "        precision , recall = precision_and_recall()\n",
    "        f1_score = F1_measure(precision , recall)\n",
    "        \n",
    "        precision_list.append(precision)\n",
    "        recall_list.append(recall)\n",
    "        f1_score_list.append(f1_score)\n",
    "        # Show the errors\n",
    "        print('================== iter %d - theshold %1.2f - increment %1.3e' % (k+1, threshold, increment))\n",
    "        print('RMSE: %1.3f' % RMSE)\n",
    "        print('rho : %1.3f' % rho)\n",
    "        print('precision: %1.3f' % precision)\n",
    "        print('recall: %1.3f' % recall)\n",
    "        print('F1-score: %1.3f' % f1_score)\n",
    "\n",
    "    # If the increment is lower -> stop the algorithm\n",
    "    if increment < increment_tol:\n",
    "        break"
   ]
  },
  {
   "cell_type": "code",
   "execution_count": 1103,
   "metadata": {
    "id": "weU-Vvj4tCQs"
   },
   "outputs": [],
   "source": [
    "#print(s)"
   ]
  },
  {
   "cell_type": "code",
   "execution_count": null,
   "metadata": {},
   "outputs": [],
   "source": [
    "'''\n",
    "    movie = 0.7\n",
    "        Threshold = a= 0.01 , b = 200:\n",
    "\n",
    "        RMSE: 0.987\n",
    "        rho:  0.417\n",
    "\n",
    "        Precision: 0.864\n",
    "        Recall:    0.874\n",
    "        F-1 measure: 0.869\n",
    "'''"
   ]
  },
  {
   "cell_type": "code",
   "execution_count": 1097,
   "metadata": {},
   "outputs": [],
   "source": [
    "# Save the result as a CSV file\n",
    "#np.savetxt('final_ratings_matrix.csv', X_hat, delimiter=',' , fmt='%1.1f')"
   ]
  },
  {
   "cell_type": "code",
   "execution_count": null,
   "metadata": {},
   "outputs": [],
   "source": [
    "# Load the matrix final_ratings_matrix from the CSV file\n",
    "#X_hat = np.loadtxt('final_ratings_matrix.csv', delimiter=',')"
   ]
  },
  {
   "cell_type": "code",
   "execution_count": 1174,
   "metadata": {},
   "outputs": [],
   "source": [
    "# Perform some evaluations\n",
    "def precision_and_recall():\n",
    "    total_recommended = 0 # true positive + false negative\n",
    "    predicted_recommended_items = 0 # true positive + false positive\n",
    "    predicted_true_recommended_items = 0 # true positive\n",
    "    # A movie is recommended if it's rating is greater than this value\n",
    "    recommendation_value = 3\n",
    "    for i in range(len(rows_test)):\n",
    "        true_rating = vals_test[i]\n",
    "        predicted_value = X_hat[rows_test[i]][cols_test[i]]\n",
    "        # Calculate true positive\n",
    "        if true_rating >= recommendation_value: \n",
    "            total_recommended += 1\n",
    "            if predicted_value >= recommendation_value:\n",
    "                predicted_true_recommended_items += 1\n",
    "        # Calculate true positive + false positive\n",
    "        if predicted_value >= recommendation_value:\n",
    "            predicted_recommended_items += 1\n",
    "                \n",
    "    #print(\"True positive: \" , predicted_true_recommended_items)\n",
    "    #print(\"True positive + false positive: \" , predicted_recommended_items)\n",
    "    #print(\"True positive + false negative: \" , total_recommended)\n",
    "    precision = predicted_true_recommended_items / predicted_recommended_items\n",
    "    recall = predicted_true_recommended_items / total_recommended\n",
    "    #print(\"Precision: \" , precision)\n",
    "    #print(\"Recall: \" , recall)\n",
    "    return precision , recall\n",
    "\n",
    "def F1_measure(precision_value , recall_value):\n",
    "    return 2 * precision_value * recall_value / ( precision_value + recall_value)"
   ]
  },
  {
   "cell_type": "code",
   "execution_count": 1157,
   "metadata": {},
   "outputs": [
    {
     "data": {
      "text/plain": [
       "0.8678927336645458"
      ]
     },
     "execution_count": 1157,
     "metadata": {},
     "output_type": "execute_result"
    }
   ],
   "source": [
    "precision , recall = precision_and_recall()\n",
    "F1_measure(precision , recall)"
   ]
  },
  {
   "cell_type": "code",
   "execution_count": 1178,
   "metadata": {},
   "outputs": [
    {
     "data": {
      "text/plain": [
       "<matplotlib.legend.Legend at 0x1bbd34a15b0>"
      ]
     },
     "execution_count": 1178,
     "metadata": {},
     "output_type": "execute_result"
    },
    {
     "data": {
      "image/png": "[encoded data removed]",
      "text/plain": [
       "<Figure size 540x252 with 1 Axes>"
      ]
     },
     "metadata": {
      "needs_background": "light"
     },
     "output_type": "display_data"
    }
   ],
   "source": [
    "plt.rcParams[\"figure.figsize\"] = [7.50, 3.50]\n",
    "plt.rcParams[\"figure.autolayout\"] = True\n",
    "\n",
    "#plt.plot(RMSE_list , color = 'black', label = '$RMSE$')\n",
    "plt.plot(precision_list , color = 'red', label = '$Precision$')\n",
    "plt.plot(recall_list , color = 'blue', label = '$Recall$')\n",
    "plt.plot(f1_score_list , color = 'green', label = '$F-1 Score$')\n",
    "plt.legend()"
   ]
  },
  {
   "cell_type": "code",
   "execution_count": null,
   "metadata": {},
   "outputs": [],
   "source": []
  }
 ],
 "metadata": {
  "colab": {
   "collapsed_sections": [],
   "name": "NA_project.ipynb",
   "provenance": []
  },
  "kernelspec": {
   "display_name": "Python 3",
   "language": "python",
   "name": "python3"
  },
  "language_info": {
   "codemirror_mode": {
    "name": "ipython",
    "version": 3
   },
   "file_extension": ".py",
   "mimetype": "text/x-python",
   "name": "python",
   "nbconvert_exporter": "python",
   "pygments_lexer": "ipython3",
   "version": "3.8.8"
  },
  "widgets": {
   "application/vnd.jupyter.widget-state+json": {
    "04639e5503484146b79f7bbde269e3ad": {
     "model_module": "@jupyter-widgets/base",
     "model_module_version": "1.2.0",
     "model_name": "LayoutModel",
     "state": {
      "_model_module": "@jupyter-widgets/base",
      "_model_module_version": "1.2.0",
      "_model_name": "LayoutModel",
      "_view_count": null,
      "_view_module": "@jupyter-widgets/base",
      "_view_module_version": "1.2.0",
      "_view_name": "LayoutView",
      "align_content": null,
      "align_items": null,
      "align_self": null,
      "border": null,
      "bottom": null,
      "display": null,
      "flex": null,
      "flex_flow": null,
      "grid_area": null,
      "grid_auto_columns": null,
      "grid_auto_flow": null,
      "grid_auto_rows": null,
      "grid_column": null,
      "grid_gap": null,
      "grid_row": null,
      "grid_template_areas": null,
      "grid_template_columns": null,
      "grid_template_rows": null,
      "height": null,
      "justify_content": null,
      "justify_items": null,
      "left": null,
      "margin": null,
      "max_height": null,
      "max_width": null,
      "min_height": null,
      "min_width": null,
      "object_fit": null,
      "object_position": null,
      "order": null,
      "overflow": null,
      "overflow_x": null,
      "overflow_y": null,
      "padding": null,
      "right": null,
      "top": null,
      "visibility": null,
      "width": null
     }
    },
    "0cdca51406f64e6cb3fb1c3a32d0d903": {
     "model_module": "@jupyter-widgets/controls",
     "model_module_version": "1.5.0",
     "model_name": "HBoxModel",
     "state": {
      "_dom_classes": [],
      "_model_module": "@jupyter-widgets/controls",
      "_model_module_version": "1.5.0",
      "_model_name": "HBoxModel",
      "_view_count": null,
      "_view_module": "@jupyter-widgets/controls",
      "_view_module_version": "1.5.0",
      "_view_name": "HBoxView",
      "box_style": "",
      "children": [
       "IPY_MODEL_fe8e28781d594af79f5f2fa8f2ec1216",
       "IPY_MODEL_b6280335918b4bf49f9b2e464db75509",
       "IPY_MODEL_720aad33f52d45acbc795bab32d7d454"
      ],
      "layout": "IPY_MODEL_557d5febc1d34fce9f425884ad4d0c1f"
     }
    },
    "1128a775b348495d9d1abb336ccce0e9": {
     "model_module": "@jupyter-widgets/controls",
     "model_module_version": "1.5.0",
     "model_name": "ProgressStyleModel",
     "state": {
      "_model_module": "@jupyter-widgets/controls",
      "_model_module_version": "1.5.0",
      "_model_name": "ProgressStyleModel",
      "_view_count": null,
      "_view_module": "@jupyter-widgets/base",
      "_view_module_version": "1.2.0",
      "_view_name": "StyleView",
      "bar_color": null,
      "description_width": ""
     }
    },
    "2523c88746134cfdb5604356b5b4d05f": {
     "model_module": "@jupyter-widgets/base",
     "model_module_version": "1.2.0",
     "model_name": "LayoutModel",
     "state": {
      "_model_module": "@jupyter-widgets/base",
      "_model_module_version": "1.2.0",
      "_model_name": "LayoutModel",
      "_view_count": null,
      "_view_module": "@jupyter-widgets/base",
      "_view_module_version": "1.2.0",
      "_view_name": "LayoutView",
      "align_content": null,
      "align_items": null,
      "align_self": null,
      "border": null,
      "bottom": null,
      "display": null,
      "flex": null,
      "flex_flow": null,
      "grid_area": null,
      "grid_auto_columns": null,
      "grid_auto_flow": null,
      "grid_auto_rows": null,
      "grid_column": null,
      "grid_gap": null,
      "grid_row": null,
      "grid_template_areas": null,
      "grid_template_columns": null,
      "grid_template_rows": null,
      "height": null,
      "justify_content": null,
      "justify_items": null,
      "left": null,
      "margin": null,
      "max_height": null,
      "max_width": null,
      "min_height": null,
      "min_width": null,
      "object_fit": null,
      "object_position": null,
      "order": null,
      "overflow": null,
      "overflow_x": null,
      "overflow_y": null,
      "padding": null,
      "right": null,
      "top": null,
      "visibility": null,
      "width": null
     }
    },
    "2a8003e5b1bf4c2cb76a83cf6842b659": {
     "model_module": "@jupyter-widgets/base",
     "model_module_version": "1.2.0",
     "model_name": "LayoutModel",
     "state": {
      "_model_module": "@jupyter-widgets/base",
      "_model_module_version": "1.2.0",
      "_model_name": "LayoutModel",
      "_view_count": null,
      "_view_module": "@jupyter-widgets/base",
      "_view_module_version": "1.2.0",
      "_view_name": "LayoutView",
      "align_content": null,
      "align_items": null,
      "align_self": null,
      "border": null,
      "bottom": null,
      "display": null,
      "flex": null,
      "flex_flow": null,
      "grid_area": null,
      "grid_auto_columns": null,
      "grid_auto_flow": null,
      "grid_auto_rows": null,
      "grid_column": null,
      "grid_gap": null,
      "grid_row": null,
      "grid_template_areas": null,
      "grid_template_columns": null,
      "grid_template_rows": null,
      "height": null,
      "justify_content": null,
      "justify_items": null,
      "left": null,
      "margin": null,
      "max_height": null,
      "max_width": null,
      "min_height": null,
      "min_width": null,
      "object_fit": null,
      "object_position": null,
      "order": null,
      "overflow": null,
      "overflow_x": null,
      "overflow_y": null,
      "padding": null,
      "right": null,
      "top": null,
      "visibility": null,
      "width": null
     }
    },
    "4c69cf88bc134fe88b4abbc4d9cb2a93": {
     "model_module": "@jupyter-widgets/base",
     "model_module_version": "1.2.0",
     "model_name": "LayoutModel",
     "state": {
      "_model_module": "@jupyter-widgets/base",
      "_model_module_version": "1.2.0",
      "_model_name": "LayoutModel",
      "_view_count": null,
      "_view_module": "@jupyter-widgets/base",
      "_view_module_version": "1.2.0",
      "_view_name": "LayoutView",
      "align_content": null,
      "align_items": null,
      "align_self": null,
      "border": null,
      "bottom": null,
      "display": null,
      "flex": null,
      "flex_flow": null,
      "grid_area": null,
      "grid_auto_columns": null,
      "grid_auto_flow": null,
      "grid_auto_rows": null,
      "grid_column": null,
      "grid_gap": null,
      "grid_row": null,
      "grid_template_areas": null,
      "grid_template_columns": null,
      "grid_template_rows": null,
      "height": null,
      "justify_content": null,
      "justify_items": null,
      "left": null,
      "margin": null,
      "max_height": null,
      "max_width": null,
      "min_height": null,
      "min_width": null,
      "object_fit": null,
      "object_position": null,
      "order": null,
      "overflow": null,
      "overflow_x": null,
      "overflow_y": null,
      "padding": null,
      "right": null,
      "top": null,
      "visibility": null,
      "width": null
     }
    },
    "5178ee5780cd450da7255683bc808ffd": {
     "model_module": "@jupyter-widgets/controls",
     "model_module_version": "1.5.0",
     "model_name": "DescriptionStyleModel",
     "state": {
      "_model_module": "@jupyter-widgets/controls",
      "_model_module_version": "1.5.0",
      "_model_name": "DescriptionStyleModel",
      "_view_count": null,
      "_view_module": "@jupyter-widgets/base",
      "_view_module_version": "1.2.0",
      "_view_name": "StyleView",
      "description_width": ""
     }
    },
    "557d5febc1d34fce9f425884ad4d0c1f": {
     "model_module": "@jupyter-widgets/base",
     "model_module_version": "1.2.0",
     "model_name": "LayoutModel",
     "state": {
      "_model_module": "@jupyter-widgets/base",
      "_model_module_version": "1.2.0",
      "_model_name": "LayoutModel",
      "_view_count": null,
      "_view_module": "@jupyter-widgets/base",
      "_view_module_version": "1.2.0",
      "_view_name": "LayoutView",
      "align_content": null,
      "align_items": null,
      "align_self": null,
      "border": null,
      "bottom": null,
      "display": null,
      "flex": null,
      "flex_flow": null,
      "grid_area": null,
      "grid_auto_columns": null,
      "grid_auto_flow": null,
      "grid_auto_rows": null,
      "grid_column": null,
      "grid_gap": null,
      "grid_row": null,
      "grid_template_areas": null,
      "grid_template_columns": null,
      "grid_template_rows": null,
      "height": null,
      "justify_content": null,
      "justify_items": null,
      "left": null,
      "margin": null,
      "max_height": null,
      "max_width": null,
      "min_height": null,
      "min_width": null,
      "object_fit": null,
      "object_position": null,
      "order": null,
      "overflow": null,
      "overflow_x": null,
      "overflow_y": null,
      "padding": null,
      "right": null,
      "top": null,
      "visibility": null,
      "width": null
     }
    },
    "6050c4faead14f83887cea2f742a60d2": {
     "model_module": "@jupyter-widgets/controls",
     "model_module_version": "1.5.0",
     "model_name": "ProgressStyleModel",
     "state": {
      "_model_module": "@jupyter-widgets/controls",
      "_model_module_version": "1.5.0",
      "_model_name": "ProgressStyleModel",
      "_view_count": null,
      "_view_module": "@jupyter-widgets/base",
      "_view_module_version": "1.2.0",
      "_view_name": "StyleView",
      "bar_color": null,
      "description_width": ""
     }
    },
    "65879bfb5dfa4b97a3d4f59de79aecbf": {
     "model_module": "@jupyter-widgets/controls",
     "model_module_version": "1.5.0",
     "model_name": "HTMLModel",
     "state": {
      "_dom_classes": [],
      "_model_module": "@jupyter-widgets/controls",
      "_model_module_version": "1.5.0",
      "_model_name": "HTMLModel",
      "_view_count": null,
      "_view_module": "@jupyter-widgets/controls",
      "_view_module_version": "1.5.0",
      "_view_name": "HTMLView",
      "description": "",
      "description_tooltip": null,
      "layout": "IPY_MODEL_9ae09cdad5d24f2c87fbf7757e59ec9b",
      "placeholder": "​",
      "style": "IPY_MODEL_dee5674f3f3d430591add72683ac60ee",
      "value": "100%"
     }
    },
    "67cb7bdbc2574b9fb746dcf66dcbb962": {
     "model_module": "@jupyter-widgets/controls",
     "model_module_version": "1.5.0",
     "model_name": "FloatProgressModel",
     "state": {
      "_dom_classes": [],
      "_model_module": "@jupyter-widgets/controls",
      "_model_module_version": "1.5.0",
      "_model_name": "FloatProgressModel",
      "_view_count": null,
      "_view_module": "@jupyter-widgets/controls",
      "_view_module_version": "1.5.0",
      "_view_name": "ProgressView",
      "bar_style": "success",
      "description": "",
      "description_tooltip": null,
      "layout": "IPY_MODEL_91fbfde4ef6e44f1aab99a7a8123496a",
      "max": 668,
      "min": 0,
      "orientation": "horizontal",
      "style": "IPY_MODEL_1128a775b348495d9d1abb336ccce0e9",
      "value": 668
     }
    },
    "7070e4bb5f6d4d7f881c533085f9f7ec": {
     "model_module": "@jupyter-widgets/controls",
     "model_module_version": "1.5.0",
     "model_name": "DescriptionStyleModel",
     "state": {
      "_model_module": "@jupyter-widgets/controls",
      "_model_module_version": "1.5.0",
      "_model_name": "DescriptionStyleModel",
      "_view_count": null,
      "_view_module": "@jupyter-widgets/base",
      "_view_module_version": "1.2.0",
      "_view_name": "StyleView",
      "description_width": ""
     }
    },
    "720aad33f52d45acbc795bab32d7d454": {
     "model_module": "@jupyter-widgets/controls",
     "model_module_version": "1.5.0",
     "model_name": "HTMLModel",
     "state": {
      "_dom_classes": [],
      "_model_module": "@jupyter-widgets/controls",
      "_model_module_version": "1.5.0",
      "_model_name": "HTMLModel",
      "_view_count": null,
      "_view_module": "@jupyter-widgets/controls",
      "_view_module_version": "1.5.0",
      "_view_name": "HTMLView",
      "description": "",
      "description_tooltip": null,
      "layout": "IPY_MODEL_2a8003e5b1bf4c2cb76a83cf6842b659",
      "placeholder": "​",
      "style": "IPY_MODEL_7070e4bb5f6d4d7f881c533085f9f7ec",
      "value": " 10329/10329 [10:23&lt;00:00,  7.84it/s]"
     }
    },
    "83bca7dab6794b13aaa2972dd76da287": {
     "model_module": "@jupyter-widgets/controls",
     "model_module_version": "1.5.0",
     "model_name": "DescriptionStyleModel",
     "state": {
      "_model_module": "@jupyter-widgets/controls",
      "_model_module_version": "1.5.0",
      "_model_name": "DescriptionStyleModel",
      "_view_count": null,
      "_view_module": "@jupyter-widgets/base",
      "_view_module_version": "1.2.0",
      "_view_name": "StyleView",
      "description_width": ""
     }
    },
    "91fbfde4ef6e44f1aab99a7a8123496a": {
     "model_module": "@jupyter-widgets/base",
     "model_module_version": "1.2.0",
     "model_name": "LayoutModel",
     "state": {
      "_model_module": "@jupyter-widgets/base",
      "_model_module_version": "1.2.0",
      "_model_name": "LayoutModel",
      "_view_count": null,
      "_view_module": "@jupyter-widgets/base",
      "_view_module_version": "1.2.0",
      "_view_name": "LayoutView",
      "align_content": null,
      "align_items": null,
      "align_self": null,
      "border": null,
      "bottom": null,
      "display": null,
      "flex": null,
      "flex_flow": null,
      "grid_area": null,
      "grid_auto_columns": null,
      "grid_auto_flow": null,
      "grid_auto_rows": null,
      "grid_column": null,
      "grid_gap": null,
      "grid_row": null,
      "grid_template_areas": null,
      "grid_template_columns": null,
      "grid_template_rows": null,
      "height": null,
      "justify_content": null,
      "justify_items": null,
      "left": null,
      "margin": null,
      "max_height": null,
      "max_width": null,
      "min_height": null,
      "min_width": null,
      "object_fit": null,
      "object_position": null,
      "order": null,
      "overflow": null,
      "overflow_x": null,
      "overflow_y": null,
      "padding": null,
      "right": null,
      "top": null,
      "visibility": null,
      "width": null
     }
    },
    "9ae09cdad5d24f2c87fbf7757e59ec9b": {
     "model_module": "@jupyter-widgets/base",
     "model_module_version": "1.2.0",
     "model_name": "LayoutModel",
     "state": {
      "_model_module": "@jupyter-widgets/base",
      "_model_module_version": "1.2.0",
      "_model_name": "LayoutModel",
      "_view_count": null,
      "_view_module": "@jupyter-widgets/base",
      "_view_module_version": "1.2.0",
      "_view_name": "LayoutView",
      "align_content": null,
      "align_items": null,
      "align_self": null,
      "border": null,
      "bottom": null,
      "display": null,
      "flex": null,
      "flex_flow": null,
      "grid_area": null,
      "grid_auto_columns": null,
      "grid_auto_flow": null,
      "grid_auto_rows": null,
      "grid_column": null,
      "grid_gap": null,
      "grid_row": null,
      "grid_template_areas": null,
      "grid_template_columns": null,
      "grid_template_rows": null,
      "height": null,
      "justify_content": null,
      "justify_items": null,
      "left": null,
      "margin": null,
      "max_height": null,
      "max_width": null,
      "min_height": null,
      "min_width": null,
      "object_fit": null,
      "object_position": null,
      "order": null,
      "overflow": null,
      "overflow_x": null,
      "overflow_y": null,
      "padding": null,
      "right": null,
      "top": null,
      "visibility": null,
      "width": null
     }
    },
    "9bb307f55b5748f5aeca94f44133e28c": {
     "model_module": "@jupyter-widgets/base",
     "model_module_version": "1.2.0",
     "model_name": "LayoutModel",
     "state": {
      "_model_module": "@jupyter-widgets/base",
      "_model_module_version": "1.2.0",
      "_model_name": "LayoutModel",
      "_view_count": null,
      "_view_module": "@jupyter-widgets/base",
      "_view_module_version": "1.2.0",
      "_view_name": "LayoutView",
      "align_content": null,
      "align_items": null,
      "align_self": null,
      "border": null,
      "bottom": null,
      "display": null,
      "flex": null,
      "flex_flow": null,
      "grid_area": null,
      "grid_auto_columns": null,
      "grid_auto_flow": null,
      "grid_auto_rows": null,
      "grid_column": null,
      "grid_gap": null,
      "grid_row": null,
      "grid_template_areas": null,
      "grid_template_columns": null,
      "grid_template_rows": null,
      "height": null,
      "justify_content": null,
      "justify_items": null,
      "left": null,
      "margin": null,
      "max_height": null,
      "max_width": null,
      "min_height": null,
      "min_width": null,
      "object_fit": null,
      "object_position": null,
      "order": null,
      "overflow": null,
      "overflow_x": null,
      "overflow_y": null,
      "padding": null,
      "right": null,
      "top": null,
      "visibility": null,
      "width": null
     }
    },
    "9e7ce50457cc4bc3b0ee4c50e673fac5": {
     "model_module": "@jupyter-widgets/controls",
     "model_module_version": "1.5.0",
     "model_name": "HBoxModel",
     "state": {
      "_dom_classes": [],
      "_model_module": "@jupyter-widgets/controls",
      "_model_module_version": "1.5.0",
      "_model_name": "HBoxModel",
      "_view_count": null,
      "_view_module": "@jupyter-widgets/controls",
      "_view_module_version": "1.5.0",
      "_view_name": "HBoxView",
      "box_style": "",
      "children": [
       "IPY_MODEL_65879bfb5dfa4b97a3d4f59de79aecbf",
       "IPY_MODEL_67cb7bdbc2574b9fb746dcf66dcbb962",
       "IPY_MODEL_eeae783f68de420797d6c193c9bc86c1"
      ],
      "layout": "IPY_MODEL_4c69cf88bc134fe88b4abbc4d9cb2a93"
     }
    },
    "b6280335918b4bf49f9b2e464db75509": {
     "model_module": "@jupyter-widgets/controls",
     "model_module_version": "1.5.0",
     "model_name": "FloatProgressModel",
     "state": {
      "_dom_classes": [],
      "_model_module": "@jupyter-widgets/controls",
      "_model_module_version": "1.5.0",
      "_model_name": "FloatProgressModel",
      "_view_count": null,
      "_view_module": "@jupyter-widgets/controls",
      "_view_module_version": "1.5.0",
      "_view_name": "ProgressView",
      "bar_style": "success",
      "description": "",
      "description_tooltip": null,
      "layout": "IPY_MODEL_9bb307f55b5748f5aeca94f44133e28c",
      "max": 10329,
      "min": 0,
      "orientation": "horizontal",
      "style": "IPY_MODEL_6050c4faead14f83887cea2f742a60d2",
      "value": 10329
     }
    },
    "dee5674f3f3d430591add72683ac60ee": {
     "model_module": "@jupyter-widgets/controls",
     "model_module_version": "1.5.0",
     "model_name": "DescriptionStyleModel",
     "state": {
      "_model_module": "@jupyter-widgets/controls",
      "_model_module_version": "1.5.0",
      "_model_name": "DescriptionStyleModel",
      "_view_count": null,
      "_view_module": "@jupyter-widgets/base",
      "_view_module_version": "1.2.0",
      "_view_name": "StyleView",
      "description_width": ""
     }
    },
    "eeae783f68de420797d6c193c9bc86c1": {
     "model_module": "@jupyter-widgets/controls",
     "model_module_version": "1.5.0",
     "model_name": "HTMLModel",
     "state": {
      "_dom_classes": [],
      "_model_module": "@jupyter-widgets/controls",
      "_model_module_version": "1.5.0",
      "_model_name": "HTMLModel",
      "_view_count": null,
      "_view_module": "@jupyter-widgets/controls",
      "_view_module_version": "1.5.0",
      "_view_name": "HTMLView",
      "description": "",
      "description_tooltip": null,
      "layout": "IPY_MODEL_04639e5503484146b79f7bbde269e3ad",
      "placeholder": "​",
      "style": "IPY_MODEL_5178ee5780cd450da7255683bc808ffd",
      "value": " 668/668 [00:04&lt;00:00, 147.82it/s]"
     }
    },
    "fe8e28781d594af79f5f2fa8f2ec1216": {
     "model_module": "@jupyter-widgets/controls",
     "model_module_version": "1.5.0",
     "model_name": "HTMLModel",
     "state": {
      "_dom_classes": [],
      "_model_module": "@jupyter-widgets/controls",
      "_model_module_version": "1.5.0",
      "_model_name": "HTMLModel",
      "_view_count": null,
      "_view_module": "@jupyter-widgets/controls",
      "_view_module_version": "1.5.0",
      "_view_name": "HTMLView",
      "description": "",
      "description_tooltip": null,
      "layout": "IPY_MODEL_2523c88746134cfdb5604356b5b4d05f",
      "placeholder": "​",
      "style": "IPY_MODEL_83bca7dab6794b13aaa2972dd76da287",
      "value": "100%"
     }
    }
   }
  }
 },
 "nbformat": 4,
 "nbformat_minor": 4
}
