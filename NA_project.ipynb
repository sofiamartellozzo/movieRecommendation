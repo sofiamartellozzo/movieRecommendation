{
 "cells": [
  {
   "cell_type": "markdown",
   "metadata": {
    "id": "ofUfngSuuiuR"
   },
   "source": [
    "#Numerical Analysis' project\n",
    "\n",
    "Movie recommendation system"
   ]
  },
  {
   "cell_type": "code",
   "execution_count": 1404,
   "metadata": {
    "id": "BUpzryGvufOX"
   },
   "outputs": [],
   "source": [
    "from scipy.sparse import csr_matrix\n",
    "from scipy.stats import pearsonr\n",
    "from numpy.linalg import matrix_rank\n",
    "from tqdm.notebook import tqdm\n",
    "from enum import IntEnum\n",
    "import numpy as np\n",
    "import matplotlib.pyplot as plt\n",
    "import pandas as pd\n",
    "import seaborn as sns\n",
    "#import jax.numpy as jnp\n",
    "#import jax\n",
    "import time"
   ]
  },
  {
   "cell_type": "markdown",
   "metadata": {
    "id": "v2E-g2QavVzT"
   },
   "source": [
    "Load the dataset using pandas"
   ]
  },
  {
   "cell_type": "code",
   "execution_count": 1405,
   "metadata": {
    "id": "_bxmTRyiu9He"
   },
   "outputs": [],
   "source": [
    "movies = pd.read_csv('movies.csv')\n",
    "ratings = pd.read_csv('ratings.csv')"
   ]
  },
  {
   "cell_type": "code",
   "execution_count": 1406,
   "metadata": {},
   "outputs": [
    {
     "name": "stdout",
     "output_type": "stream",
     "text": [
      "668 10329\n"
     ]
    }
   ],
   "source": [
    "# Find all the possible user ids and movie ids-> do that after the deletion\n",
    "userIds_available = set()\n",
    "movieIds_available = set()\n",
    "for id in np.array(ratings['userId'] , dtype = int):\n",
    "    userIds_available.add(id)\n",
    "\n",
    "for id in np.array(movies['movieId'] , dtype = int):\n",
    "    movieIds_available.add(id)\n",
    "    \n",
    "userIds_available = list(userIds_available)\n",
    "movieIds_available = list(movieIds_available)\n",
    "\n",
    "userIds_available.sort()\n",
    "movieIds_available.sort()\n",
    "\n",
    "print(len(userIds_available) , len(movieIds_available))"
   ]
  },
  {
   "cell_type": "code",
   "execution_count": 1407,
   "metadata": {
    "colab": {
     "base_uri": "https://localhost:8080/"
    },
    "id": "vr2mVUTIvc2r",
    "outputId": "3617be62-cbfe-49c3-e0e9-4a6e0874f4ac",
    "tags": []
   },
   "outputs": [
    {
     "data": {
      "application/vnd.jupyter.widget-view+json": {
       "model_id": "88ddb5b5a33c4e15b7c628dbffc1c754",
       "version_major": 2,
       "version_minor": 0
      },
      "text/plain": [
       "  0%|          | 0/105339 [00:00<?, ?it/s]"
      ]
     },
     "metadata": {},
     "output_type": "display_data"
    },
    {
     "data": {
      "application/vnd.jupyter.widget-view+json": {
       "model_id": "ab911094bd3b499e9bbfdda25c7b822e",
       "version_major": 2,
       "version_minor": 0
      },
      "text/plain": [
       "  0%|          | 0/105339 [00:00<?, ?it/s]"
      ]
     },
     "metadata": {},
     "output_type": "display_data"
    },
    {
     "data": {
      "text/plain": [
       "(669, 149533, 105339)"
      ]
     },
     "execution_count": 1407,
     "metadata": {},
     "output_type": "execute_result"
    }
   ],
   "source": [
    "#ratings # 105339 users' ratings , 668 different users\n",
    "#movies # 10329 movies\n",
    "rows = np.array(ratings['userId'])\n",
    "cols = np.array(ratings['movieId'])\n",
    "vals = np.array(ratings['rating'])\n",
    "\n",
    "n = rows.max() + 1 # Number of user\n",
    "p = cols.max() + 1# Number of movies\n",
    "N = len(vals) # Number of ratings\n",
    "\n",
    "\n",
    "def binary_search(array , x):\n",
    "    low = 0\n",
    "    high = len(array) - 1\n",
    "    while(high >= low):\n",
    "        mid = int((high + low) / 2)\n",
    "        \n",
    "        if array[mid] == x:\n",
    "            return mid\n",
    "        \n",
    "        elif array[mid] > x:\n",
    "            high = mid - 1\n",
    "            \n",
    "        else:\n",
    "            low = mid + 1\n",
    "\n",
    "    print(\"Element %d not found\" % x)\n",
    "    return -1\n",
    "\n",
    "# Update the arrays rows/cols with the true position instead of the ids \n",
    "for i_user in tqdm(range(len(rows))):\n",
    "    rows[i_user] = binary_search(userIds_available ,  rows[i_user])\n",
    "\n",
    "for i_movie in tqdm(range(len(cols))):\n",
    "    cols[i_movie] = binary_search(movieIds_available , cols[i_movie])\n",
    "\n",
    "n , p , N"
   ]
  },
  {
   "cell_type": "code",
   "execution_count": null,
   "metadata": {
    "id": "f5lmpABEvelb",
    "tags": []
   },
   "outputs": [],
   "source": [
    "# Command for analyse input data matrix \n",
    "movies.head()\n",
    "ratings.head()\n",
    "movies.info()\n",
    "ratings.info()\n",
    "movies.describe()\n",
    "ratings.describe()\n",
    "sns.distplot(ratings['rating'])\n",
    "sns.distplot(ratings['movieId'])\n",
    "sns.scatterplot(data = ratings , x = 'userId' , y = 'movieId' , hue = 'rating')\n",
    "ratings.corr()"
   ]
  },
  {
   "cell_type": "code",
   "execution_count": 1408,
   "metadata": {},
   "outputs": [],
   "source": [
    "# To convert the timiestamp in readable date\n",
    "from datetime import datetime\n",
    "\n",
    "dates = ratings['timestamp']\n",
    "list_of_dates = list()\n",
    "\n",
    "#print(datetime.utcfromtimestamp(ts).strftime('%Y-%m-%d %H:%M:%S'))\n",
    "for date in dates:\n",
    "    #print(datetime.utcfromtimestamp(date).strftime('%Y-%m-%d'))\n",
    "    #list_of_dates.append(datetime.utcfromtimestamp(date).strftime('%Y-%m-%d'))\n",
    "    list_of_dates.append(datetime.utcfromtimestamp(date).strftime('%Y'))"
   ]
  },
  {
   "cell_type": "code",
   "execution_count": 1409,
   "metadata": {},
   "outputs": [
    {
     "data": {
      "text/plain": [
       "array(['2008', '2008', '2008'], dtype='<U4')"
      ]
     },
     "execution_count": 1409,
     "metadata": {},
     "output_type": "execute_result"
    }
   ],
   "source": [
    "list_of_dates = np.array(list_of_dates)\n",
    "list_of_dates[0 : 3]"
   ]
  },
  {
   "cell_type": "code",
   "execution_count": 1410,
   "metadata": {
    "id": "3MAjyzHuom52"
   },
   "outputs": [],
   "source": [
    "# Shuffle the data\n",
    "indexes = np.arange(N)\n",
    "np.random.seed(0) # for reproducibility\n",
    "np.random.shuffle(indexes)\n",
    "indexes\n",
    "# Reordering the arrays\n",
    "rows = rows[indexes]\n",
    "cols = cols[indexes]\n",
    "vals = vals[indexes]\n",
    "list_of_dates = list_of_dates[indexes]"
   ]
  },
  {
   "cell_type": "markdown",
   "metadata": {
    "id": "RhJA61ParQ1d"
   },
   "source": [
    "Building the train set (80%) and the validation set (20%)"
   ]
  },
  {
   "cell_type": "code",
   "execution_count": 1411,
   "metadata": {
    "id": "kiIg-jcNpBZc"
   },
   "outputs": [
    {
     "name": "stdout",
     "output_type": "stream",
     "text": [
      "84271 84271 84271\n"
     ]
    }
   ],
   "source": [
    "# Split data in training and testing\n",
    "num_training = int(N * 0.8)\n",
    "\n",
    "rows_train  = rows[:num_training]\n",
    "cols_train  = cols[:num_training]\n",
    "vals_train  = vals[:num_training]\n",
    "dates_train = list_of_dates[:num_training]\n",
    "rows_test   = rows[num_training:]\n",
    "cols_test   = cols[num_training:]\n",
    "vals_test   = vals[num_training:]\n",
    "\n",
    "print(len(rows_train) , len(cols_train) , len(vals_train))"
   ]
  },
  {
   "cell_type": "markdown",
   "metadata": {
    "id": "Z6jfWiwBrSqA"
   },
   "source": [
    "Building the matrix with the origina values\n",
    "\n",
    "Building the 'Ratings matrix'\n",
    "Users on the rows and Movies on the columns\n",
    "\n",
    "Initializing all the elements to 0 and then updating position (i,j) with the rating of movie j by user i if it's present"
   ]
  },
  {
   "cell_type": "code",
   "execution_count": 1412,
   "metadata": {
    "id": "FjVM07332FrT"
   },
   "outputs": [],
   "source": [
    "# Initialize the matrix with all zeros\n",
    "ratings_matrix = np.zeros((len(userIds_available) , len(movieIds_available)))\n",
    "#print(ratings_matrix)\n",
    "#print(\"=========================\")\n",
    "# Update the matrix with the known values (contained in vals_train array)\n",
    "ratings_matrix[rows_train, cols_train] = vals_train\n",
    "#print(ratings_matrix) "
   ]
  },
  {
   "cell_type": "code",
   "execution_count": 1413,
   "metadata": {},
   "outputs": [],
   "source": [
    "# Save a matrix with the year of the ratings\n",
    "time_matrix = np.zeros((len(userIds_available) , len(movieIds_available)))\n",
    "# Update the matrix with dates of the ratings\n",
    "time_matrix[rows_train, cols_train] = dates_train"
   ]
  },
  {
   "cell_type": "code",
   "execution_count": null,
   "metadata": {
    "colab": {
     "base_uri": "https://localhost:8080/"
    },
    "id": "6Eofsk3o31hp",
    "outputId": "9b4547b2-68a4-467b-9ce5-b3e5ebcb8689"
   },
   "outputs": [],
   "source": [
    "frame = pd.DataFrame(ratings_matrix, index = userIds_available , columns = movieIds_available)\n",
    "print(frame)"
   ]
  },
  {
   "cell_type": "markdown",
   "metadata": {
    "id": "K8TXykDUUygu"
   },
   "source": [
    "Checking if there are users that haven't watched any movie"
   ]
  },
  {
   "cell_type": "code",
   "execution_count": 1414,
   "metadata": {},
   "outputs": [
    {
     "data": {
      "application/vnd.jupyter.widget-view+json": {
       "model_id": "05ef94e6c9c74edea848de70bb384005",
       "version_major": 2,
       "version_minor": 0
      },
      "text/plain": [
       "  0%|          | 0/668 [00:00<?, ?it/s]"
      ]
     },
     "metadata": {},
     "output_type": "display_data"
    },
    {
     "name": "stdout",
     "output_type": "stream",
     "text": [
      "There are 6815501 missing valuess\n",
      "There are 84271 values inserted\n",
      "There are 6899772 values\n"
     ]
    }
   ],
   "source": [
    "# Count the number of missing values\n",
    "def count_missing_values(matrix):\n",
    "    missing_values = 0\n",
    "\n",
    "    for i_user in tqdm(range(matrix.shape[0])):\n",
    "        for j_movie in range(matrix.shape[1]):\n",
    "            # If the movie in position j_movie hasn't a rating\n",
    "            if matrix[i_user , j_movie] == 0:\n",
    "                missing_values += 1\n",
    "\n",
    "    print(\"There are %d missing valuess\" % (missing_values))\n",
    "    print(\"There are %d values inserted\" % (matrix.shape[0] * matrix.shape[1] - missing_values))\n",
    "    print(\"There are %d values\" % (matrix.shape[0] * matrix.shape[1]))\n",
    "    \n",
    "count_missing_values(ratings_matrix)"
   ]
  },
  {
   "cell_type": "markdown",
   "metadata": {
    "id": "WoA2QL7vz3gr"
   },
   "source": [
    "Building movie-genre correlation matrix M\n",
    "\n",
    "$$\n",
    "M_{i,j} = \n",
    "\\begin{cases}\n",
    "1 & \\text{if movie i is of genre j}\\\\\n",
    "0 & \\text{otherwise}\n",
    "\\end{cases}\n",
    "$$"
   ]
  },
  {
   "cell_type": "code",
   "execution_count": 1415,
   "metadata": {
    "id": "uB4OdENLyn_Q"
   },
   "outputs": [],
   "source": [
    "# Put in a set all the genres available\n",
    "genre_available = set()\n",
    "\n",
    "for i in range(movies.shape[0]):\n",
    "    genres = movies['genres'][i].split('|')\n",
    "    for g in genres: genre_available.add(g)\n",
    "\n",
    "# print(\"All genres available are: \" , id_available , genre_available)"
   ]
  },
  {
   "cell_type": "code",
   "execution_count": 1416,
   "metadata": {
    "colab": {
     "base_uri": "https://localhost:8080/"
    },
    "id": "4MI3Kx7V0txE",
    "outputId": "fd9e033e-5e6c-4cfc-b2e5-72a0d09c1719"
   },
   "outputs": [
    {
     "name": "stdout",
     "output_type": "stream",
     "text": [
      "Max movie id:  149532\n",
      "Number of movies is:  10329\n",
      "Number of genres is:  20\n"
     ]
    }
   ],
   "source": [
    "# Build the matrix\n",
    "num_movies = len(movieIds_available)\n",
    "num_genres = len(genre_available)\n",
    "print(\"Max movie id: \" , max(movies['movieId']))\n",
    "print(\"Number of movies is: \" , num_movies)\n",
    "print(\"Number of genres is: \" , num_genres)\n",
    "# Initialize the matrix with all zeros of int8 type\n",
    "correlation_matrix = np.zeros((num_movies , num_genres) , dtype = np.int8)"
   ]
  },
  {
   "cell_type": "code",
   "execution_count": 1417,
   "metadata": {
    "id": "iLvwYbkS3MNJ"
   },
   "outputs": [
    {
     "data": {
      "application/vnd.jupyter.widget-view+json": {
       "model_id": "472f62cee8e44109ab91c3acd82ed67a",
       "version_major": 2,
       "version_minor": 0
      },
      "text/plain": [
       "  0%|          | 0/10329 [00:00<?, ?it/s]"
      ]
     },
     "metadata": {},
     "output_type": "display_data"
    }
   ],
   "source": [
    "# Update the table with the correspondance\n",
    "for i in tqdm(range(movies.shape[0])):\n",
    "    id = movies['movieId'][i]\n",
    "    # Take the right position in the matrix\n",
    "    id = movieIds_available.index(id)\n",
    "\n",
    "    genres = movies['genres'][i].split('|')\n",
    "    for pos , g in enumerate(genre_available):\n",
    "        if g in genres:\n",
    "            correlation_matrix[id , pos] = 1"
   ]
  },
  {
   "cell_type": "code",
   "execution_count": null,
   "metadata": {
    "colab": {
     "base_uri": "https://localhost:8080/"
    },
    "id": "oSNhv6KVHs0g",
    "outputId": "83274e56-8675-4edd-bccc-4ceaff035b1d"
   },
   "outputs": [],
   "source": [
    "frame = pd.DataFrame(correlation_matrix, index = movieIds_available , columns = genre_available)\n",
    "print(frame)"
   ]
  },
  {
   "cell_type": "markdown",
   "metadata": {
    "id": "-pjZ2GqVQYfs"
   },
   "source": [
    "Next step:\n",
    "create a movie-movie matrix to find similiar movies: movies which covers the same genres"
   ]
  },
  {
   "cell_type": "code",
   "execution_count": 1425,
   "metadata": {
    "colab": {
     "base_uri": "https://localhost:8080/"
    },
    "id": "RAOfoYWNvUHx",
    "outputId": "dc477a3e-b286-4683-bb50-592bb1a695c7"
   },
   "outputs": [
    {
     "data": {
      "text/plain": [
       "3.3333333333333335"
      ]
     },
     "execution_count": 1425,
     "metadata": {},
     "output_type": "execute_result"
    }
   ],
   "source": [
    "def cosine_similarity(vector1 , vector2):\n",
    "    \"\"\"\n",
    "    vector1 and vector2 are rows of correlation_matrix or of ratings_matrix\n",
    "    \"\"\"\n",
    "    return np.dot(vector1, vector2)/(np.linalg.norm(vector1) * np.linalg.norm(vector2))\n",
    "\n",
    "def cosine_similarity_users(vector1 , vector2):\n",
    "    '''\n",
    "    Apply this similarity between users -> want to find similar behaviour in rating common movies and then\n",
    "        use it for movies that one of the two hasn't watched yet, not use them here\n",
    "    vector1 and vector2 are vector containing ratings of two users \n",
    "    '''\n",
    "    common_vector1 = []\n",
    "    common_vector2 = []\n",
    "    \n",
    "    # Take just the movies rated in both the array to find a similarity between the two users\n",
    "    for i in range(len(vector1)):\n",
    "        if vector1[i] != 0 and vector2[i] != 0:\n",
    "            common_vector1.append(vector1[i])\n",
    "            common_vector2.append(vector2[i])\n",
    "    # If the two vectors(users) has at least 5 common ratings\n",
    "    if len(common_vector1) > 5:\n",
    "        # If the date are close enough\n",
    "        #distance = check_dates(date1 , date2)\n",
    "        #if distance > 5: return 0\n",
    "        #else:\n",
    "            # Calculate the cosine similarity\n",
    "        return np.dot(common_vector1, common_vector2)/(np.linalg.norm(common_vector1) * np.linalg.norm(common_vector2))\n",
    "    else:\n",
    "        return 0\n",
    "    \n",
    "    \n",
    "def check_dates(vector1 , vector2):\n",
    "    \"\"\"\n",
    "    Calculate the average distance between years of common ratings of 2 users\n",
    "    \"\"\"\n",
    "    sum_of_date = 0\n",
    "    for i in range(len(vector1)):\n",
    "        sum_of_date += abs(vector1[i] - vector2[i])\n",
    "    \n",
    "    return sum_of_date / len(vector1)\n",
    "        \n",
    "check_dates([2000 , 2010 , 2010] , [2010 , 2010 , 2010])"
   ]
  },
  {
   "cell_type": "code",
   "execution_count": 1423,
   "metadata": {},
   "outputs": [
    {
     "data": {
      "application/vnd.jupyter.widget-view+json": {
       "model_id": "f030d6affa824ea08d4fac58bc763ce5",
       "version_major": 2,
       "version_minor": 0
      },
      "text/plain": [
       "  0%|          | 0/10329 [00:00<?, ?it/s]"
      ]
     },
     "metadata": {},
     "output_type": "display_data"
    },
    {
     "name": "stdout",
     "output_type": "stream",
     "text": [
      "Number of cluster is:  200\n"
     ]
    }
   ],
   "source": [
    "# Creating clusters for movies\n",
    "movie_cluster = {}\n",
    "threshold = 0.7\n",
    "index_cluster = {}\n",
    "movieIds_copy = movieIds_available.copy()\n",
    "\n",
    "num_cluster = 0\n",
    "index1 = 1\n",
    "# To show the progress bar\n",
    "pbar = tqdm(total = len(movieIds_copy))\n",
    "while len(movieIds_copy) > 0:\n",
    "    #pick always the first of the actual list\n",
    "    id_x = movieIds_copy[0]\n",
    "    list_movies = []\n",
    "    index_cluster[id_x] = num_cluster\n",
    "    list_movies.append(id_x)\n",
    "    #now pick all the others that follow\n",
    "    while (index1 < len(movieIds_copy)):\n",
    "        id_y = movieIds_copy[index1]\n",
    "        sim = cosine_similarity(correlation_matrix[movieIds_available.index(id_x)], correlation_matrix[movieIds_available.index(id_y)])\n",
    "        # If they are similar enough\n",
    "        if sim>= threshold:\n",
    "            index_cluster[id_y] = num_cluster\n",
    "            list_movies.append(id_y)\n",
    "            movieIds_copy.remove(id_y)\n",
    "            # Update the bar when an element is deleted\n",
    "            pbar.update(1)\n",
    "        else:\n",
    "            index1 += 1\n",
    "    movieIds_copy.remove(id_x)\n",
    "    # Update the bar when an element is deleted\n",
    "    pbar.update(1)\n",
    "    movie_cluster[num_cluster] = list_movies\n",
    "    num_cluster += 1\n",
    "    index1 = 1\n",
    "    \n",
    "# Close the bar\n",
    "pbar.close()\n",
    "print(\"Number of cluster is: \" , num_cluster)"
   ]
  },
  {
   "cell_type": "code",
   "execution_count": 1426,
   "metadata": {},
   "outputs": [
    {
     "data": {
      "application/vnd.jupyter.widget-view+json": {
       "model_id": "b39100fe0f1e4d0cbe1d3b7379128b1c",
       "version_major": 2,
       "version_minor": 0
      },
      "text/plain": [
       "  0%|          | 0/668 [00:00<?, ?it/s]"
      ]
     },
     "metadata": {},
     "output_type": "display_data"
    },
    {
     "name": "stdout",
     "output_type": "stream",
     "text": [
      "Number of cluster is:  161\n"
     ]
    }
   ],
   "source": [
    "# Creating clusters for users\n",
    "users_cluster = {}\n",
    "threshold = 0.95\n",
    "user_index_cluster = {}\n",
    "userIds_copy = userIds_available.copy()\n",
    "\n",
    "num_cluster = 0\n",
    "index2 = 1\n",
    "# To show the progress bar\n",
    "pbar = tqdm(total = len(userIds_copy))\n",
    "while len(userIds_copy) > 0:\n",
    "    #pick always the first of the actual list\n",
    "    id_x = userIds_copy[0]\n",
    "    list_users = []\n",
    "    user_index_cluster[id_x] = num_cluster\n",
    "    list_users.append(id_x)\n",
    "    #now pick all the others that follow\n",
    "    while ( index2 < len(userIds_copy)):\n",
    "        id_y = userIds_copy[index2]\n",
    "        sim = cosine_similarity_users(ratings_matrix[userIds_available.index(id_x)], ratings_matrix[userIds_available.index(id_y)])\n",
    "        # If they are similar enough\n",
    "        if sim >= threshold:\n",
    "            user_index_cluster[id_y] = num_cluster\n",
    "            list_users.append(id_y)\n",
    "            userIds_copy.remove(id_y)\n",
    "            # Update the bar when an element is deleted\n",
    "            pbar.update(1)\n",
    "        else :\n",
    "            index2 += 1\n",
    "    userIds_copy.remove(id_x)\n",
    "    # Update the bar when an element is deleted\n",
    "    pbar.update(1)\n",
    "    users_cluster[num_cluster] = list_users\n",
    "    num_cluster += 1\n",
    "    index2 = 1\n",
    "    \n",
    "# Close the bar\n",
    "pbar.close()\n",
    "print(\"Number of cluster is: \" , num_cluster)"
   ]
  },
  {
   "cell_type": "code",
   "execution_count": 1427,
   "metadata": {
    "id": "hLDTPLstktw3"
   },
   "outputs": [],
   "source": [
    "# Order each sublist of the dictionaries\n",
    "for key , value in movie_cluster.items():\n",
    "    new_value = value\n",
    "    new_value.sort()\n",
    "    movie_cluster[key] = new_value\n",
    "    \n",
    "for key , value in users_cluster.items():\n",
    "    new_value = value\n",
    "    new_value.sort()\n",
    "    users_cluster[key] = new_value"
   ]
  },
  {
   "cell_type": "code",
   "execution_count": 1428,
   "metadata": {},
   "outputs": [],
   "source": [
    "# Array that contains the position of each ratings (used as mapping)\n",
    "ratings_position_array = list([0.5 , 1 , 1.5 , 2 , 2.5 , 3 , 3.5 , 4 , 4.5 , 5])\n",
    "\n",
    "def get_rating_to_assign(array):\n",
    "    # Find the max count\n",
    "    max_rating_count = 0\n",
    "    count_of_ratings = 0\n",
    "    for i in range(len(array)):\n",
    "        count_of_ratings += array[i]\n",
    "        if array[i] > max_rating_count:\n",
    "            max_rating_count = array[i]\n",
    "        \n",
    "    # If there aren't ratings\n",
    "    if count_of_ratings < 1:\n",
    "        return 0\n",
    "            \n",
    "    # Fill the list with the maximum ratings\n",
    "    list_of_max = set()\n",
    "    for i in range(len(array)):\n",
    "        if array[i] == max_rating_count:\n",
    "            list_of_max.add(ratings_position_array[i])\n",
    "    \n",
    "    if len(list_of_max) == 0:\n",
    "        return 0\n",
    "            \n",
    "    # Calculate the avg between the ratings that appear more\n",
    "    rating = 0\n",
    "    for r in list_of_max:\n",
    "        rating += r\n",
    "    \n",
    "    return rating / len(list_of_max)"
   ]
  },
  {
   "cell_type": "code",
   "execution_count": 1429,
   "metadata": {},
   "outputs": [
    {
     "data": {
      "application/vnd.jupyter.widget-view+json": {
       "model_id": "c456ea794be14440ab551372ee50e59e",
       "version_major": 2,
       "version_minor": 0
      },
      "text/plain": [
       "  0%|          | 0/668 [00:00<?, ?it/s]"
      ]
     },
     "metadata": {},
     "output_type": "display_data"
    },
    {
     "name": "stdout",
     "output_type": "stream",
     "text": [
      "3549907\n"
     ]
    }
   ],
   "source": [
    "# Filling matrix with some ratings due to user similarities\n",
    "partial_ratings_matrix = ratings_matrix.copy() # to maintain the original\n",
    "num_of_predicted_value = 0\n",
    "\n",
    "for i_user in tqdm(range(partial_ratings_matrix.shape[0])):\n",
    "    # Take the cluster key for the user\n",
    "    cluster = user_index_cluster[userIds_available[i_user]]\n",
    "    # Take all the similar users\n",
    "    sim_users_ids = users_cluster[cluster]\n",
    "    \n",
    "    # If there is at least a similar user\n",
    "    if len(sim_users_ids) > 1:\n",
    "        \n",
    "        for j_movie in range(partial_ratings_matrix.shape[1]):\n",
    "            # If the user hasn't watched the movie yet\n",
    "            if ratings_matrix[i_user , j_movie] == 0:\n",
    "                # For each movie calculate the most common rating and assing it\n",
    "                # Array that will contains the sum of all the different ratings the movie received\n",
    "                ratings_array = np.zeros(10)\n",
    "                pos = 0\n",
    "                for user_id in sim_users_ids: \n",
    "                    # Take the row corresponding to the user\n",
    "                    pos = userIds_available.index(user_id , pos)\n",
    "\n",
    "                    # If the similar user has watched it\n",
    "                    if ratings_matrix[pos , j_movie] != 0:\n",
    "                        position_in_array = ratings_position_array.index(ratings_matrix[pos , j_movie])\n",
    "                        ratings_array[position_in_array] += 1\n",
    "                \n",
    "                rating = get_rating_to_assign(ratings_array)\n",
    "                if rating > 0:\n",
    "                    partial_ratings_matrix[i_user , j_movie] = rating\n",
    "                    num_of_predicted_value += 1\n",
    "            \n",
    "print(num_of_predicted_value)\n",
    "possible_ratings_matrix = partial_ratings_matrix.copy() # -> in case of collaborative filtering only"
   ]
  },
  {
   "cell_type": "code",
   "execution_count": 1443,
   "metadata": {},
   "outputs": [
    {
     "data": {
      "application/vnd.jupyter.widget-view+json": {
       "model_id": "c86860a53ce445cca799360cdbd5c24f",
       "version_major": 2,
       "version_minor": 0
      },
      "text/plain": [
       "  0%|          | 0/668 [00:00<?, ?it/s]"
      ]
     },
     "metadata": {},
     "output_type": "display_data"
    },
    {
     "name": "stdout",
     "output_type": "stream",
     "text": [
      "3549907\n"
     ]
    }
   ],
   "source": [
    "# Other possibility\n",
    "\n",
    "# Filling matrix with some ratings due to user similarities\n",
    "partial_ratings_matrix = ratings_matrix.copy() # to maintain the original\n",
    "num_of_predicted_value = 0\n",
    "\n",
    "for i_user in tqdm(range(partial_ratings_matrix.shape[0])):\n",
    "    # Take the cluster key for the user\n",
    "    cluster = user_index_cluster[userIds_available[i_user]]\n",
    "    # Take all the similar users\n",
    "    sim_users_ids = users_cluster[cluster]\n",
    "    \n",
    "    # If there is at least a similar user\n",
    "    if len(sim_users_ids) > 1:\n",
    "        \n",
    "        for j_movie in range(partial_ratings_matrix.shape[1]):\n",
    "            # If the user hasn't watched the movie yet\n",
    "            if ratings_matrix[i_user , j_movie] == 0:\n",
    "                # For each movie calculate the avg rating given by similar users\n",
    "                ratings_sum = 0\n",
    "                total_contributions = 0\n",
    "\n",
    "                pos = 0\n",
    "                for user_id in sim_users_ids: \n",
    "                    # Take the row corresponding to the user\n",
    "                    pos = userIds_available.index(user_id , pos)\n",
    "\n",
    "                    # If the similar user has watched it\n",
    "                    if ratings_matrix[pos , j_movie] != 0:\n",
    "                        ratings_sum += ratings_matrix[pos , j_movie]\n",
    "                        total_contributions += 1\n",
    "\n",
    "                # If at least a similar user has watched the movie\n",
    "                if total_contributions > 0:\n",
    "                    average = ratings_sum / total_contributions\n",
    "                    partial_ratings_matrix[i_user , j_movie] = average\n",
    "                    num_of_predicted_value += 1\n",
    "            \n",
    "print(num_of_predicted_value)"
   ]
  },
  {
   "cell_type": "code",
   "execution_count": 1444,
   "metadata": {},
   "outputs": [
    {
     "data": {
      "application/vnd.jupyter.widget-view+json": {
       "model_id": "713894e320614464afa3b128a2c8bdfb",
       "version_major": 2,
       "version_minor": 0
      },
      "text/plain": [
       "  0%|          | 0/668 [00:00<?, ?it/s]"
      ]
     },
     "metadata": {},
     "output_type": "display_data"
    },
    {
     "name": "stdout",
     "output_type": "stream",
     "text": [
      "There are 3265594 missing valuess\n",
      "There are 3634178 values inserted\n",
      "There are 6899772 values\n"
     ]
    }
   ],
   "source": [
    "# Count the number of missing values\n",
    "count_missing_values(partial_ratings_matrix)"
   ]
  },
  {
   "cell_type": "code",
   "execution_count": 1445,
   "metadata": {},
   "outputs": [
    {
     "data": {
      "application/vnd.jupyter.widget-view+json": {
       "model_id": "8a419d7e03d94865b3ab6d9d4c0d6dfe",
       "version_major": 2,
       "version_minor": 0
      },
      "text/plain": [
       "  0%|          | 0/668 [00:00<?, ?it/s]"
      ]
     },
     "metadata": {},
     "output_type": "display_data"
    },
    {
     "name": "stdout",
     "output_type": "stream",
     "text": [
      "2186491\n"
     ]
    }
   ],
   "source": [
    "# Filling matrix with some ratings due to content similarities -> with avg between content and collaborative filtering\n",
    "possible_ratings_matrix = partial_ratings_matrix.copy() # to maintain the original\n",
    "num_of_predicted_value = 0\n",
    "\n",
    "for i_user in tqdm(range(possible_ratings_matrix.shape[0])):\n",
    "    \n",
    "    for key , cluster in movie_cluster.items():\n",
    "        # For each cluster calculate the average rate and assign it to all the elements in it \n",
    "        pos = 0\n",
    "        ratings_sum = 0\n",
    "        elements_in_sum = 0\n",
    "        movie_to_rate = list()\n",
    "        for movie_id in cluster:\n",
    "            # Take the position in the matrix of that movie\n",
    "            pos = movieIds_available.index(movie_id , pos)\n",
    "\n",
    "            # If the movie doesn't have a rate\n",
    "            if ratings_matrix[i_user , pos] == 0:\n",
    "                # Add in the new list\n",
    "                movie_to_rate.append(pos)\n",
    "            else:\n",
    "                # Sum the rate for the avg\n",
    "                ratings_sum += ratings_matrix[i_user , pos]\n",
    "                elements_in_sum += 1\n",
    "\n",
    "        # If there is at least a rating\n",
    "        if elements_in_sum > 0:\n",
    "            rating = ratings_sum / elements_in_sum\n",
    "        else:\n",
    "            continue\n",
    "\n",
    "        # For all the movies in the cluster that hasn't been watched yet\n",
    "        for movie_pos in movie_to_rate:\n",
    "            # If the movie hasn't a prediction from the collaborative filtering\n",
    "            if possible_ratings_matrix[i_user , movie_pos] == 0:\n",
    "                possible_ratings_matrix[i_user , movie_pos] = rating\n",
    "                num_of_predicted_value += 1\n",
    "            else:\n",
    "                # If the movie has a prediction from the collaborative filterting -> avg\n",
    "                possible_ratings_matrix[i_user , movie_pos] = (possible_ratings_matrix[i_user , movie_pos] + rating) / 2\n",
    "                        \n",
    "print(num_of_predicted_value)"
   ]
  },
  {
   "cell_type": "code",
   "execution_count": 1386,
   "metadata": {},
   "outputs": [
    {
     "data": {
      "application/vnd.jupyter.widget-view+json": {
       "model_id": "765eb5cc75884cad9ef5b2227d795cf1",
       "version_major": 2,
       "version_minor": 0
      },
      "text/plain": [
       "  0%|          | 0/668 [00:00<?, ?it/s]"
      ]
     },
     "metadata": {},
     "output_type": "display_data"
    },
    {
     "name": "stdout",
     "output_type": "stream",
     "text": [
      "3198219\n"
     ]
    }
   ],
   "source": [
    "# Filling matrix with some ratings due to content similarities -> standard version\n",
    "possible_ratings_matrix = partial_ratings_matrix.copy() # to maintain the original\n",
    "#possible_ratings_matrix = ratings_matrix.copy() #-> if content filtering without collaborative filtering\n",
    "num_of_predicted_value = 0\n",
    "\n",
    "for i_user in tqdm(range(possible_ratings_matrix.shape[0])):    \n",
    "    for j_movie in range(possible_ratings_matrix.shape[1]):\n",
    "        # If user i_user has whatched and rated movie j_movie\n",
    "        if ratings_matrix[i_user , j_movie] >= 0.5:\n",
    "            # Take movies similar to j_movie\n",
    "            cluster = index_cluster[movieIds_available[j_movie]]\n",
    "            sim_movies_ids = movie_cluster[cluster]\n",
    "            # Calculate the avg rating for the cluster\n",
    "\n",
    "            pos = 0\n",
    "            ratings_sum = 0\n",
    "            elements_in_sum = 0\n",
    "            movie_to_rate = list()\n",
    "            for movie_id in sim_movies_ids:\n",
    "                # Take the position in the matrix of that movie\n",
    "                pos = movieIds_available.index(movie_id , pos)\n",
    "\n",
    "                # If the movie doesn't have a rate\n",
    "                if ratings_matrix[i_user , pos] == 0:\n",
    "                    # Add in the new list\n",
    "                    movie_to_rate.append(pos)\n",
    "                else:\n",
    "                    # Sum the rate for the avg\n",
    "                    ratings_sum += ratings_matrix[i_user , pos]\n",
    "                    elements_in_sum += 1\n",
    "\n",
    "            # If there is at least a rating\n",
    "            if elements_in_sum > 0:\n",
    "                rating = ratings_sum / elements_in_sum\n",
    "            else:\n",
    "                continue\n",
    "\n",
    "            # For all the movies in the cluster that hasn't been rated yet, insert the cluster's average\n",
    "            for movie_pos in movie_to_rate:\n",
    "                if possible_ratings_matrix[i_user , movie_pos] == 0:\n",
    "                    possible_ratings_matrix[i_user , movie_pos] = rating\n",
    "                    num_of_predicted_value += 1\n",
    "                        \n",
    "print(num_of_predicted_value)"
   ]
  },
  {
   "cell_type": "code",
   "execution_count": 1446,
   "metadata": {},
   "outputs": [
    {
     "data": {
      "application/vnd.jupyter.widget-view+json": {
       "model_id": "6c440b1b651c4ddda59415b499837a72",
       "version_major": 2,
       "version_minor": 0
      },
      "text/plain": [
       "  0%|          | 0/668 [00:00<?, ?it/s]"
      ]
     },
     "metadata": {},
     "output_type": "display_data"
    },
    {
     "name": "stdout",
     "output_type": "stream",
     "text": [
      "There are 1079103 missing valuess\n",
      "There are 5820669 values inserted\n",
      "There are 6899772 values\n"
     ]
    }
   ],
   "source": [
    "# Count the number of missing values\n",
    "count_missing_values(possible_ratings_matrix)"
   ]
  },
  {
   "cell_type": "code",
   "execution_count": 1001,
   "metadata": {},
   "outputs": [],
   "source": [
    "# Content + collaborative filtering\n",
    "#np.savetxt('content_collaborative_filterting_matrix.csv' , possible_ratings_matrix , delimiter = ',' , fmt = '%1.1f')"
   ]
  },
  {
   "cell_type": "code",
   "execution_count": 364,
   "metadata": {},
   "outputs": [],
   "source": [
    "# Content + collaborative filtering\n",
    "#possible_ratings_matrix = np.loadtxt('content_collaborative_filterting_matrix.csv', delimiter=',')"
   ]
  },
  {
   "cell_type": "code",
   "execution_count": 1447,
   "metadata": {},
   "outputs": [
    {
     "name": "stdout",
     "output_type": "stream",
     "text": [
      "[[0.  0.  0.  ... 0.  0.  0. ]\n",
      " [0.  0.  2.  ... 0.  0.  0. ]\n",
      " [0.  0.  0.  ... 0.  0.  0. ]\n",
      " ...\n",
      " [0.  0.  0.  ... 0.  0.  0. ]\n",
      " [0.  0.  0.  ... 0.  0.  0. ]\n",
      " [0.  3.  0.  ... 0.  4.5 0. ]]\n",
      "===============================\n",
      "[[3.73046875 3.3872549  2.97159091 ... 2.90909091 4.05128205 0.        ]\n",
      " [4.         3.75       2.         ... 3.25       4.6        0.        ]\n",
      " [3.48046875 3.1372549  3.3125     ... 3.25       4.2254902  0.        ]\n",
      " ...\n",
      " [3.53046875 3.1872549  2.95535714 ... 2.89285714 3.98397436 0.        ]\n",
      " [3.81380208 3.47058824 3.35096154 ... 3.28846154 4.08333333 0.        ]\n",
      " [3.38404018 3.         2.8943264  ... 2.8318264  4.5        2.25      ]]\n"
     ]
    }
   ],
   "source": [
    "print(ratings_matrix)\n",
    "print(\"===============================\")\n",
    "print(possible_ratings_matrix)"
   ]
  },
  {
   "cell_type": "markdown",
   "metadata": {
    "id": "VThu3D-rlIgf"
   },
   "source": [
    "# Singular value truncation (SVT) based recommender system"
   ]
  },
  {
   "cell_type": "code",
   "execution_count": 1448,
   "metadata": {},
   "outputs": [
    {
     "name": "stdout",
     "output_type": "stream",
     "text": [
      "(0.9009110467493127, 0.5007772676209368)\n",
      "At this stage 20516 values have already been predicted\n",
      "True positive:  15126\n",
      "True positive + false positive:  17360\n",
      "True positive + false negative:  16735\n",
      "Precision:  0.8713133640552996\n",
      "Recall:  0.9038541977890648\n"
     ]
    },
    {
     "data": {
      "text/plain": [
       "0.8872855257369114"
      ]
     },
     "execution_count": 1448,
     "metadata": {},
     "output_type": "execute_result"
    }
   ],
   "source": [
    "# Aanalyzing the errors/precision/recall/f1 score after the prediction of the ratings predicted only\n",
    "rows_test_limited = list()\n",
    "cols_test_limited = list()\n",
    "vals_test_limited = list()\n",
    "\n",
    "def analyze_starting_errors():\n",
    "    for i in range(len(rows_test)):\n",
    "        # Add just the position filled with the algortithm\n",
    "        if possible_ratings_matrix[rows_test[i]][cols_test[i]] != 0:\n",
    "            rows_test_limited.append(rows_test[i])\n",
    "            cols_test_limited.append(cols_test[i])\n",
    "            vals_test_limited.append(vals_test[i])\n",
    "            \n",
    "    vals_pred_limited = possible_ratings_matrix[rows_test_limited, cols_test_limited]\n",
    "    err = vals_test_limited - vals_pred_limited\n",
    "    RMSE = np.sqrt(np.mean(err**2))\n",
    "    rho = pearsonr(vals_test_limited, vals_pred_limited)[0]\n",
    "    \n",
    "    return RMSE , rho\n",
    "\n",
    "# Perform some evaluations\n",
    "def precision_and_recall_initial_state():\n",
    "    total_recommended = 0 # true positive + false negative\n",
    "    predicted_recommended_items = 0 # true positive + false positive\n",
    "    predicted_true_recommended_items = 0 # true positive\n",
    "    # A movie is recommended if it's rating is greater than this value\n",
    "    recommendation_value = 3\n",
    "    for i in range(len(rows_test_limited)):\n",
    "        true_rating = vals_test_limited[i]\n",
    "        predicted_value = possible_ratings_matrix[rows_test_limited[i]][cols_test_limited[i]]\n",
    "        # Calculate true positive\n",
    "        if true_rating >= recommendation_value: \n",
    "            total_recommended += 1\n",
    "            if predicted_value >= recommendation_value:\n",
    "                predicted_true_recommended_items += 1\n",
    "        # Calculate true positive + false positive\n",
    "        if predicted_value >= recommendation_value:\n",
    "            predicted_recommended_items += 1\n",
    "                \n",
    "    print(\"True positive: \" , predicted_true_recommended_items)\n",
    "    print(\"True positive + false positive: \" , predicted_recommended_items)\n",
    "    print(\"True positive + false negative: \" , total_recommended)\n",
    "    precision = predicted_true_recommended_items / predicted_recommended_items\n",
    "    recall = predicted_true_recommended_items / total_recommended\n",
    "    print(\"Precision: \" , precision)\n",
    "    print(\"Recall: \" , recall)\n",
    "    return precision , recall\n",
    "\n",
    "def F1_measure(precision_value , recall_value):\n",
    "    return 2 * precision_value * recall_value / ( precision_value + recall_value)\n",
    "\n",
    "print(analyze_starting_errors()) \n",
    "print(\"At this stage %d values have already been predicted\" % len(rows_test_limited))\n",
    "precision , recall = precision_and_recall_initial_state()\n",
    "F1_measure(precision , recall)"
   ]
  },
  {
   "cell_type": "code",
   "execution_count": null,
   "metadata": {},
   "outputs": [],
   "source": [
    "'''\n",
    "    movie 0.7 + avg between collaborative and content filtering\n",
    "        RMSE: 0.928\n",
    "        rh0: 0.474\n",
    "\n",
    "        True positive: 14914\n",
    "        True positivie + False positive: 17242\n",
    "        True positive + False negative: 16315\n",
    "        Precision: 0.865\n",
    "        Recall:    0.914\n",
    "        F-1 score: 0.889  \n",
    "\n",
    "    movie 0.7\n",
    "        RMSE: 0.979\n",
    "        rh0: 0.418\n",
    "\n",
    "        True positive: 14555\n",
    "        True positivie + False positive: 16835\n",
    "        True positive + fate negative: 16566\n",
    "        Precision: 0.865\n",
    "        Recall:    0.879\n",
    "        F-1 score: 0.872  \n",
    "\n",
    "    movie 0.9\n",
    "        RMSE: 1.012\n",
    "        rho: 0.409\n",
    "\n",
    "        True positive: 13754\n",
    "        True positivie + False positive: 15821\n",
    "        True positive + fate negative: 15774\n",
    "        Precision: 0.869\n",
    "        Recall:    0.872\n",
    "        F-1 score: 0.871    \n",
    "'''"
   ]
  },
  {
   "cell_type": "code",
   "execution_count": 1449,
   "metadata": {},
   "outputs": [
    {
     "data": {
      "application/vnd.jupyter.widget-view+json": {
       "model_id": "e2c3594d6df84206bae96d32429b8890",
       "version_major": 2,
       "version_minor": 0
      },
      "text/plain": [
       "  0%|          | 0/668 [00:00<?, ?it/s]"
      ]
     },
     "metadata": {},
     "output_type": "display_data"
    },
    {
     "name": "stdout",
     "output_type": "stream",
     "text": [
      "Saved 5820669 values\n"
     ]
    }
   ],
   "source": [
    "# Reconstruct rows_train, cols_train, vals_train with all the value of the input + already predicted values\n",
    "counter = 0\n",
    "rows_train_updated = list()\n",
    "cols_train_updated = list()\n",
    "vals_train_updated = list()\n",
    "for i_user in tqdm(range(possible_ratings_matrix.shape[0])):\n",
    "    for j_movie in range(possible_ratings_matrix.shape[1]):\n",
    "        # If it is a default or predicted value, save the position\n",
    "        if possible_ratings_matrix[i_user][j_movie] != 0:\n",
    "            rows_train_updated.append(i_user)\n",
    "            cols_train_updated.append(j_movie)\n",
    "            vals_train_updated.append(possible_ratings_matrix[i_user][j_movie])\n",
    "            counter += 1\n",
    "print(\"Saved %d values\" % counter)"
   ]
  },
  {
   "cell_type": "code",
   "execution_count": 1450,
   "metadata": {},
   "outputs": [],
   "source": [
    "def errors():\n",
    "    vals_pred = X_hat[rows_test, cols_test]\n",
    "    err = vals_test - vals_pred\n",
    "    RMSE = np.sqrt(np.mean(err**2))\n",
    "    rho = pearsonr(vals_test, vals_pred)[0]\n",
    "    \n",
    "    return RMSE , rho"
   ]
  },
  {
   "cell_type": "code",
   "execution_count": null,
   "metadata": {},
   "outputs": [],
   "source": [
    "# errors_jit = jax.jit(errors)"
   ]
  },
  {
   "cell_type": "code",
   "execution_count": 1451,
   "metadata": {
    "id": "nk3shAEo6OWu"
   },
   "outputs": [
    {
     "name": "stdout",
     "output_type": "stream",
     "text": [
      "True positive:  30252\n",
      "True positive + false positive:  34720\n",
      "True positive + false negative:  33470\n",
      "Precision:  0.8713133640552996\n",
      "Recall:  0.9038541977890648\n"
     ]
    },
    {
     "data": {
      "application/vnd.jupyter.widget-view+json": {
       "model_id": "eb3bd057df8049a29b3bb5b3e9758cc8",
       "version_major": 2,
       "version_minor": 0
      },
      "text/plain": [
       "  0%|          | 0/100 [00:00<?, ?it/s]"
      ]
     },
     "metadata": {},
     "output_type": "display_data"
    },
    {
     "name": "stdout",
     "output_type": "stream",
     "text": [
      "================== iter 10 - theshold 182.79 - increment 1.169e+02\n",
      "RMSE: 0.915\n",
      "rho : 0.485\n",
      "precision: 0.871\n",
      "recall: 0.895\n",
      "F1-score: 0.883\n",
      "================== iter 20 - theshold 165.39 - increment 2.109e+01\n",
      "RMSE: 0.910\n",
      "rho : 0.493\n",
      "precision: 0.871\n",
      "recall: 0.899\n",
      "F1-score: 0.885\n",
      "================== iter 30 - theshold 149.65 - increment 5.884e+00\n",
      "RMSE: 0.910\n",
      "rho : 0.494\n",
      "precision: 0.871\n",
      "recall: 0.899\n",
      "F1-score: 0.885\n",
      "================== iter 40 - theshold 135.41 - increment 3.649e+00\n",
      "RMSE: 0.909\n",
      "rho : 0.494\n",
      "precision: 0.871\n",
      "recall: 0.899\n",
      "F1-score: 0.885\n",
      "================== iter 50 - theshold 122.53 - increment 2.905e+00\n",
      "RMSE: 0.909\n",
      "rho : 0.494\n",
      "precision: 0.871\n",
      "recall: 0.899\n",
      "F1-score: 0.885\n",
      "================== iter 60 - theshold 110.87 - increment 2.575e+00\n",
      "RMSE: 0.909\n",
      "rho : 0.494\n",
      "precision: 0.871\n",
      "recall: 0.899\n",
      "F1-score: 0.885\n",
      "================== iter 70 - theshold 100.32 - increment 2.325e+00\n",
      "RMSE: 0.909\n",
      "rho : 0.494\n",
      "precision: 0.871\n",
      "recall: 0.899\n",
      "F1-score: 0.885\n",
      "================== iter 80 - theshold 90.77 - increment 2.115e+00\n",
      "RMSE: 0.909\n",
      "rho : 0.494\n",
      "precision: 0.871\n",
      "recall: 0.900\n",
      "F1-score: 0.885\n",
      "================== iter 90 - theshold 82.13 - increment 2.001e+00\n",
      "RMSE: 0.909\n",
      "rho : 0.495\n",
      "precision: 0.871\n",
      "recall: 0.900\n",
      "F1-score: 0.885\n",
      "================== iter 100 - theshold 74.32 - increment 1.890e+00\n",
      "RMSE: 0.909\n",
      "rho : 0.495\n",
      "precision: 0.871\n",
      "recall: 0.900\n",
      "F1-score: 0.885\n"
     ]
    }
   ],
   "source": [
    "# SVT before with the empty matrix , now check the rank, maybe it's low\n",
    "n_max_iter = 100\n",
    "\n",
    "increment_tol = 1e-1\n",
    "\n",
    "# Threshold parameters\n",
    "a = 0.01\n",
    "b = 200\n",
    "\n",
    "RMSE_list = list()\n",
    "rho_list = list()\n",
    "precision_list = list()\n",
    "recall_list = list()\n",
    "f1_score_list = list()\n",
    "\n",
    "# Calculating initial errors / parameters -> using just the predicted value\n",
    "RMSE , rho = analyze_starting_errors()\n",
    "precision , recall = precision_and_recall_initial_state()\n",
    "f1_score = F1_measure(precision , recall)\n",
    "\n",
    "RMSE_list.append(RMSE)\n",
    "rho_list.append(rho)\n",
    "precision_list.append(precision)\n",
    "recall_list.append(recall)\n",
    "f1_score_list.append(f1_score)\n",
    "\n",
    "\n",
    "X_hat = possible_ratings_matrix\n",
    "\n",
    "for k in tqdm(range(n_max_iter)):\n",
    "    X_old = X_hat.copy()\n",
    "    \n",
    "    # Calculating the SVD of the current matrix\n",
    "    U,s,VT = np.linalg.svd(X_hat, full_matrices=False)\n",
    "\n",
    "    # Update the threshold\n",
    "    threshold = b * np.exp(-k * a)\n",
    "    #threshold = 50\n",
    "    \n",
    "    s[s > 0] = s[s > 0] - threshold\n",
    "    s[s < 0] = 0\n",
    "\n",
    "    # Calculating the new matrix trough SVD\n",
    "    X_hat = U @ np.diag(s) @ VT\n",
    "    \n",
    "    # Maintain the default values\n",
    "    X_hat[rows_train_updated,cols_train_updated] = vals_train_updated\n",
    "    \n",
    "    # Some negative values could appear -> set to 0\n",
    "    X_hat[X_hat < 0] = 0\n",
    "\n",
    "    # Calculate the increment -> how much the new matrix is different from the previuos one\n",
    "    increment = np.linalg.norm(X_hat - X_old) \n",
    "\n",
    "    if k % 10 == 9:\n",
    "        # Calculate the errors\n",
    "        RMSE , rho = errors()\n",
    "        # Add the errors in the lists\n",
    "        RMSE_list.append(RMSE)\n",
    "        rho_list.append(rho)\n",
    "        precision , recall = precision_and_recall()\n",
    "        f1_score = F1_measure(precision , recall)\n",
    "        \n",
    "        precision_list.append(precision)\n",
    "        recall_list.append(recall)\n",
    "        f1_score_list.append(f1_score)\n",
    "        # Show the errors\n",
    "        print('================== iter %d - theshold %1.2f - increment %1.3e' % (k+1, threshold, increment))\n",
    "        print('RMSE: %1.3f' % RMSE)\n",
    "        print('rho : %1.3f' % rho)\n",
    "        print('precision: %1.3f' % precision)\n",
    "        print('recall: %1.3f' % recall)\n",
    "        print('F1-score: %1.3f' % f1_score)\n",
    "\n",
    "    # If the increment is lower -> stop the algorithm\n",
    "    if increment < increment_tol:\n",
    "        break"
   ]
  },
  {
   "cell_type": "code",
   "execution_count": 1209,
   "metadata": {
    "id": "weU-Vvj4tCQs"
   },
   "outputs": [],
   "source": [
    "#print(s)"
   ]
  },
  {
   "cell_type": "code",
   "execution_count": null,
   "metadata": {},
   "outputs": [],
   "source": [
    "'''\n",
    "    movie = 0.7 + avg between collaborative and content filtering (100 iterations)\n",
    "        Threshold = a= 0.01 , b = 200:\n",
    "\n",
    "        RMSE: 0.944\n",
    "        rho:  0.463\n",
    "\n",
    "        Precision: 0.865\n",
    "        Recall:    0.905\n",
    "        F-1 measure: 0.885\n",
    "\n",
    "    movie = 0.7\n",
    "        Threshold = a= 0.01 , b = 200:\n",
    "\n",
    "        RMSE: 0.987\n",
    "        rho:  0.417\n",
    "\n",
    "        Precision: 0.864\n",
    "        Recall:    0.874\n",
    "        F-1 measure: 0.869\n",
    "'''"
   ]
  },
  {
   "cell_type": "code",
   "execution_count": 1210,
   "metadata": {},
   "outputs": [],
   "source": [
    "# Save the result as a CSV file\n",
    "#np.savetxt('final_ratings_matrix.csv', X_hat, delimiter=',' , fmt='%1.1f')"
   ]
  },
  {
   "cell_type": "code",
   "execution_count": null,
   "metadata": {},
   "outputs": [],
   "source": [
    "# Load the matrix final_ratings_matrix from the CSV file\n",
    "#X_hat = np.loadtxt('final_ratings_matrix.csv', delimiter=',')"
   ]
  },
  {
   "cell_type": "code",
   "execution_count": 1440,
   "metadata": {},
   "outputs": [],
   "source": [
    "# Perform some evaluations\n",
    "def precision_and_recall():\n",
    "    total_recommended = 0 # true positive + false negative\n",
    "    predicted_recommended_items = 0 # true positive + false positive\n",
    "    predicted_true_recommended_items = 0 # true positive\n",
    "    # A movie is recommended if it's rating is greater than this value\n",
    "    recommendation_value = 3\n",
    "    for i in range(len(rows_test)):\n",
    "        true_rating = vals_test[i]\n",
    "        predicted_value = X_hat[rows_test[i]][cols_test[i]]\n",
    "        # Calculate true positive\n",
    "        if true_rating >= recommendation_value: \n",
    "            total_recommended += 1\n",
    "            if predicted_value >= recommendation_value:\n",
    "                predicted_true_recommended_items += 1\n",
    "        # Calculate true positive + false positive\n",
    "        if predicted_value >= recommendation_value:\n",
    "            predicted_recommended_items += 1\n",
    "                \n",
    "    #print(\"True positive: \" , predicted_true_recommended_items)\n",
    "    #print(\"True positive + false positive: \" , predicted_recommended_items)\n",
    "    #print(\"True positive + false negative: \" , total_recommended)\n",
    "    precision = predicted_true_recommended_items / predicted_recommended_items\n",
    "    recall = predicted_true_recommended_items / total_recommended\n",
    "    #print(\"Precision: \" , precision)\n",
    "    #print(\"Recall: \" , recall)\n",
    "    return precision , recall\n",
    "\n",
    "def F1_measure(precision_value , recall_value):\n",
    "    return 2 * precision_value * recall_value / ( precision_value + recall_value)"
   ]
  },
  {
   "cell_type": "code",
   "execution_count": 1441,
   "metadata": {},
   "outputs": [
    {
     "data": {
      "text/plain": [
       "0.8840231266815501"
      ]
     },
     "execution_count": 1441,
     "metadata": {},
     "output_type": "execute_result"
    }
   ],
   "source": [
    "precision , recall = precision_and_recall()\n",
    "F1_measure(precision , recall)"
   ]
  },
  {
   "cell_type": "code",
   "execution_count": 1442,
   "metadata": {},
   "outputs": [
    {
     "data": {
      "text/plain": [
       "<matplotlib.legend.Legend at 0x1bbd50fbc40>"
      ]
     },
     "execution_count": 1442,
     "metadata": {},
     "output_type": "execute_result"
    },
    {
     "data": {
      "image/png": "[encoded data removed]",
      "text/plain": [
       "<Figure size 540x252 with 1 Axes>"
      ]
     },
     "metadata": {
      "needs_background": "light"
     },
     "output_type": "display_data"
    }
   ],
   "source": [
    "# Show the variations \n",
    "plt.rcParams[\"figure.figsize\"] = [7.50, 3.50]\n",
    "plt.rcParams[\"figure.autolayout\"] = True\n",
    "\n",
    "#plt.plot(RMSE_list , color = 'black', label = '$RMSE$')\n",
    "plt.plot(precision_list , color = 'red', label = '$Precision$')\n",
    "plt.plot(recall_list , color = 'blue', label = '$Recall$')\n",
    "plt.plot(f1_score_list , color = 'green', label = '$F-1 Score$')\n",
    "plt.legend()"
   ]
  },
  {
   "cell_type": "code",
   "execution_count": null,
   "metadata": {},
   "outputs": [],
   "source": []
  }
 ],
 "metadata": {
  "colab": {
   "collapsed_sections": [],
   "name": "NA_project.ipynb",
   "provenance": []
  },
  "kernelspec": {
   "display_name": "Python 3",
   "language": "python",
   "name": "python3"
  },
  "language_info": {
   "codemirror_mode": {
    "name": "ipython",
    "version": 3
   },
   "file_extension": ".py",
   "mimetype": "text/x-python",
   "name": "python",
   "nbconvert_exporter": "python",
   "pygments_lexer": "ipython3",
   "version": "3.8.8"
  },
  "widgets": {
   "application/vnd.jupyter.widget-state+json": {
    "04639e5503484146b79f7bbde269e3ad": {
     "model_module": "@jupyter-widgets/base",
     "model_module_version": "1.2.0",
     "model_name": "LayoutModel",
     "state": {
      "_model_module": "@jupyter-widgets/base",
      "_model_module_version": "1.2.0",
      "_model_name": "LayoutModel",
      "_view_count": null,
      "_view_module": "@jupyter-widgets/base",
      "_view_module_version": "1.2.0",
      "_view_name": "LayoutView",
      "align_content": null,
      "align_items": null,
      "align_self": null,
      "border": null,
      "bottom": null,
      "display": null,
      "flex": null,
      "flex_flow": null,
      "grid_area": null,
      "grid_auto_columns": null,
      "grid_auto_flow": null,
      "grid_auto_rows": null,
      "grid_column": null,
      "grid_gap": null,
      "grid_row": null,
      "grid_template_areas": null,
      "grid_template_columns": null,
      "grid_template_rows": null,
      "height": null,
      "justify_content": null,
      "justify_items": null,
      "left": null,
      "margin": null,
      "max_height": null,
      "max_width": null,
      "min_height": null,
      "min_width": null,
      "object_fit": null,
      "object_position": null,
      "order": null,
      "overflow": null,
      "overflow_x": null,
      "overflow_y": null,
      "padding": null,
      "right": null,
      "top": null,
      "visibility": null,
      "width": null
     }
    },
    "0cdca51406f64e6cb3fb1c3a32d0d903": {
     "model_module": "@jupyter-widgets/controls",
     "model_module_version": "1.5.0",
     "model_name": "HBoxModel",
     "state": {
      "_dom_classes": [],
      "_model_module": "@jupyter-widgets/controls",
      "_model_module_version": "1.5.0",
      "_model_name": "HBoxModel",
      "_view_count": null,
      "_view_module": "@jupyter-widgets/controls",
      "_view_module_version": "1.5.0",
      "_view_name": "HBoxView",
      "box_style": "",
      "children": [
       "IPY_MODEL_fe8e28781d594af79f5f2fa8f2ec1216",
       "IPY_MODEL_b6280335918b4bf49f9b2e464db75509",
       "IPY_MODEL_720aad33f52d45acbc795bab32d7d454"
      ],
      "layout": "IPY_MODEL_557d5febc1d34fce9f425884ad4d0c1f"
     }
    },
    "1128a775b348495d9d1abb336ccce0e9": {
     "model_module": "@jupyter-widgets/controls",
     "model_module_version": "1.5.0",
     "model_name": "ProgressStyleModel",
     "state": {
      "_model_module": "@jupyter-widgets/controls",
      "_model_module_version": "1.5.0",
      "_model_name": "ProgressStyleModel",
      "_view_count": null,
      "_view_module": "@jupyter-widgets/base",
      "_view_module_version": "1.2.0",
      "_view_name": "StyleView",
      "bar_color": null,
      "description_width": ""
     }
    },
    "2523c88746134cfdb5604356b5b4d05f": {
     "model_module": "@jupyter-widgets/base",
     "model_module_version": "1.2.0",
     "model_name": "LayoutModel",
     "state": {
      "_model_module": "@jupyter-widgets/base",
      "_model_module_version": "1.2.0",
      "_model_name": "LayoutModel",
      "_view_count": null,
      "_view_module": "@jupyter-widgets/base",
      "_view_module_version": "1.2.0",
      "_view_name": "LayoutView",
      "align_content": null,
      "align_items": null,
      "align_self": null,
      "border": null,
      "bottom": null,
      "display": null,
      "flex": null,
      "flex_flow": null,
      "grid_area": null,
      "grid_auto_columns": null,
      "grid_auto_flow": null,
      "grid_auto_rows": null,
      "grid_column": null,
      "grid_gap": null,
      "grid_row": null,
      "grid_template_areas": null,
      "grid_template_columns": null,
      "grid_template_rows": null,
      "height": null,
      "justify_content": null,
      "justify_items": null,
      "left": null,
      "margin": null,
      "max_height": null,
      "max_width": null,
      "min_height": null,
      "min_width": null,
      "object_fit": null,
      "object_position": null,
      "order": null,
      "overflow": null,
      "overflow_x": null,
      "overflow_y": null,
      "padding": null,
      "right": null,
      "top": null,
      "visibility": null,
      "width": null
     }
    },
    "2a8003e5b1bf4c2cb76a83cf6842b659": {
     "model_module": "@jupyter-widgets/base",
     "model_module_version": "1.2.0",
     "model_name": "LayoutModel",
     "state": {
      "_model_module": "@jupyter-widgets/base",
      "_model_module_version": "1.2.0",
      "_model_name": "LayoutModel",
      "_view_count": null,
      "_view_module": "@jupyter-widgets/base",
      "_view_module_version": "1.2.0",
      "_view_name": "LayoutView",
      "align_content": null,
      "align_items": null,
      "align_self": null,
      "border": null,
      "bottom": null,
      "display": null,
      "flex": null,
      "flex_flow": null,
      "grid_area": null,
      "grid_auto_columns": null,
      "grid_auto_flow": null,
      "grid_auto_rows": null,
      "grid_column": null,
      "grid_gap": null,
      "grid_row": null,
      "grid_template_areas": null,
      "grid_template_columns": null,
      "grid_template_rows": null,
      "height": null,
      "justify_content": null,
      "justify_items": null,
      "left": null,
      "margin": null,
      "max_height": null,
      "max_width": null,
      "min_height": null,
      "min_width": null,
      "object_fit": null,
      "object_position": null,
      "order": null,
      "overflow": null,
      "overflow_x": null,
      "overflow_y": null,
      "padding": null,
      "right": null,
      "top": null,
      "visibility": null,
      "width": null
     }
    },
    "4c69cf88bc134fe88b4abbc4d9cb2a93": {
     "model_module": "@jupyter-widgets/base",
     "model_module_version": "1.2.0",
     "model_name": "LayoutModel",
     "state": {
      "_model_module": "@jupyter-widgets/base",
      "_model_module_version": "1.2.0",
      "_model_name": "LayoutModel",
      "_view_count": null,
      "_view_module": "@jupyter-widgets/base",
      "_view_module_version": "1.2.0",
      "_view_name": "LayoutView",
      "align_content": null,
      "align_items": null,
      "align_self": null,
      "border": null,
      "bottom": null,
      "display": null,
      "flex": null,
      "flex_flow": null,
      "grid_area": null,
      "grid_auto_columns": null,
      "grid_auto_flow": null,
      "grid_auto_rows": null,
      "grid_column": null,
      "grid_gap": null,
      "grid_row": null,
      "grid_template_areas": null,
      "grid_template_columns": null,
      "grid_template_rows": null,
      "height": null,
      "justify_content": null,
      "justify_items": null,
      "left": null,
      "margin": null,
      "max_height": null,
      "max_width": null,
      "min_height": null,
      "min_width": null,
      "object_fit": null,
      "object_position": null,
      "order": null,
      "overflow": null,
      "overflow_x": null,
      "overflow_y": null,
      "padding": null,
      "right": null,
      "top": null,
      "visibility": null,
      "width": null
     }
    },
    "5178ee5780cd450da7255683bc808ffd": {
     "model_module": "@jupyter-widgets/controls",
     "model_module_version": "1.5.0",
     "model_name": "DescriptionStyleModel",
     "state": {
      "_model_module": "@jupyter-widgets/controls",
      "_model_module_version": "1.5.0",
      "_model_name": "DescriptionStyleModel",
      "_view_count": null,
      "_view_module": "@jupyter-widgets/base",
      "_view_module_version": "1.2.0",
      "_view_name": "StyleView",
      "description_width": ""
     }
    },
    "557d5febc1d34fce9f425884ad4d0c1f": {
     "model_module": "@jupyter-widgets/base",
     "model_module_version": "1.2.0",
     "model_name": "LayoutModel",
     "state": {
      "_model_module": "@jupyter-widgets/base",
      "_model_module_version": "1.2.0",
      "_model_name": "LayoutModel",
      "_view_count": null,
      "_view_module": "@jupyter-widgets/base",
      "_view_module_version": "1.2.0",
      "_view_name": "LayoutView",
      "align_content": null,
      "align_items": null,
      "align_self": null,
      "border": null,
      "bottom": null,
      "display": null,
      "flex": null,
      "flex_flow": null,
      "grid_area": null,
      "grid_auto_columns": null,
      "grid_auto_flow": null,
      "grid_auto_rows": null,
      "grid_column": null,
      "grid_gap": null,
      "grid_row": null,
      "grid_template_areas": null,
      "grid_template_columns": null,
      "grid_template_rows": null,
      "height": null,
      "justify_content": null,
      "justify_items": null,
      "left": null,
      "margin": null,
      "max_height": null,
      "max_width": null,
      "min_height": null,
      "min_width": null,
      "object_fit": null,
      "object_position": null,
      "order": null,
      "overflow": null,
      "overflow_x": null,
      "overflow_y": null,
      "padding": null,
      "right": null,
      "top": null,
      "visibility": null,
      "width": null
     }
    },
    "6050c4faead14f83887cea2f742a60d2": {
     "model_module": "@jupyter-widgets/controls",
     "model_module_version": "1.5.0",
     "model_name": "ProgressStyleModel",
     "state": {
      "_model_module": "@jupyter-widgets/controls",
      "_model_module_version": "1.5.0",
      "_model_name": "ProgressStyleModel",
      "_view_count": null,
      "_view_module": "@jupyter-widgets/base",
      "_view_module_version": "1.2.0",
      "_view_name": "StyleView",
      "bar_color": null,
      "description_width": ""
     }
    },
    "65879bfb5dfa4b97a3d4f59de79aecbf": {
     "model_module": "@jupyter-widgets/controls",
     "model_module_version": "1.5.0",
     "model_name": "HTMLModel",
     "state": {
      "_dom_classes": [],
      "_model_module": "@jupyter-widgets/controls",
      "_model_module_version": "1.5.0",
      "_model_name": "HTMLModel",
      "_view_count": null,
      "_view_module": "@jupyter-widgets/controls",
      "_view_module_version": "1.5.0",
      "_view_name": "HTMLView",
      "description": "",
      "description_tooltip": null,
      "layout": "IPY_MODEL_9ae09cdad5d24f2c87fbf7757e59ec9b",
      "placeholder": "​",
      "style": "IPY_MODEL_dee5674f3f3d430591add72683ac60ee",
      "value": "100%"
     }
    },
    "67cb7bdbc2574b9fb746dcf66dcbb962": {
     "model_module": "@jupyter-widgets/controls",
     "model_module_version": "1.5.0",
     "model_name": "FloatProgressModel",
     "state": {
      "_dom_classes": [],
      "_model_module": "@jupyter-widgets/controls",
      "_model_module_version": "1.5.0",
      "_model_name": "FloatProgressModel",
      "_view_count": null,
      "_view_module": "@jupyter-widgets/controls",
      "_view_module_version": "1.5.0",
      "_view_name": "ProgressView",
      "bar_style": "success",
      "description": "",
      "description_tooltip": null,
      "layout": "IPY_MODEL_91fbfde4ef6e44f1aab99a7a8123496a",
      "max": 668,
      "min": 0,
      "orientation": "horizontal",
      "style": "IPY_MODEL_1128a775b348495d9d1abb336ccce0e9",
      "value": 668
     }
    },
    "7070e4bb5f6d4d7f881c533085f9f7ec": {
     "model_module": "@jupyter-widgets/controls",
     "model_module_version": "1.5.0",
     "model_name": "DescriptionStyleModel",
     "state": {
      "_model_module": "@jupyter-widgets/controls",
      "_model_module_version": "1.5.0",
      "_model_name": "DescriptionStyleModel",
      "_view_count": null,
      "_view_module": "@jupyter-widgets/base",
      "_view_module_version": "1.2.0",
      "_view_name": "StyleView",
      "description_width": ""
     }
    },
    "720aad33f52d45acbc795bab32d7d454": {
     "model_module": "@jupyter-widgets/controls",
     "model_module_version": "1.5.0",
     "model_name": "HTMLModel",
     "state": {
      "_dom_classes": [],
      "_model_module": "@jupyter-widgets/controls",
      "_model_module_version": "1.5.0",
      "_model_name": "HTMLModel",
      "_view_count": null,
      "_view_module": "@jupyter-widgets/controls",
      "_view_module_version": "1.5.0",
      "_view_name": "HTMLView",
      "description": "",
      "description_tooltip": null,
      "layout": "IPY_MODEL_2a8003e5b1bf4c2cb76a83cf6842b659",
      "placeholder": "​",
      "style": "IPY_MODEL_7070e4bb5f6d4d7f881c533085f9f7ec",
      "value": " 10329/10329 [10:23&lt;00:00,  7.84it/s]"
     }
    },
    "83bca7dab6794b13aaa2972dd76da287": {
     "model_module": "@jupyter-widgets/controls",
     "model_module_version": "1.5.0",
     "model_name": "DescriptionStyleModel",
     "state": {
      "_model_module": "@jupyter-widgets/controls",
      "_model_module_version": "1.5.0",
      "_model_name": "DescriptionStyleModel",
      "_view_count": null,
      "_view_module": "@jupyter-widgets/base",
      "_view_module_version": "1.2.0",
      "_view_name": "StyleView",
      "description_width": ""
     }
    },
    "91fbfde4ef6e44f1aab99a7a8123496a": {
     "model_module": "@jupyter-widgets/base",
     "model_module_version": "1.2.0",
     "model_name": "LayoutModel",
     "state": {
      "_model_module": "@jupyter-widgets/base",
      "_model_module_version": "1.2.0",
      "_model_name": "LayoutModel",
      "_view_count": null,
      "_view_module": "@jupyter-widgets/base",
      "_view_module_version": "1.2.0",
      "_view_name": "LayoutView",
      "align_content": null,
      "align_items": null,
      "align_self": null,
      "border": null,
      "bottom": null,
      "display": null,
      "flex": null,
      "flex_flow": null,
      "grid_area": null,
      "grid_auto_columns": null,
      "grid_auto_flow": null,
      "grid_auto_rows": null,
      "grid_column": null,
      "grid_gap": null,
      "grid_row": null,
      "grid_template_areas": null,
      "grid_template_columns": null,
      "grid_template_rows": null,
      "height": null,
      "justify_content": null,
      "justify_items": null,
      "left": null,
      "margin": null,
      "max_height": null,
      "max_width": null,
      "min_height": null,
      "min_width": null,
      "object_fit": null,
      "object_position": null,
      "order": null,
      "overflow": null,
      "overflow_x": null,
      "overflow_y": null,
      "padding": null,
      "right": null,
      "top": null,
      "visibility": null,
      "width": null
     }
    },
    "9ae09cdad5d24f2c87fbf7757e59ec9b": {
     "model_module": "@jupyter-widgets/base",
     "model_module_version": "1.2.0",
     "model_name": "LayoutModel",
     "state": {
      "_model_module": "@jupyter-widgets/base",
      "_model_module_version": "1.2.0",
      "_model_name": "LayoutModel",
      "_view_count": null,
      "_view_module": "@jupyter-widgets/base",
      "_view_module_version": "1.2.0",
      "_view_name": "LayoutView",
      "align_content": null,
      "align_items": null,
      "align_self": null,
      "border": null,
      "bottom": null,
      "display": null,
      "flex": null,
      "flex_flow": null,
      "grid_area": null,
      "grid_auto_columns": null,
      "grid_auto_flow": null,
      "grid_auto_rows": null,
      "grid_column": null,
      "grid_gap": null,
      "grid_row": null,
      "grid_template_areas": null,
      "grid_template_columns": null,
      "grid_template_rows": null,
      "height": null,
      "justify_content": null,
      "justify_items": null,
      "left": null,
      "margin": null,
      "max_height": null,
      "max_width": null,
      "min_height": null,
      "min_width": null,
      "object_fit": null,
      "object_position": null,
      "order": null,
      "overflow": null,
      "overflow_x": null,
      "overflow_y": null,
      "padding": null,
      "right": null,
      "top": null,
      "visibility": null,
      "width": null
     }
    },
    "9bb307f55b5748f5aeca94f44133e28c": {
     "model_module": "@jupyter-widgets/base",
     "model_module_version": "1.2.0",
     "model_name": "LayoutModel",
     "state": {
      "_model_module": "@jupyter-widgets/base",
      "_model_module_version": "1.2.0",
      "_model_name": "LayoutModel",
      "_view_count": null,
      "_view_module": "@jupyter-widgets/base",
      "_view_module_version": "1.2.0",
      "_view_name": "LayoutView",
      "align_content": null,
      "align_items": null,
      "align_self": null,
      "border": null,
      "bottom": null,
      "display": null,
      "flex": null,
      "flex_flow": null,
      "grid_area": null,
      "grid_auto_columns": null,
      "grid_auto_flow": null,
      "grid_auto_rows": null,
      "grid_column": null,
      "grid_gap": null,
      "grid_row": null,
      "grid_template_areas": null,
      "grid_template_columns": null,
      "grid_template_rows": null,
      "height": null,
      "justify_content": null,
      "justify_items": null,
      "left": null,
      "margin": null,
      "max_height": null,
      "max_width": null,
      "min_height": null,
      "min_width": null,
      "object_fit": null,
      "object_position": null,
      "order": null,
      "overflow": null,
      "overflow_x": null,
      "overflow_y": null,
      "padding": null,
      "right": null,
      "top": null,
      "visibility": null,
      "width": null
     }
    },
    "9e7ce50457cc4bc3b0ee4c50e673fac5": {
     "model_module": "@jupyter-widgets/controls",
     "model_module_version": "1.5.0",
     "model_name": "HBoxModel",
     "state": {
      "_dom_classes": [],
      "_model_module": "@jupyter-widgets/controls",
      "_model_module_version": "1.5.0",
      "_model_name": "HBoxModel",
      "_view_count": null,
      "_view_module": "@jupyter-widgets/controls",
      "_view_module_version": "1.5.0",
      "_view_name": "HBoxView",
      "box_style": "",
      "children": [
       "IPY_MODEL_65879bfb5dfa4b97a3d4f59de79aecbf",
       "IPY_MODEL_67cb7bdbc2574b9fb746dcf66dcbb962",
       "IPY_MODEL_eeae783f68de420797d6c193c9bc86c1"
      ],
      "layout": "IPY_MODEL_4c69cf88bc134fe88b4abbc4d9cb2a93"
     }
    },
    "b6280335918b4bf49f9b2e464db75509": {
     "model_module": "@jupyter-widgets/controls",
     "model_module_version": "1.5.0",
     "model_name": "FloatProgressModel",
     "state": {
      "_dom_classes": [],
      "_model_module": "@jupyter-widgets/controls",
      "_model_module_version": "1.5.0",
      "_model_name": "FloatProgressModel",
      "_view_count": null,
      "_view_module": "@jupyter-widgets/controls",
      "_view_module_version": "1.5.0",
      "_view_name": "ProgressView",
      "bar_style": "success",
      "description": "",
      "description_tooltip": null,
      "layout": "IPY_MODEL_9bb307f55b5748f5aeca94f44133e28c",
      "max": 10329,
      "min": 0,
      "orientation": "horizontal",
      "style": "IPY_MODEL_6050c4faead14f83887cea2f742a60d2",
      "value": 10329
     }
    },
    "dee5674f3f3d430591add72683ac60ee": {
     "model_module": "@jupyter-widgets/controls",
     "model_module_version": "1.5.0",
     "model_name": "DescriptionStyleModel",
     "state": {
      "_model_module": "@jupyter-widgets/controls",
      "_model_module_version": "1.5.0",
      "_model_name": "DescriptionStyleModel",
      "_view_count": null,
      "_view_module": "@jupyter-widgets/base",
      "_view_module_version": "1.2.0",
      "_view_name": "StyleView",
      "description_width": ""
     }
    },
    "eeae783f68de420797d6c193c9bc86c1": {
     "model_module": "@jupyter-widgets/controls",
     "model_module_version": "1.5.0",
     "model_name": "HTMLModel",
     "state": {
      "_dom_classes": [],
      "_model_module": "@jupyter-widgets/controls",
      "_model_module_version": "1.5.0",
      "_model_name": "HTMLModel",
      "_view_count": null,
      "_view_module": "@jupyter-widgets/controls",
      "_view_module_version": "1.5.0",
      "_view_name": "HTMLView",
      "description": "",
      "description_tooltip": null,
      "layout": "IPY_MODEL_04639e5503484146b79f7bbde269e3ad",
      "placeholder": "​",
      "style": "IPY_MODEL_5178ee5780cd450da7255683bc808ffd",
      "value": " 668/668 [00:04&lt;00:00, 147.82it/s]"
     }
    },
    "fe8e28781d594af79f5f2fa8f2ec1216": {
     "model_module": "@jupyter-widgets/controls",
     "model_module_version": "1.5.0",
     "model_name": "HTMLModel",
     "state": {
      "_dom_classes": [],
      "_model_module": "@jupyter-widgets/controls",
      "_model_module_version": "1.5.0",
      "_model_name": "HTMLModel",
      "_view_count": null,
      "_view_module": "@jupyter-widgets/controls",
      "_view_module_version": "1.5.0",
      "_view_name": "HTMLView",
      "description": "",
      "description_tooltip": null,
      "layout": "IPY_MODEL_2523c88746134cfdb5604356b5b4d05f",
      "placeholder": "​",
      "style": "IPY_MODEL_83bca7dab6794b13aaa2972dd76da287",
      "value": "100%"
     }
    }
   }
  }
 },
 "nbformat": 4,
 "nbformat_minor": 4
}
