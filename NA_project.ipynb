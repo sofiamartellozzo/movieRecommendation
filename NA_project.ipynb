{
 "cells": [
  {
   "cell_type": "markdown",
   "metadata": {
    "id": "ofUfngSuuiuR"
   },
   "source": [
    "#Numerical Analysis' project\n",
    "\n",
    "Movie recommendation system"
   ]
  },
  {
   "cell_type": "code",
   "execution_count": 214,
   "metadata": {
    "id": "BUpzryGvufOX"
   },
   "outputs": [],
   "source": [
    "from scipy.sparse import csr_matrix\n",
    "from scipy.stats import pearsonr\n",
    "from numpy.linalg import matrix_rank\n",
    "from tqdm.notebook import tqdm\n",
    "import numpy as np\n",
    "import matplotlib.pyplot as plt\n",
    "import pandas as pd\n",
    "import seaborn as sns\n",
    "#import jax.numpy as jnp\n",
    "#import jax\n",
    "import time"
   ]
  },
  {
   "cell_type": "markdown",
   "metadata": {
    "id": "v2E-g2QavVzT"
   },
   "source": [
    "Load the dataset using pandas"
   ]
  },
  {
   "cell_type": "code",
   "execution_count": 3,
   "metadata": {
    "id": "_bxmTRyiu9He"
   },
   "outputs": [],
   "source": [
    "movies = pd.read_csv('movies.csv')\n",
    "ratings = pd.read_csv('ratings.csv')"
   ]
  },
  {
   "cell_type": "code",
   "execution_count": 83,
   "metadata": {},
   "outputs": [
    {
     "name": "stdout",
     "output_type": "stream",
     "text": [
      "668 10329\n"
     ]
    }
   ],
   "source": [
    "# Find all the possible user ids and movie ids-> do that after the deletion\n",
    "userIds_available = set()\n",
    "movieIds_available = set()\n",
    "for id in np.array(ratings['userId'] , dtype = int):\n",
    "  userIds_available.add(id)\n",
    "\n",
    "for id in np.array(movies['movieId'] , dtype = int):\n",
    "  movieIds_available.add(id)\n",
    "\n",
    "print(len(userIds_available) , len(movieIds_available))"
   ]
  },
  {
   "cell_type": "code",
   "execution_count": 176,
   "metadata": {
    "colab": {
     "base_uri": "https://localhost:8080/"
    },
    "id": "vr2mVUTIvc2r",
    "outputId": "3617be62-cbfe-49c3-e0e9-4a6e0874f4ac"
   },
   "outputs": [
    {
     "data": {
      "application/vnd.jupyter.widget-view+json": {
       "model_id": "c7d8cda21f764c5da142d4276cac2c5c",
       "version_major": 2,
       "version_minor": 0
      },
      "text/plain": [
       "  0%|          | 0/105339 [00:00<?, ?it/s]"
      ]
     },
     "metadata": {},
     "output_type": "display_data"
    },
    {
     "data": {
      "application/vnd.jupyter.widget-view+json": {
       "model_id": "722d7a1db1f94053b39fdc84a2b031d2",
       "version_major": 2,
       "version_minor": 0
      },
      "text/plain": [
       "  0%|          | 0/105339 [00:00<?, ?it/s]"
      ]
     },
     "metadata": {},
     "output_type": "display_data"
    },
    {
     "data": {
      "text/plain": [
       "(669, 149533, 105339)"
      ]
     },
     "execution_count": 176,
     "metadata": {},
     "output_type": "execute_result"
    }
   ],
   "source": [
    "#ratings # 105339 users' ratings , 668 different users\n",
    "#movies # 10329 movies\n",
    "\n",
    "rows = np.array(ratings['userId'])\n",
    "cols = np.array(ratings['movieId'])\n",
    "vals = np.array(ratings['rating'])\n",
    "\n",
    "n = rows.max() + 1 # Number of user\n",
    "p = cols.max() + 1# Number of movies\n",
    "N = len(vals) # Number of ratings\n",
    "\n",
    "def binary_search(array , low , high , x):\n",
    "    if high >= low:\n",
    "        mid = (high + low) // 2\n",
    "        \n",
    "        # If element is equal to mid\n",
    "        if array[mid] == x:\n",
    "            return mid\n",
    " \n",
    "        # If element is smaller than mid, then it can only\n",
    "        # be present in left subarray\n",
    "        elif array[mid] > x:\n",
    "            return binary_search(array, low, mid - 1, x)\n",
    " \n",
    "        # Else the element can only be present in right subarray\n",
    "        else:\n",
    "            return binary_search(array, mid + 1, high, x)\n",
    " \n",
    "    else:\n",
    "        # Element is not present in the array\n",
    "        return -1\n",
    "\n",
    "# Update the arrays rows/cols with the true position instead of the ids \n",
    "for i_user in tqdm(range(len(rows))):\n",
    "    #rows[i_user] = userIds_available.index(rows[i_user])\n",
    "    rows[i_user] = binary_search(userIds_available , 0 , len(userIds_available) , rows[i_user])\n",
    "for i_movie in tqdm(range(len(cols))):\n",
    "    #cols[i_movie] = movieIds_available.index(cols[i_movie])\n",
    "    cols[i_movie] = binary_search(movieIds_available , 0 , len(movieIds_available) , cols[i_movie])\n",
    "\n",
    "n , p , N"
   ]
  },
  {
   "cell_type": "code",
   "execution_count": null,
   "metadata": {
    "id": "f5lmpABEvelb",
    "tags": []
   },
   "outputs": [],
   "source": [
    "# Command for analyse input data matrix \n",
    "movies.head()\n",
    "ratings.head()\n",
    "movies.info()\n",
    "ratings.info()\n",
    "movies.describe()\n",
    "ratings.describe()\n",
    "sns.distplot(ratings['rating'])\n",
    "sns.distplot(ratings['movieId'])\n",
    "sns.scatterplot(data = ratings , x = 'userId' , y = 'movieId' , hue = 'rating')\n",
    "ratings.corr()"
   ]
  },
  {
   "cell_type": "code",
   "execution_count": 177,
   "metadata": {
    "id": "3MAjyzHuom52"
   },
   "outputs": [],
   "source": [
    "# Shuffle the data\n",
    "indexes = np.arange(N)\n",
    "np.random.seed(0) # for reproducibility\n",
    "np.random.shuffle(indexes)\n",
    "indexes\n",
    "# Reordering the arrays\n",
    "rows = rows[indexes]\n",
    "cols = cols[indexes]\n",
    "vals = vals[indexes]"
   ]
  },
  {
   "cell_type": "markdown",
   "metadata": {
    "id": "RhJA61ParQ1d"
   },
   "source": [
    "Building the train set (80%) and the validation set (20%)"
   ]
  },
  {
   "cell_type": "code",
   "execution_count": 178,
   "metadata": {
    "id": "kiIg-jcNpBZc"
   },
   "outputs": [
    {
     "name": "stdout",
     "output_type": "stream",
     "text": [
      "84271 84271 84271\n"
     ]
    }
   ],
   "source": [
    "# Split data in training and testing\n",
    "num_training = int(N * 0.8)\n",
    "\n",
    "rows_train = rows[:num_training]\n",
    "cols_train = cols[:num_training]\n",
    "vals_train = vals[:num_training]\n",
    "rows_test  = rows[num_training:]\n",
    "cols_test  = cols[num_training:]\n",
    "vals_test  = vals[num_training:]\n",
    "\n",
    "print(len(rows_train) , len(cols_train) , len(vals_train))"
   ]
  },
  {
   "cell_type": "markdown",
   "metadata": {
    "id": "Z6jfWiwBrSqA"
   },
   "source": [
    "Building the matrix with the origina values\n",
    "\n",
    "Building the 'Ratings matrix'\n",
    "Users on the rows and Movies on the columns\n",
    "\n",
    "Initializing all the elements to 0 and then updating position (i,j) with the rating of movie j by user i if it's present"
   ]
  },
  {
   "cell_type": "code",
   "execution_count": 180,
   "metadata": {
    "id": "FjVM07332FrT"
   },
   "outputs": [
    {
     "name": "stdout",
     "output_type": "stream",
     "text": [
      "[[0. 0. 0. ... 0. 0. 0.]\n",
      " [0. 0. 0. ... 0. 0. 0.]\n",
      " [0. 0. 0. ... 0. 0. 0.]\n",
      " ...\n",
      " [0. 0. 0. ... 0. 0. 0.]\n",
      " [0. 0. 0. ... 0. 0. 0.]\n",
      " [0. 0. 0. ... 0. 0. 0.]]\n"
     ]
    },
    {
     "data": {
      "application/vnd.jupyter.widget-view+json": {
       "model_id": "7f6aa9fe1ac74168bc713a9b076c61e9",
       "version_major": 2,
       "version_minor": 0
      },
      "text/plain": [
       "  0%|          | 0/668 [00:00<?, ?it/s]"
      ]
     },
     "metadata": {},
     "output_type": "display_data"
    },
    {
     "name": "stdout",
     "output_type": "stream",
     "text": [
      "There are 6899772 missing valuess\n",
      "There are 6899772 values\n",
      "================================\n"
     ]
    },
    {
     "data": {
      "application/vnd.jupyter.widget-view+json": {
       "model_id": "73ba7ce68b5743d891e4cdb1fa6e855c",
       "version_major": 2,
       "version_minor": 0
      },
      "text/plain": [
       "  0%|          | 0/668 [00:00<?, ?it/s]"
      ]
     },
     "metadata": {},
     "output_type": "display_data"
    },
    {
     "name": "stdout",
     "output_type": "stream",
     "text": [
      "There are 6815501 missing valuess\n",
      "There are 6899772 values\n",
      "[[0.  0.  0.  ... 0.  0.  0. ]\n",
      " [0.  0.  2.  ... 0.  0.  0. ]\n",
      " [0.  0.  0.  ... 0.  0.  0. ]\n",
      " ...\n",
      " [0.  0.  0.  ... 0.  0.  0. ]\n",
      " [0.  0.  0.  ... 0.  0.  0. ]\n",
      " [0.  3.  0.  ... 0.  4.5 0. ]]\n"
     ]
    }
   ],
   "source": [
    "def update_with_default_ratings():\n",
    "    #default_ratings = csr_matrix((vals_train, (rows_train, cols_train)), shape=(len(userIds_available), len(movieIds_available)))\n",
    "    #default_ratings = default_ratings.toarray()\n",
    "    ratings_matrix[rows_train, cols_train] = vals_train\n",
    "    \n",
    "# Initialize the matrix with all zeros\n",
    "ratings_matrix = np.zeros((len(userIds_available) , len(movieIds_available)))\n",
    "print(ratings_matrix)\n",
    "print(\"================================\")\n",
    "# Update the matrix with the known values (contained in vals_train array)\n",
    "update_with_default_ratings()\n",
    "print(ratings_matrix) "
   ]
  },
  {
   "cell_type": "code",
   "execution_count": 182,
   "metadata": {
    "colab": {
     "base_uri": "https://localhost:8080/"
    },
    "id": "6Eofsk3o31hp",
    "outputId": "9b4547b2-68a4-467b-9ce5-b3e5ebcb8689"
   },
   "outputs": [
    {
     "name": "stdout",
     "output_type": "stream",
     "text": [
      "     1       2       3       4       5       6       7       8       9       \\\n",
      "1       0.0     0.0     0.0     0.0     0.0     0.0     0.0     0.0     0.0   \n",
      "2       0.0     0.0     2.0     0.0     3.0     0.0     0.0     0.0     0.0   \n",
      "3       0.0     0.0     0.0     0.0     3.0     0.0     0.0     0.0     0.0   \n",
      "4       0.0     0.0     0.0     0.0     0.0     0.0     0.0     0.0     0.0   \n",
      "5       4.0     0.0     0.0     0.0     0.0     0.0     0.0     0.0     0.0   \n",
      "..      ...     ...     ...     ...     ...     ...     ...     ...     ...   \n",
      "664     0.0     0.0     0.0     0.0     0.0     0.0     0.0     0.0     0.0   \n",
      "665     0.0     0.0     0.0     0.0     0.0     0.0     0.0     0.0     0.0   \n",
      "666     0.0     0.0     0.0     0.0     0.0     0.0     0.0     0.0     0.0   \n",
      "667     0.0     0.0     0.0     0.0     0.0     0.0     0.0     0.0     0.0   \n",
      "668     0.0     3.0     0.0     0.0     0.0     5.0     0.0     0.0     0.0   \n",
      "\n",
      "     10      ...  144482  144656  144976  146344  146656  146684  146878  \\\n",
      "1       0.0  ...     0.0     0.0     0.0     0.0     0.0     0.0     0.0   \n",
      "2       0.0  ...     0.0     0.0     0.0     0.0     0.0     0.0     0.0   \n",
      "3       0.0  ...     0.0     0.0     0.0     0.0     0.0     0.0     0.0   \n",
      "4       0.0  ...     0.0     0.0     0.0     0.0     0.0     0.0     0.0   \n",
      "5       0.0  ...     0.0     0.0     0.0     0.0     0.0     0.0     0.0   \n",
      "..      ...  ...     ...     ...     ...     ...     ...     ...     ...   \n",
      "664     0.0  ...     0.0     0.0     0.0     0.0     0.0     0.0     0.0   \n",
      "665     0.0  ...     0.0     0.0     0.0     0.0     0.0     0.0     0.0   \n",
      "666     0.0  ...     0.0     0.0     0.0     0.0     0.0     0.0     0.0   \n",
      "667     0.0  ...     0.0     0.0     0.0     0.0     0.0     0.0     0.0   \n",
      "668     3.5  ...     0.0     0.0     2.5     0.0     0.0     0.0     0.0   \n",
      "\n",
      "     148238  148626  149532  \n",
      "1       0.0     0.0     0.0  \n",
      "2       0.0     0.0     0.0  \n",
      "3       0.0     0.0     0.0  \n",
      "4       0.0     0.0     0.0  \n",
      "5       0.0     0.0     0.0  \n",
      "..      ...     ...     ...  \n",
      "664     0.0     0.0     0.0  \n",
      "665     0.0     0.0     0.0  \n",
      "666     0.0     0.0     0.0  \n",
      "667     0.0     0.0     0.0  \n",
      "668     0.0     4.5     0.0  \n",
      "\n",
      "[668 rows x 10329 columns]\n"
     ]
    }
   ],
   "source": [
    "frame = pd.DataFrame(ratings_matrix, index = userIds_available , columns = movieIds_available)\n",
    "print(frame)"
   ]
  },
  {
   "cell_type": "markdown",
   "metadata": {
    "id": "K8TXykDUUygu"
   },
   "source": [
    "Checking if there are users that haven't watched any movie"
   ]
  },
  {
   "cell_type": "markdown",
   "metadata": {
    "id": "2RO08e6_U4V2"
   },
   "source": [
    "Deleting rows corresponding to user that hasn't watched any movie"
   ]
  },
  {
   "cell_type": "code",
   "execution_count": 183,
   "metadata": {
    "colab": {
     "base_uri": "https://localhost:8080/"
    },
    "id": "GXrSNmWVU9p5",
    "outputId": "bdbff8ff-9442-44a5-ee80-2f4e9c806e60"
   },
   "outputs": [
    {
     "name": "stdout",
     "output_type": "stream",
     "text": [
      "Initial shape:  (668, 10329)\n",
      "Deleted 0 rows\n",
      "Final shape:  (668, 10329)\n"
     ]
    }
   ],
   "source": [
    "print(\"Initial shape: \" , ratings_matrix.shape)\n",
    "count = []\n",
    "for user in range(ratings_matrix.shape[0]):\n",
    "  # Save the row to delete\n",
    "  if sum(ratings_matrix[user]) == 0: count.append(user)\n",
    "\n",
    "ratings_matrix = np.delete(ratings_matrix , count , axis = 0)\n",
    "print(\"Deleted %d rows\" % len(count))\n",
    "print(\"Final shape: \" , ratings_matrix.shape)"
   ]
  },
  {
   "cell_type": "markdown",
   "metadata": {
    "id": "WoA2QL7vz3gr"
   },
   "source": [
    "Building movie-genre correlation matrix M\n",
    "\n",
    "$$\n",
    "M_{i,j} = \n",
    "\\begin{cases}\n",
    "1 & \\text{if movie i is of genre j}\\\\\n",
    "0 & \\text{otherwise}\n",
    "\\end{cases}\n",
    "$$"
   ]
  },
  {
   "cell_type": "code",
   "execution_count": 184,
   "metadata": {
    "id": "uB4OdENLyn_Q"
   },
   "outputs": [],
   "source": [
    "# Put in a set all the genres available\n",
    "genre_available = set()\n",
    "\n",
    "for i in range(movies.shape[0]):\n",
    "  genres = movies['genres'][i].split('|')\n",
    "  for g in genres: genre_available.add(g)\n",
    "\n",
    "# print(\"All genres available are: \" , id_available , genre_available)"
   ]
  },
  {
   "cell_type": "code",
   "execution_count": 185,
   "metadata": {
    "colab": {
     "base_uri": "https://localhost:8080/"
    },
    "id": "4MI3Kx7V0txE",
    "outputId": "fd9e033e-5e6c-4cfc-b2e5-72a0d09c1719"
   },
   "outputs": [
    {
     "name": "stdout",
     "output_type": "stream",
     "text": [
      "Max movie id:  149532\n",
      "Number of movies is:  10329\n",
      "Number of genres is:  20\n"
     ]
    }
   ],
   "source": [
    "# Build the matrix\n",
    "num_movies = len(movieIds_available)\n",
    "num_genres = len(genre_available)\n",
    "print(\"Max movie id: \" , max(movies['movieId']))\n",
    "print(\"Number of movies is: \" , num_movies)\n",
    "print(\"Number of genres is: \" , num_genres)\n",
    "# Initialize the matrix with all zeros of int8 type\n",
    "correlation_matrix = np.zeros((num_movies , num_genres) , dtype = np.int8)"
   ]
  },
  {
   "cell_type": "code",
   "execution_count": 186,
   "metadata": {
    "id": "iLvwYbkS3MNJ"
   },
   "outputs": [
    {
     "data": {
      "application/vnd.jupyter.widget-view+json": {
       "model_id": "4ee55f9eccf14fe6b7faf8d78d7d1936",
       "version_major": 2,
       "version_minor": 0
      },
      "text/plain": [
       "  0%|          | 0/10329 [00:00<?, ?it/s]"
      ]
     },
     "metadata": {},
     "output_type": "display_data"
    }
   ],
   "source": [
    "# Update the table with the correspondance\n",
    "for i in tqdm(range(movies.shape[0])):\n",
    "  id = movies['movieId'][i]\n",
    "  # Take the right position in the matrix\n",
    "  id = movieIds_available.index(id)\n",
    "\n",
    "  genres = movies['genres'][i].split('|')\n",
    "  for pos , g in enumerate(genre_available):\n",
    "    if g in genres:\n",
    "      correlation_matrix[id , pos] = 1"
   ]
  },
  {
   "cell_type": "code",
   "execution_count": 187,
   "metadata": {
    "colab": {
     "base_uri": "https://localhost:8080/"
    },
    "id": "oSNhv6KVHs0g",
    "outputId": "83274e56-8675-4edd-bccc-4ceaff035b1d"
   },
   "outputs": [
    {
     "name": "stdout",
     "output_type": "stream",
     "text": [
      "        Western  Documentary  Children  Crime  Film-Noir  Comedy  Adventure  \\\n",
      "1             0            0         1      0          0       1          1   \n",
      "2             0            0         1      0          0       0          1   \n",
      "3             0            0         0      0          0       1          0   \n",
      "4             0            0         0      0          0       1          0   \n",
      "5             0            0         0      0          0       1          0   \n",
      "...         ...          ...       ...    ...        ...     ...        ...   \n",
      "146684        0            0         1      0          0       1          0   \n",
      "146878        0            0         0      0          0       1          0   \n",
      "148238        0            0         0      0          0       1          0   \n",
      "148626        0            0         0      0          0       0          0   \n",
      "149532        0            0         0      0          0       0          0   \n",
      "\n",
      "        (no genres listed)  Fantasy  Horror  Thriller  Mystery  Sci-Fi  \\\n",
      "1                        0        1       0         0        0       0   \n",
      "2                        0        1       0         0        0       0   \n",
      "3                        0        0       0         0        0       0   \n",
      "4                        0        0       0         0        0       0   \n",
      "5                        0        0       0         0        0       0   \n",
      "...                    ...      ...     ...       ...      ...     ...   \n",
      "146684                   0        0       0         0        0       0   \n",
      "146878                   0        0       0         0        0       0   \n",
      "148238                   0        0       0         0        0       0   \n",
      "148626                   0        0       0         0        0       0   \n",
      "149532                   1        0       0         0        0       0   \n",
      "\n",
      "        Musical  Romance  Action  Animation  IMAX  Drama  War  \n",
      "1             0        0       0          1     0      0    0  \n",
      "2             0        0       0          0     0      0    0  \n",
      "3             0        1       0          0     0      0    0  \n",
      "4             0        1       0          0     0      1    0  \n",
      "5             0        0       0          0     0      0    0  \n",
      "...         ...      ...     ...        ...   ...    ...  ...  \n",
      "146684        0        0       0          1     0      0    0  \n",
      "146878        0        0       0          0     0      0    0  \n",
      "148238        0        0       0          0     0      0    0  \n",
      "148626        0        0       0          0     0      1    0  \n",
      "149532        0        0       0          0     0      0    0  \n",
      "\n",
      "[10329 rows x 20 columns]\n"
     ]
    }
   ],
   "source": [
    "frame = pd.DataFrame(correlation_matrix, index = movieIds_available , columns = genre_available)\n",
    "print(frame)"
   ]
  },
  {
   "cell_type": "markdown",
   "metadata": {
    "id": "-pjZ2GqVQYfs"
   },
   "source": [
    "Next step:\n",
    "create a movie-movie matrix to find similiar movies: movies which covers the same genres"
   ]
  },
  {
   "cell_type": "code",
   "execution_count": 188,
   "metadata": {
    "colab": {
     "base_uri": "https://localhost:8080/"
    },
    "id": "RAOfoYWNvUHx",
    "outputId": "dc477a3e-b286-4683-bb50-592bb1a695c7"
   },
   "outputs": [
    {
     "name": "stdout",
     "output_type": "stream",
     "text": [
      "similar_movies_coefficent:  0.75\n",
      "cosine_similary_coefficent:  0.0\n"
     ]
    }
   ],
   "source": [
    "def similar_movies(movie1 , movie2):\n",
    "  \"\"\"\n",
    "  movie1 and movie2 are rows of correlation_matrix\n",
    "  \"\"\"\n",
    "  intersection = np.bitwise_and(movie1 , movie2)\n",
    "  union = np.bitwise_or(movie1 , movie2)\n",
    "  return sum(intersection) / sum(union)\n",
    "\n",
    "def cosine_similarity(movie1 , movie2):\n",
    "  \"\"\"\n",
    "  movie1 and movie2 are rows of correlation_matrix\n",
    "  \"\"\"\n",
    "  return np.dot(movie1, movie2)/(np.linalg.norm(movie1) * np.linalg.norm(movie2))\n",
    "\n",
    "print(\"similar_movies_coefficent: \" , similar_movies([1, 0, 0, 1, 0, 1] , [1, 1, 0, 1, 0, 1]))\n",
    "print(\"cosine_similary_coefficent: \" , cosine_similarity([1, 0, 0, 1, 0, 1] , [0, 1, 0, 0, 0, 0]))\n"
   ]
  },
  {
   "cell_type": "code",
   "execution_count": 344,
   "metadata": {
    "colab": {
     "base_uri": "https://localhost:8080/"
    },
    "id": "n930CIM0pM4k",
    "outputId": "500d3de1-5c37-406a-fa7f-40afbc815915"
   },
   "outputs": [
    {
     "data": {
      "application/vnd.jupyter.widget-view+json": {
       "model_id": "6e95c65b6e974f6da178dc711f4bdaa1",
       "version_major": 2,
       "version_minor": 0
      },
      "text/plain": [
       "  0%|          | 0/10329 [00:00<?, ?it/s]"
      ]
     },
     "metadata": {},
     "output_type": "display_data"
    },
    {
     "name": "stdout",
     "output_type": "stream",
     "text": [
      "Number of cluster is:  402\n"
     ]
    }
   ],
   "source": [
    "# Matteo's version (don't look at it)\n",
    "\n",
    "# Building a dictionary with key the movieid and value the number of genre it covers\n",
    "movie_genre_dict = {}\n",
    "# Filling the dictionary\n",
    "for i in range(len(movieIds_available)):\n",
    "    movie_genre_dict[movieIds_available[i]] = sum(correlation_matrix[i])\n",
    "#print(movie_genre_dict)\n",
    "\n",
    "# Ordering \"movie_genre_dict\" according to values (in DESC order)\n",
    "sorted_tuples = sorted(movie_genre_dict.items(), key=lambda item: item[1] , reverse=True)\n",
    "#print(sorted_tuples)\n",
    "\n",
    "sorted_dict = {k: v for k, v in sorted_tuples}\n",
    "#print(sorted_dict)\n",
    "\n",
    "# Take just the movieId ordered\n",
    "ordered_ids = list(sorted_dict.keys())\n",
    "#print(ordered_ids)\n",
    "\n",
    "# Create the dictionary containing the clusters\n",
    "\n",
    "# key=integer , value: array of similar movie ids\n",
    "movie_cluster = {}\n",
    "# Over the threshold value 2 movies are considered similar\n",
    "threshold = 0.8\n",
    "\n",
    "ids_to_evaluate = list(sorted_dict.keys())\n",
    "\n",
    "# key: movieId , value: cluster in which the movie is\n",
    "index_cluster = {}\n",
    "\n",
    "for i_id in tqdm(ids_to_evaluate):\n",
    "    is_inserted = False\n",
    "    for key , value in movie_cluster.items():\n",
    "        # Check if movie with id=id is similar to the first movie in values array\n",
    "        j_id = value[0]\n",
    "        #sim = similar_movies(correlation_matrix[movieIds_available.index(i_id)] , correlation_matrix[movieIds_available.index(j_id)])\n",
    "        sim = cosine_similarity(correlation_matrix[movieIds_available.index(i_id)] , correlation_matrix[movieIds_available.index(j_id)])\n",
    "        if sim >= threshold:\n",
    "            new_value = value\n",
    "            new_value.append(i_id)\n",
    "            movie_cluster[key] = new_value\n",
    "            index_cluster[i_id] = key\n",
    "            is_inserted = True\n",
    "            break\n",
    "    # If the movie is not been inserted\n",
    "    if not is_inserted:\n",
    "         # If len = 0 -> key = -1, else the key is the last of the orevious for (the last cluster present)\n",
    "        if(len(movie_cluster) == 0):\n",
    "            key = -1\n",
    "        movie_cluster[key + 1] = [i_id]\n",
    "        index_cluster[i_id] = key + 1\n",
    "\n",
    "print(\"Number of cluster is: \" , len(movie_cluster))"
   ]
  },
  {
   "cell_type": "markdown",
   "metadata": {
    "id": "ilOD4i4LzpVh"
   },
   "source": [
    "Creating the dictionary containing the clusters"
   ]
  },
  {
   "cell_type": "code",
   "execution_count": 335,
   "metadata": {},
   "outputs": [
    {
     "data": {
      "application/vnd.jupyter.widget-view+json": {
       "model_id": "580259da07354e0797d0d652c8e16c62",
       "version_major": 2,
       "version_minor": 0
      },
      "text/plain": [
       "  0%|          | 0/10329 [00:00<?, ?it/s]"
      ]
     },
     "metadata": {},
     "output_type": "display_data"
    },
    {
     "data": {
      "application/vnd.jupyter.widget-view+json": {
       "model_id": "e013920ac86a4658bd7aa58af8c681ec",
       "version_major": 2,
       "version_minor": 0
      },
      "text/plain": [
       "  0%|          | 0/262 [00:00<?, ?it/s]"
      ]
     },
     "metadata": {},
     "output_type": "display_data"
    },
    {
     "data": {
      "application/vnd.jupyter.widget-view+json": {
       "model_id": "f3aea962582d4f468d177c130c55e045",
       "version_major": 2,
       "version_minor": 0
      },
      "text/plain": [
       "  0%|          | 0/94 [00:00<?, ?it/s]"
      ]
     },
     "metadata": {},
     "output_type": "display_data"
    },
    {
     "data": {
      "application/vnd.jupyter.widget-view+json": {
       "model_id": "4ebfa7e6ab5a433e9512c8a0e18109d5",
       "version_major": 2,
       "version_minor": 0
      },
      "text/plain": [
       "  0%|          | 0/41 [00:00<?, ?it/s]"
      ]
     },
     "metadata": {},
     "output_type": "display_data"
    },
    {
     "data": {
      "application/vnd.jupyter.widget-view+json": {
       "model_id": "5a0089a2bfd64b9fa89e03bda506c000",
       "version_major": 2,
       "version_minor": 0
      },
      "text/plain": [
       "  0%|          | 0/19 [00:00<?, ?it/s]"
      ]
     },
     "metadata": {},
     "output_type": "display_data"
    },
    {
     "data": {
      "application/vnd.jupyter.widget-view+json": {
       "model_id": "a6a4ff4f213d4051ab50af41b3347a3b",
       "version_major": 2,
       "version_minor": 0
      },
      "text/plain": [
       "  0%|          | 0/9 [00:00<?, ?it/s]"
      ]
     },
     "metadata": {},
     "output_type": "display_data"
    },
    {
     "data": {
      "application/vnd.jupyter.widget-view+json": {
       "model_id": "6eee6ba1c4b842daa06875f9dda8b788",
       "version_major": 2,
       "version_minor": 0
      },
      "text/plain": [
       "  0%|          | 0/4 [00:00<?, ?it/s]"
      ]
     },
     "metadata": {},
     "output_type": "display_data"
    },
    {
     "data": {
      "application/vnd.jupyter.widget-view+json": {
       "model_id": "e5f669004bea4e2eb019422394fce5e5",
       "version_major": 2,
       "version_minor": 0
      },
      "text/plain": [
       "  0%|          | 0/2 [00:00<?, ?it/s]"
      ]
     },
     "metadata": {},
     "output_type": "display_data"
    },
    {
     "data": {
      "application/vnd.jupyter.widget-view+json": {
       "model_id": "150fb0b266874dd6804de26f49a4e22e",
       "version_major": 2,
       "version_minor": 0
      },
      "text/plain": [
       "  0%|          | 0/1 [00:00<?, ?it/s]"
      ]
     },
     "metadata": {},
     "output_type": "display_data"
    },
    {
     "name": "stdout",
     "output_type": "stream",
     "text": [
      "Number of cluster is:  438\n"
     ]
    }
   ],
   "source": [
    "# Sofia's version\n",
    "movie_cluster = {}\n",
    "threshold = 0.8\n",
    "index_cluster = {}\n",
    "movieIds_copy = movieIds_available.copy()\n",
    "\n",
    "num_cluster = 0\n",
    "while len(movieIds_copy)>0:\n",
    "  for id_x in tqdm(movieIds_copy):\n",
    "    list_movies = []\n",
    "    index_cluster[id_x] = num_cluster\n",
    "    list_movies.append(id_x)\n",
    "    for id_y in movieIds_copy:\n",
    "      if id_x != id_y:\n",
    "        sim = cosine_similarity(correlation_matrix[movieIds_available.index(id_x)], correlation_matrix[movieIds_available.index(id_y)])\n",
    "        if sim>= threshold:\n",
    "          index_cluster[id_y] = num_cluster\n",
    "          list_movies.append(id_y)\n",
    "          movieIds_copy.remove(id_y)\n",
    "    movieIds_copy.remove(id_x)\n",
    "    movie_cluster[num_cluster] = list_movies\n",
    "    num_cluster += 1\n",
    "    \n",
    "print(\"Number of cluster is: \" , num_cluster)"
   ]
  },
  {
   "cell_type": "code",
   "execution_count": 114,
   "metadata": {},
   "outputs": [],
   "source": [
    "#print(index_cluster)\n",
    "#print(movie_cluster.get(0))\n",
    "#print(movie_cluster.get(400))\n",
    "#print(movieIds_copy)    #this is empty now because i check all movies if similar\n",
    "#print(movieIds_available)   #varify all ids are untouched"
   ]
  },
  {
   "cell_type": "code",
   "execution_count": 345,
   "metadata": {
    "id": "hLDTPLstktw3"
   },
   "outputs": [],
   "source": [
    "# Order each sublist of the dictionary\n",
    "for key , value in movie_cluster.items():\n",
    "  new_value = value\n",
    "  new_value.sort()\n",
    "  #print(\"New_value: \" , new_value)\n",
    "  movie_cluster[key] = new_value"
   ]
  },
  {
   "cell_type": "code",
   "execution_count": 224,
   "metadata": {
    "colab": {
     "base_uri": "https://localhost:8080/",
     "height": 234
    },
    "id": "DxhV5Po3Q2KS",
    "outputId": "f6c4f0c3-935f-4112-8e22-0ac1dc6f8101"
   },
   "outputs": [
    {
     "data": {
      "application/vnd.jupyter.widget-view+json": {
       "model_id": "9185fa68052641fb910d4a15dab1000b",
       "version_major": 2,
       "version_minor": 0
      },
      "text/plain": [
       "  0%|          | 0/668 [00:00<?, ?it/s]"
      ]
     },
     "metadata": {},
     "output_type": "display_data"
    },
    {
     "name": "stdout",
     "output_type": "stream",
     "text": [
      "There are 6815501 missing valuess\n",
      "There are 6899772 values\n"
     ]
    }
   ],
   "source": [
    "# Count the number of missing values\n",
    "def count_missing_values(matrix):\n",
    "    missing_values = 0\n",
    "\n",
    "    for i_user in tqdm(range(matrix.shape[0])):\n",
    "        for j_movie in range(matrix.shape[1]):\n",
    "            # If the movie in position j_movie hasn't a rating\n",
    "            if matrix[i_user , j_movie] == 0:\n",
    "                missing_values += 1\n",
    "\n",
    "    print(\"There are %d missing valuess\" % (missing_values))\n",
    "    print(\"There are %d values\" % (matrix.shape[0] * matrix.shape[1]))\n",
    "    \n",
    "count_missing_values(ratings_matrix)"
   ]
  },
  {
   "cell_type": "code",
   "execution_count": null,
   "metadata": {},
   "outputs": [],
   "source": [
    "Filling the \"ratings_matrix\" with possible ratings related to the movie he has already watched ank liked (rating >= 3.5)"
   ]
  },
  {
   "cell_type": "code",
   "execution_count": 346,
   "metadata": {},
   "outputs": [
    {
     "data": {
      "application/vnd.jupyter.widget-view+json": {
       "model_id": "ba3502beed044fd6a440bf16d6f99175",
       "version_major": 2,
       "version_minor": 0
      },
      "text/plain": [
       "  0%|          | 0/668 [00:00<?, ?it/s]"
      ]
     },
     "metadata": {},
     "output_type": "display_data"
    },
    {
     "name": "stdout",
     "output_type": "stream",
     "text": [
      "2879191\n"
     ]
    }
   ],
   "source": [
    "# Filling matrix with some ratings\n",
    "possible_ratings_matrix1 = ratings_matrix.copy() # to maintain the original\n",
    "np.around(possible_ratings_matrix1, 1)\n",
    "num_of_predicted_value = 0\n",
    "good_rating = 3.5\n",
    "\n",
    "for i_user in tqdm(range(possible_ratings_matrix1.shape[0])):\n",
    "    for j_movie in range(possible_ratings_matrix1.shape[1]):\n",
    "        # If user i_user has whatched movie j_movie\n",
    "        if possible_ratings_matrix1[i_user , j_movie] >= good_rating:\n",
    "            # Take movies similar to j_movie\n",
    "            cluster = index_cluster[movieIds_available[j_movie]]\n",
    "            sim_movies_ids = movie_cluster[cluster]\n",
    "\n",
    "            pos = 0\n",
    "            for id in sim_movies_ids:\n",
    "                # Take the position in the matrix of that movie\n",
    "                pos = movieIds_available.index(id , pos)\n",
    "                if possible_ratings_matrix1[i_user , pos] == 0:\n",
    "                    # First possibility\n",
    "                    #sim_j_pos = cosine_similarity(correlation_matrix[j_movie] , correlation_matrix[pos])\n",
    "                    #possible_ratings_matrix1[i_user , pos] = sim_j_pos * possible_ratings_matrix[i_user , j_movie]\n",
    "                    #if sim_j_pos >= 0.9:\n",
    "                    #    possible_ratings_matrix1[i_user , pos] = possible_ratings_matrix[i_user , j_movie]\n",
    "                    #else:\n",
    "                    #     possible_ratings_matrix1[i_user , pos] = possible_ratings_matrix[i_user , j_movie] - 0.5\n",
    "                    # Second possibility -> save the same rating\n",
    "                    possible_ratings_matrix1[i_user , pos] = possible_ratings_matrix[i_user , j_movie]\n",
    "                    num_of_predicted_value += 1\n",
    "            \n",
    "print(num_of_predicted_value)"
   ]
  },
  {
   "cell_type": "code",
   "execution_count": 347,
   "metadata": {
    "colab": {
     "base_uri": "https://localhost:8080/",
     "height": 84,
     "referenced_widgets": [
      "9e7ce50457cc4bc3b0ee4c50e673fac5",
      "4c69cf88bc134fe88b4abbc4d9cb2a93",
      "65879bfb5dfa4b97a3d4f59de79aecbf",
      "67cb7bdbc2574b9fb746dcf66dcbb962",
      "eeae783f68de420797d6c193c9bc86c1",
      "dee5674f3f3d430591add72683ac60ee",
      "9ae09cdad5d24f2c87fbf7757e59ec9b",
      "1128a775b348495d9d1abb336ccce0e9",
      "91fbfde4ef6e44f1aab99a7a8123496a",
      "5178ee5780cd450da7255683bc808ffd",
      "04639e5503484146b79f7bbde269e3ad"
     ]
    },
    "id": "qBQA9HFKxhYI",
    "outputId": "67b23cc0-b9d0-4f3f-e450-0643cf679b67"
   },
   "outputs": [
    {
     "data": {
      "application/vnd.jupyter.widget-view+json": {
       "model_id": "4c6cfb029a8849c5a289b693b18c0e6b",
       "version_major": 2,
       "version_minor": 0
      },
      "text/plain": [
       "  0%|          | 0/668 [00:00<?, ?it/s]"
      ]
     },
     "metadata": {},
     "output_type": "display_data"
    },
    {
     "name": "stdout",
     "output_type": "stream",
     "text": [
      "There are 3936310 missing valuess\n",
      "There are 6899772 values\n"
     ]
    }
   ],
   "source": [
    "# Count the number of missing values\n",
    "count_missing_values(possible_ratings_matrix1)"
   ]
  },
  {
   "cell_type": "code",
   "execution_count": 348,
   "metadata": {},
   "outputs": [
    {
     "data": {
      "text/plain": [
       "array([[0. , 0. , 0. , ..., 4.5, 0. , 0. ],\n",
       "       [0. , 0. , 2. , ..., 0. , 4. , 0. ],\n",
       "       [0. , 0. , 4. , ..., 4. , 4. , 0. ],\n",
       "       ...,\n",
       "       [4. , 5. , 4. , ..., 4. , 4. , 0. ],\n",
       "       [4. , 0. , 4. , ..., 3.5, 4.5, 0. ],\n",
       "       [3.5, 3. , 4. , ..., 3.5, 4.5, 0. ]])"
      ]
     },
     "execution_count": 348,
     "metadata": {},
     "output_type": "execute_result"
    }
   ],
   "source": [
    "# Take just 1 decimal place\n",
    "np.around(possible_ratings_matrix1 , 1)"
   ]
  },
  {
   "cell_type": "code",
   "execution_count": 349,
   "metadata": {},
   "outputs": [],
   "source": [
    "# Save the matrix \"possible_ratings_matrix\" as a CSV file\n",
    "# Sofia's algorithm\n",
    "#np.savetxt('possible_ratings_matrix1.csv', possible_ratings_matrix1, delimiter=',' , fmt='%1.1f')\n",
    "# Matteo's algorithm\n",
    "#np.savetxt('possible_ratings_matrix2.csv', possible_ratings_matrix1, delimiter=',' , fmt='%1.1f')"
   ]
  },
  {
   "cell_type": "code",
   "execution_count": 364,
   "metadata": {},
   "outputs": [],
   "source": [
    "# Load the matrix \"possible_ratings_matrix\" from the CSV file\n",
    "# Sofia's algorithm\n",
    "#possible_ratings_matrix1 = np.loadtxt('possible_ratings_matrix1.csv', delimiter=',')\n",
    "# Matteo's algorithm\n",
    "#possible_ratings_matrix1 = np.loadtxt('possible_ratings_matrix2.csv', delimiter=',')"
   ]
  },
  {
   "cell_type": "code",
   "execution_count": 365,
   "metadata": {},
   "outputs": [
    {
     "data": {
      "application/vnd.jupyter.widget-view+json": {
       "model_id": "8718f36007ac40ac8a6a287c81a56295",
       "version_major": 2,
       "version_minor": 0
      },
      "text/plain": [
       "  0%|          | 0/668 [00:00<?, ?it/s]"
      ]
     },
     "metadata": {},
     "output_type": "display_data"
    },
    {
     "name": "stdout",
     "output_type": "stream",
     "text": [
      "There are 3641228 missing valuess\n",
      "There are 6899772 values\n"
     ]
    }
   ],
   "source": [
    "# Count the number of missing values\n",
    "count_missing_values(possible_ratings_matrix1)"
   ]
  },
  {
   "cell_type": "code",
   "execution_count": 366,
   "metadata": {},
   "outputs": [
    {
     "name": "stdout",
     "output_type": "stream",
     "text": [
      "[[0.  0.  0.  ... 0.  0.  0. ]\n",
      " [0.  0.  2.  ... 0.  0.  0. ]\n",
      " [0.  0.  0.  ... 0.  0.  0. ]\n",
      " ...\n",
      " [0.  0.  0.  ... 0.  0.  0. ]\n",
      " [0.  0.  0.  ... 0.  0.  0. ]\n",
      " [0.  3.  0.  ... 0.  4.5 0. ]]\n",
      "===============================\n",
      "[[0.  4.5 4.  ... 0.  0.  0. ]\n",
      " [0.  0.  2.  ... 0.  4.  0. ]\n",
      " [0.  0.  4.  ... 4.  4.  0. ]\n",
      " ...\n",
      " [4.  5.  5.  ... 4.  4.  0. ]\n",
      " [4.  5.  4.  ... 0.  4.5 0. ]\n",
      " [4.  3.  4.  ... 4.  4.5 0. ]]\n"
     ]
    }
   ],
   "source": [
    "print(ratings_matrix)\n",
    "print(\"===============================\")\n",
    "print(possible_ratings_matrix1)"
   ]
  },
  {
   "cell_type": "code",
   "execution_count": 126,
   "metadata": {
    "id": "rfg6vTLB-5Dl"
   },
   "outputs": [],
   "source": [
    "import json\n",
    "\n",
    "dict = {\n",
    "    int(movieIds_available[0]): [2 , 3 , 6],\n",
    "    int(movieIds_available[1]): [1 , 5]\n",
    "}\n",
    "\n",
    "# Save the similar movies dictionary -> their calculation took 6h 50 min\n",
    "with open('sim_movies.json' , 'w') as fp:\n",
    "    json.dump(dict , fp , indent = 4)"
   ]
  },
  {
   "cell_type": "code",
   "execution_count": 127,
   "metadata": {
    "colab": {
     "base_uri": "https://localhost:8080/"
    },
    "id": "YQXr7xZsAVZO",
    "outputId": "c5874150-d160-4fdf-889f-85aebc0b1559"
   },
   "outputs": [
    {
     "name": "stdout",
     "output_type": "stream",
     "text": [
      "{'1': [2, 3, 6], '2': [1, 5]}\n"
     ]
    }
   ],
   "source": [
    "# Open the saved data\n",
    "with open('sim_movies.json' , 'r') as fp:\n",
    "    movie_sim_dict_loaded = json.load(fp)\n",
    "\n",
    "print(movie_sim_dict_loaded)"
   ]
  },
  {
   "cell_type": "markdown",
   "metadata": {
    "id": "VThu3D-rlIgf"
   },
   "source": [
    "# Singular value truncation (SVT) based recommender system"
   ]
  },
  {
   "cell_type": "code",
   "execution_count": 260,
   "metadata": {},
   "outputs": [
    {
     "data": {
      "application/vnd.jupyter.widget-view+json": {
       "model_id": "b1c82568a5ad47c6a0035a3e50b348b1",
       "version_major": 2,
       "version_minor": 0
      },
      "text/plain": [
       "  0%|          | 0/668 [00:00<?, ?it/s]"
      ]
     },
     "metadata": {},
     "output_type": "display_data"
    },
    {
     "name": "stdout",
     "output_type": "stream",
     "text": [
      "Saved 3258544 values\n"
     ]
    }
   ],
   "source": [
    "# Reconstrict rows_train, cols_train, vals_train with all the value of the input + predicted by movie relationships\n",
    "counter = 0\n",
    "rows_train_updated = list()\n",
    "cols_train_updated = list()\n",
    "vals_train_updated = list()\n",
    "for i_user in tqdm(range(possible_ratings_matrix1.shape[0])):\n",
    "    for j_movie in range(possible_ratings_matrix1.shape[1]):\n",
    "        # If it is a default or predicted value, save the position\n",
    "        if possible_ratings_matrix1[i_user][j_movie] != 0:\n",
    "            rows_train_updated.append(i_user)\n",
    "            cols_train_updated.append(j_movie)\n",
    "            vals_train_updated.append(possible_ratings_matrix1[i_user][j_movie])\n",
    "            counter += 1\n",
    "print(\"Saved %d values\" % counter)"
   ]
  },
  {
   "cell_type": "code",
   "execution_count": 276,
   "metadata": {},
   "outputs": [],
   "source": [
    "def errors():\n",
    "    vals_pred = X_hat[rows_test, cols_test]\n",
    "    err = vals_test - vals_pred\n",
    "    RMSE = np.sqrt(np.mean(err**2))\n",
    "    rho = pearsonr(vals_test, vals_pred)[0]\n",
    "    \n",
    "    return RMSE , rho"
   ]
  },
  {
   "cell_type": "code",
   "execution_count": null,
   "metadata": {},
   "outputs": [],
   "source": [
    "# errors_jit = jax.jit(errors)"
   ]
  },
  {
   "cell_type": "code",
   "execution_count": 367,
   "metadata": {
    "id": "nk3shAEo6OWu"
   },
   "outputs": [
    {
     "data": {
      "application/vnd.jupyter.widget-view+json": {
       "model_id": "21b15201260a45aa9a2b436f0eca9c1b",
       "version_major": 2,
       "version_minor": 0
      },
      "text/plain": [
       "  0%|          | 0/1000 [00:00<?, ?it/s]"
      ]
     },
     "metadata": {},
     "output_type": "display_data"
    },
    {
     "name": "stdout",
     "output_type": "stream",
     "text": [
      "================== iter 10 - increment 8.818e+01\n",
      "RMSE: 1.477\n",
      "rho : 0.128\n",
      "================== iter 20 - increment 4.209e+01\n",
      "RMSE: 1.411\n",
      "rho : 0.137\n",
      "================== iter 30 - increment 2.828e+01\n",
      "RMSE: 1.381\n",
      "rho : 0.141\n",
      "================== iter 40 - increment 2.143e+01\n",
      "RMSE: 1.362\n",
      "rho : 0.143\n",
      "================== iter 50 - increment 1.734e+01\n",
      "RMSE: 1.350\n",
      "rho : 0.144\n",
      "================== iter 60 - increment 1.478e+01\n",
      "RMSE: 1.340\n",
      "rho : 0.146\n",
      "================== iter 70 - increment 1.304e+01\n",
      "RMSE: 1.332\n",
      "rho : 0.147\n",
      "================== iter 80 - increment 1.969e+01\n",
      "RMSE: 1.323\n",
      "rho : 0.147\n",
      "================== iter 90 - increment 1.528e+01\n",
      "RMSE: 1.316\n",
      "rho : 0.149\n",
      "================== iter 100 - increment 1.280e+01\n",
      "RMSE: 1.310\n",
      "rho : 0.150\n",
      "================== iter 110 - increment 2.623e+01\n",
      "RMSE: 1.302\n",
      "rho : 0.151\n",
      "================== iter 120 - increment 1.522e+01\n",
      "RMSE: 1.297\n",
      "rho : 0.153\n",
      "================== iter 130 - increment 1.207e+01\n",
      "RMSE: 1.293\n",
      "rho : 0.153\n",
      "================== iter 140 - increment 1.047e+01\n",
      "RMSE: 1.289\n",
      "rho : 0.154\n",
      "================== iter 150 - increment 9.480e+00\n",
      "RMSE: 1.286\n",
      "rho : 0.155\n",
      "================== iter 160 - increment 8.758e+00\n",
      "RMSE: 1.283\n",
      "rho : 0.156\n",
      "================== iter 170 - increment 8.168e+00\n",
      "RMSE: 1.281\n",
      "rho : 0.157\n",
      "================== iter 180 - increment 7.668e+00\n",
      "RMSE: 1.279\n",
      "rho : 0.157\n",
      "================== iter 190 - increment 2.554e+01\n",
      "RMSE: 1.275\n",
      "rho : 0.157\n",
      "================== iter 200 - increment 1.425e+01\n",
      "RMSE: 1.272\n",
      "rho : 0.158\n",
      "================== iter 210 - increment 2.408e+01\n",
      "RMSE: 1.266\n",
      "rho : 0.159\n",
      "================== iter 220 - increment 1.373e+01\n",
      "RMSE: 1.264\n",
      "rho : 0.159\n",
      "================== iter 230 - increment 1.093e+01\n",
      "RMSE: 1.261\n",
      "rho : 0.160\n",
      "================== iter 240 - increment 9.411e+00\n",
      "RMSE: 1.260\n",
      "rho : 0.161\n",
      "================== iter 250 - increment 8.443e+00\n",
      "RMSE: 1.258\n",
      "rho : 0.162\n",
      "================== iter 260 - increment 7.749e+00\n",
      "RMSE: 1.256\n",
      "rho : 0.163\n",
      "================== iter 270 - increment 7.202e+00\n",
      "RMSE: 1.255\n",
      "rho : 0.163\n",
      "================== iter 280 - increment 6.760e+00\n",
      "RMSE: 1.254\n",
      "rho : 0.164\n",
      "================== iter 290 - increment 6.387e+00\n",
      "RMSE: 1.253\n",
      "rho : 0.165\n",
      "================== iter 300 - increment 6.065e+00\n",
      "RMSE: 1.252\n",
      "rho : 0.165\n",
      "================== iter 310 - increment 5.784e+00\n",
      "RMSE: 1.251\n",
      "rho : 0.166\n",
      "================== iter 320 - increment 5.539e+00\n",
      "RMSE: 1.250\n",
      "rho : 0.166\n",
      "================== iter 330 - increment 1.822e+01\n",
      "RMSE: 1.247\n",
      "rho : 0.167\n",
      "================== iter 340 - increment 1.271e+01\n",
      "RMSE: 1.246\n",
      "rho : 0.167\n",
      "================== iter 350 - increment 9.758e+00\n",
      "RMSE: 1.245\n",
      "rho : 0.168\n",
      "================== iter 360 - increment 8.098e+00\n",
      "RMSE: 1.244\n",
      "rho : 0.168\n",
      "================== iter 370 - increment 7.142e+00\n",
      "RMSE: 1.243\n",
      "rho : 0.169\n",
      "================== iter 380 - increment 6.506e+00\n",
      "RMSE: 1.243\n",
      "rho : 0.169\n",
      "================== iter 390 - increment 6.031e+00\n",
      "RMSE: 1.242\n",
      "rho : 0.169\n",
      "================== iter 400 - increment 5.659e+00\n",
      "RMSE: 1.242\n",
      "rho : 0.170\n",
      "================== iter 410 - increment 4.560e+01\n",
      "RMSE: 1.239\n",
      "rho : 0.170\n",
      "================== iter 420 - increment 1.260e+01\n",
      "RMSE: 1.238\n",
      "rho : 0.171\n",
      "================== iter 430 - increment 1.126e+01\n",
      "RMSE: 1.238\n",
      "rho : 0.171\n",
      "================== iter 440 - increment 9.815e+00\n",
      "RMSE: 1.238\n",
      "rho : 0.171\n",
      "================== iter 450 - increment 8.408e+00\n",
      "RMSE: 1.238\n",
      "rho : 0.171\n",
      "================== iter 460 - increment 7.285e+00\n",
      "RMSE: 1.238\n",
      "rho : 0.171\n",
      "================== iter 470 - increment 6.453e+00\n",
      "RMSE: 1.238\n",
      "rho : 0.171\n",
      "================== iter 480 - increment 5.854e+00\n",
      "RMSE: 1.238\n",
      "rho : 0.171\n",
      "================== iter 490 - increment 5.410e+00\n",
      "RMSE: 1.238\n",
      "rho : 0.171\n",
      "================== iter 500 - increment 5.068e+00\n",
      "RMSE: 1.238\n",
      "rho : 0.171\n",
      "================== iter 510 - increment 4.793e+00\n",
      "RMSE: 1.238\n",
      "rho : 0.171\n",
      "================== iter 520 - increment 4.569e+00\n",
      "RMSE: 1.238\n",
      "rho : 0.171\n",
      "================== iter 530 - increment 4.383e+00\n",
      "RMSE: 1.239\n",
      "rho : 0.171\n",
      "================== iter 540 - increment 4.225e+00\n",
      "RMSE: 1.239\n",
      "rho : 0.171\n",
      "================== iter 550 - increment 4.087e+00\n",
      "RMSE: 1.239\n",
      "rho : 0.171\n",
      "================== iter 560 - increment 3.967e+00\n",
      "RMSE: 1.239\n",
      "rho : 0.171\n",
      "================== iter 570 - increment 3.861e+00\n",
      "RMSE: 1.239\n",
      "rho : 0.170\n",
      "================== iter 580 - increment 3.765e+00\n",
      "RMSE: 1.240\n",
      "rho : 0.170\n",
      "================== iter 590 - increment 2.499e+01\n",
      "RMSE: 1.237\n",
      "rho : 0.170\n",
      "================== iter 600 - increment 1.114e+01\n",
      "RMSE: 1.237\n",
      "rho : 0.169\n",
      "================== iter 610 - increment 8.340e+00\n",
      "RMSE: 1.238\n",
      "rho : 0.168\n",
      "================== iter 620 - increment 6.860e+00\n",
      "RMSE: 1.238\n",
      "rho : 0.168\n",
      "================== iter 630 - increment 5.981e+00\n",
      "RMSE: 1.238\n",
      "rho : 0.167\n",
      "================== iter 640 - increment 5.400e+00\n",
      "RMSE: 1.238\n",
      "rho : 0.167\n",
      "================== iter 650 - increment 4.984e+00\n",
      "RMSE: 1.239\n",
      "rho : 0.167\n",
      "================== iter 660 - increment 4.669e+00\n",
      "RMSE: 1.239\n",
      "rho : 0.167\n",
      "================== iter 670 - increment 4.424e+00\n",
      "RMSE: 1.239\n",
      "rho : 0.166\n",
      "================== iter 680 - increment 4.227e+00\n",
      "RMSE: 1.239\n",
      "rho : 0.166\n",
      "================== iter 690 - increment 4.063e+00\n",
      "RMSE: 1.239\n",
      "rho : 0.166\n",
      "================== iter 700 - increment 3.923e+00\n",
      "RMSE: 1.240\n",
      "rho : 0.166\n",
      "================== iter 710 - increment 3.803e+00\n",
      "RMSE: 1.240\n",
      "rho : 0.166\n",
      "================== iter 720 - increment 3.698e+00\n",
      "RMSE: 1.240\n",
      "rho : 0.166\n",
      "================== iter 730 - increment 3.604e+00\n",
      "RMSE: 1.240\n",
      "rho : 0.166\n",
      "================== iter 740 - increment 3.517e+00\n",
      "RMSE: 1.240\n",
      "rho : 0.166\n",
      "================== iter 750 - increment 3.438e+00\n",
      "RMSE: 1.241\n",
      "rho : 0.165\n",
      "================== iter 760 - increment 3.363e+00\n",
      "RMSE: 1.241\n",
      "rho : 0.165\n",
      "================== iter 770 - increment 2.347e+01\n",
      "RMSE: 1.238\n",
      "rho : 0.166\n",
      "================== iter 780 - increment 1.143e+01\n",
      "RMSE: 1.237\n",
      "rho : 0.165\n",
      "================== iter 790 - increment 8.507e+00\n",
      "RMSE: 1.237\n",
      "rho : 0.166\n",
      "================== iter 800 - increment 6.956e+00\n",
      "RMSE: 1.237\n",
      "rho : 0.166\n",
      "================== iter 810 - increment 6.121e+00\n",
      "RMSE: 1.236\n",
      "rho : 0.166\n",
      "================== iter 820 - increment 5.603e+00\n",
      "RMSE: 1.236\n",
      "rho : 0.166\n",
      "================== iter 830 - increment 5.246e+00\n",
      "RMSE: 1.236\n",
      "rho : 0.166\n",
      "================== iter 840 - increment 4.977e+00\n",
      "RMSE: 1.236\n",
      "rho : 0.166\n",
      "================== iter 850 - increment 4.760e+00\n",
      "RMSE: 1.236\n",
      "rho : 0.166\n",
      "================== iter 860 - increment 4.575e+00\n",
      "RMSE: 1.237\n",
      "rho : 0.166\n",
      "================== iter 870 - increment 4.409e+00\n",
      "RMSE: 1.237\n",
      "rho : 0.166\n",
      "================== iter 880 - increment 4.256e+00\n",
      "RMSE: 1.237\n",
      "rho : 0.166\n",
      "================== iter 890 - increment 4.112e+00\n",
      "RMSE: 1.237\n",
      "rho : 0.166\n",
      "================== iter 900 - increment 3.974e+00\n",
      "RMSE: 1.238\n",
      "rho : 0.166\n",
      "================== iter 910 - increment 3.843e+00\n",
      "RMSE: 1.238\n",
      "rho : 0.166\n",
      "================== iter 920 - increment 3.718e+00\n",
      "RMSE: 1.238\n",
      "rho : 0.166\n",
      "================== iter 930 - increment 1.460e+01\n",
      "RMSE: 1.237\n",
      "rho : 0.166\n",
      "================== iter 940 - increment 1.088e+01\n",
      "RMSE: 1.237\n",
      "rho : 0.166\n",
      "================== iter 950 - increment 9.031e+00\n",
      "RMSE: 1.237\n",
      "rho : 0.166\n",
      "================== iter 960 - increment 7.352e+00\n",
      "RMSE: 1.237\n",
      "rho : 0.166\n",
      "================== iter 970 - increment 6.178e+00\n",
      "RMSE: 1.237\n",
      "rho : 0.166\n",
      "================== iter 980 - increment 5.396e+00\n",
      "RMSE: 1.237\n",
      "rho : 0.166\n",
      "================== iter 990 - increment 4.859e+00\n",
      "RMSE: 1.237\n",
      "rho : 0.166\n",
      "================== iter 1000 - increment 4.473e+00\n",
      "RMSE: 1.238\n",
      "rho : 0.166\n"
     ]
    }
   ],
   "source": [
    "# SVT before with the empty matrix , now check the rank, maybe it's low\n",
    "n_max_iter = 1000\n",
    "threshold = 300.0\n",
    "increment_tol = 1e-2\n",
    "\n",
    "RMSE_list = list()\n",
    "rho_list = list()\n",
    "\n",
    "X_hat = possible_ratings_matrix1\n",
    "\n",
    "for k in tqdm(range(n_max_iter)):\n",
    "    X_old = X_hat.copy()\n",
    "    U,s,VT = np.linalg.svd(X_hat, full_matrices=False)\n",
    "\n",
    "    threshold = max(300 , np.mean(s[s > 0]))\n",
    "    s[s < threshold] = 0\n",
    "    X_hat = U @ np.diag(s) @ VT\n",
    "    \n",
    "    # Maintain the default values\n",
    "    X_hat[rows_train_updated,cols_train_updated] = vals_train_updated \n",
    "    # Some negative values could appear -> set to 0\n",
    "    X_hat[X_hat < 0] = 0\n",
    "\n",
    "    # Calculate the increment -> how much the new matrix is different from the previuos one\n",
    "    increment = np.linalg.norm(X_hat - X_old) \n",
    "\n",
    "    if k % 10 == 9:\n",
    "        # Calculate the errors\n",
    "        RMSE , rho = errors()\n",
    "        # Add the errors in the lists\n",
    "        RMSE_list.append(RMSE)\n",
    "        rho_list.append(rho)\n",
    "        # Show the errors\n",
    "        print('================== iter %d - increment %1.3e' % (k+1, increment))\n",
    "        print('RMSE: %1.3f' % RMSE)\n",
    "        print('rho : %1.3f' % rho)\n",
    "\n",
    "    if increment < increment_tol:\n",
    "        break"
   ]
  },
  {
   "cell_type": "code",
   "execution_count": 331,
   "metadata": {
    "id": "weU-Vvj4tCQs"
   },
   "outputs": [],
   "source": [
    "#print(np.mean(s[s > 0]))\n",
    "#print(s)\n",
    "\n",
    "# todo -> verify if X_hat = possible_ratings_matrix1 creates problems"
   ]
  },
  {
   "cell_type": "code",
   "execution_count": 236,
   "metadata": {},
   "outputs": [
    {
     "data": {
      "text/plain": [
       "\"\\nSofia's version:\\n\\nAfter 100 iterations\\nRMSE: 1.797\\nrho: 0.104\\n\\nMatteo's version:\\n\\nAfter 100 iterations\\nRMSE: 1.985\\nrho: 0.080\\n\""
      ]
     },
     "execution_count": 236,
     "metadata": {},
     "output_type": "execute_result"
    }
   ],
   "source": [
    "'''\n",
    "First possiblity\n",
    "\n",
    "    Threshold = np.mean(s[s>0])\n",
    "\n",
    "        Sofia's version:\n",
    "\n",
    "            After 100 iterations\n",
    "            RMSE: 1.797\n",
    "            rho:  0.104\n",
    "\n",
    "        Matteo's version:\n",
    "\n",
    "            After 100 iterations\n",
    "            RMSE: 1.985\n",
    "            rho:  0.080 \n",
    "\n",
    "    Threshold = max(300 , np.mean(s[s>0]))\n",
    "\n",
    "        Sofia's version:\n",
    "\n",
    "            After 100 iterations\n",
    "            RMSE: 1.301\n",
    "            rho:  0.152\n",
    "\n",
    "        Matteo's version:\n",
    "\n",
    "            After 100 iterations\n",
    "            RMSE: 1.272\n",
    "            rho:  0.158\n",
    "\n",
    "            After 200 iterations:\n",
    "            RMSE: 1.248\n",
    "            rho: 0.163\n",
    "\n",
    "            After 1000 iterations:\n",
    "            RMSE: 1.210\n",
    "            rho:  0.180\n",
    "            \n",
    "Second possibility\n",
    "\n",
    "        Sofia's version:\n",
    "\n",
    "            After 1000 iterations\n",
    "            RMSE: 1.238\n",
    "            rho:  0.166\n",
    "\n",
    "        Matteo's version:\n",
    "\n",
    "            After 100 iterations\n",
    "            RMSE: 1.310\n",
    "            rho:  0.150\n",
    "            \n",
    "            After 1000 iterations:\n",
    "            RMSE: 1.208\n",
    "            rho:  0.181\n",
    "'''"
   ]
  },
  {
   "cell_type": "code",
   "execution_count": 368,
   "metadata": {},
   "outputs": [],
   "source": [
    "# Save the matrix resulting from SVT as a CSV file\n",
    "# Sofia's algorithm\n",
    "#np.savetxt('final_ratings_matrix1.csv', X_hat, delimiter=',' , fmt='%1.1f')\n",
    "# Matteo's algorithm\n",
    "#np.savetxt('final_ratings_matrix2.csv', X_hat, delimiter=',' , fmt='%1.1f')"
   ]
  },
  {
   "cell_type": "code",
   "execution_count": null,
   "metadata": {},
   "outputs": [],
   "source": [
    "# Load the matrix final_ratings_matrix from the CSV file\n",
    "# Sofia's algorithm\n",
    "#X_hat = np.loadtxt('final_ratings_matrix1.csv', delimiter=',')\n",
    "# Matteo's algorithm\n",
    "#X_hat = np.loadtxt('final_ratings_matrix2.csv', delimiter=',')"
   ]
  },
  {
   "cell_type": "code",
   "execution_count": 362,
   "metadata": {},
   "outputs": [],
   "source": [
    "# Perform some evaluations\n",
    "def precision_and_recall():\n",
    "    total_recommended = 0 # true positive + false negative\n",
    "    predicted_recommended_items = 0 # true positive + false positive\n",
    "    predicted_true_recommended_items = 0 # true positive\n",
    "    # A movie is recommended if it's rating is greater than this value\n",
    "    recommendation_value = 3\n",
    "    for i in range(len(rows_test)):\n",
    "        true_rating = vals_test[i]\n",
    "        predicted_value = X_hat[rows_test[i]][cols_test[i]]\n",
    "        # Calculate true positive\n",
    "        if true_rating >= recommendation_value: \n",
    "            total_recommended += 1\n",
    "            if predicted_value >= recommendation_value:\n",
    "                predicted_true_recommended_items += 1\n",
    "        # Calculate true positive + false positive\n",
    "        if predicted_value >= recommendation_value:\n",
    "            predicted_recommended_items += 1\n",
    "                \n",
    "    print(\"True positive: \" , predicted_true_recommended_items)\n",
    "    print(\"True positive + false positive: \" , predicted_recommended_items)\n",
    "    print(\"True positive + false negative: \" , total_recommended)\n",
    "    precision = predicted_true_recommended_items / predicted_recommended_items\n",
    "    recall = predicted_true_recommended_items / total_recommended\n",
    "    print(\"Precision: \" , precision)\n",
    "    print(\"Recall: \" , recall)\n",
    "    return precision , recall\n",
    "\n",
    "def F1_measure(precision_value , recall_value):\n",
    "    return 2 * precision_value * recall_value / ( precision_value + recall_value)"
   ]
  },
  {
   "cell_type": "code",
   "execution_count": 369,
   "metadata": {},
   "outputs": [
    {
     "name": "stdout",
     "output_type": "stream",
     "text": [
      "True positive:  15866\n",
      "True positive + false positive:  19307\n",
      "True positive + false negative:  17165\n",
      "Precision:  0.8217744859377428\n",
      "Recall:  0.9243227497815322\n"
     ]
    },
    {
     "data": {
      "text/plain": [
       "0.8700372888791401"
      ]
     },
     "execution_count": 369,
     "metadata": {},
     "output_type": "execute_result"
    }
   ],
   "source": [
    "precision , recall = precision_and_recall()\n",
    "F1_measure(precision , recall)"
   ]
  },
  {
   "cell_type": "code",
   "execution_count": null,
   "metadata": {},
   "outputs": [],
   "source": [
    "'''\n",
    "First possiblity\n",
    "\n",
    "    Threshold = max(300 , np.mean(s[s>0]))\n",
    "\n",
    "    > recommendation_value (3.5)\n",
    "\n",
    "        Sofia's version:\n",
    "\n",
    "            After 100 iterations\n",
    "            RMSE: 1.301\n",
    "            rho:  0.152\n",
    "\n",
    "            Precision: 0.568\n",
    "            Recall:    0.575\n",
    "            F-1 measure: 0.574\n",
    "\n",
    "        Matteo's version:\n",
    "\n",
    "            After 100 iterations\n",
    "            RMSE: 1.272\n",
    "            rho:  0.158\n",
    "\n",
    "            Precision: 0.569\n",
    "            Recall:    0.592\n",
    "            F-1 measure: 0.580\n",
    "\n",
    "            After 200 iterations:\n",
    "            RMSE: 1.248\n",
    "            rho: 0.163\n",
    "\n",
    "            Precision: 0.569\n",
    "            Recall:    0.598\n",
    "            F-1 measure: 0.584\n",
    "\n",
    "            After 1000 iterations:\n",
    "            RMSE: 1.210\n",
    "            rho:  0.180\n",
    "\n",
    "            Precision: 0.567\n",
    "            Recall:    0.611\n",
    "            F-1 measure: 0.588\n",
    "\n",
    "    >= recommendation_value (3.5)\n",
    "\n",
    "            After 1000 iterations:\n",
    "            RMSE: 1.210\n",
    "            rho:  0.180\n",
    "\n",
    "            Precision: 0.632\n",
    "            Recall:    0.821\n",
    "            F-1 measure: 0.714\n",
    "            \n",
    "Second possiblity -> seems better \n",
    "\n",
    "    >= recommendation_value (3.5)\n",
    "    \n",
    "        Sofia's version:\n",
    "\n",
    "            After 1000 iterations\n",
    "            RMSE: 1.238\n",
    "            rho:  0.166\n",
    "            \n",
    "            Precision: 0.632\n",
    "            Recall:    0.822\n",
    "            F-1 measure: 0.714\n",
    "\n",
    "        Matteo's version:\n",
    "\n",
    "            After 100 iterations\n",
    "            RMSE: 1.310\n",
    "            rho:  0.150\n",
    "            \n",
    "            Precision: 0.634\n",
    "            Recall:    0.784\n",
    "            F-1 measure: 0.701\n",
    "            \n",
    "            After 1000 iterations:\n",
    "            RMSE: 1.208\n",
    "            rho:  0.181\n",
    "            \n",
    "            Precision: 0.632\n",
    "            Recall:    0.826\n",
    "            F-1 measure: 0.716\n",
    "            \n",
    "    >= recommendation_value (3)\n",
    "    \n",
    "        Sofia's version:\n",
    "\n",
    "            After 1000 iterations\n",
    "            RMSE: 1.238\n",
    "            rho:  0.166\n",
    "            \n",
    "            Precision: 0.822\n",
    "            Recall:    0.924\n",
    "            F-1 measure: 0.870\n",
    "    \n",
    "        Matteo's version:\n",
    "            \n",
    "            After 1000 iterations:\n",
    "            RMSE: 1.208\n",
    "            rho:  0.181\n",
    "            \n",
    "            Precision: 0.823\n",
    "            Recall:    0.929\n",
    "            F-1 measure: 0.873\n",
    "'''"
   ]
  }
 ],
 "metadata": {
  "colab": {
   "collapsed_sections": [],
   "name": "NA_project.ipynb",
   "provenance": []
  },
  "kernelspec": {
   "display_name": "Python 3",
   "language": "python",
   "name": "python3"
  },
  "language_info": {
   "codemirror_mode": {
    "name": "ipython",
    "version": 3
   },
   "file_extension": ".py",
   "mimetype": "text/x-python",
   "name": "python",
   "nbconvert_exporter": "python",
   "pygments_lexer": "ipython3",
   "version": "3.8.8"
  },
  "widgets": {
   "application/vnd.jupyter.widget-state+json": {
    "04639e5503484146b79f7bbde269e3ad": {
     "model_module": "@jupyter-widgets/base",
     "model_module_version": "1.2.0",
     "model_name": "LayoutModel",
     "state": {
      "_model_module": "@jupyter-widgets/base",
      "_model_module_version": "1.2.0",
      "_model_name": "LayoutModel",
      "_view_count": null,
      "_view_module": "@jupyter-widgets/base",
      "_view_module_version": "1.2.0",
      "_view_name": "LayoutView",
      "align_content": null,
      "align_items": null,
      "align_self": null,
      "border": null,
      "bottom": null,
      "display": null,
      "flex": null,
      "flex_flow": null,
      "grid_area": null,
      "grid_auto_columns": null,
      "grid_auto_flow": null,
      "grid_auto_rows": null,
      "grid_column": null,
      "grid_gap": null,
      "grid_row": null,
      "grid_template_areas": null,
      "grid_template_columns": null,
      "grid_template_rows": null,
      "height": null,
      "justify_content": null,
      "justify_items": null,
      "left": null,
      "margin": null,
      "max_height": null,
      "max_width": null,
      "min_height": null,
      "min_width": null,
      "object_fit": null,
      "object_position": null,
      "order": null,
      "overflow": null,
      "overflow_x": null,
      "overflow_y": null,
      "padding": null,
      "right": null,
      "top": null,
      "visibility": null,
      "width": null
     }
    },
    "0cdca51406f64e6cb3fb1c3a32d0d903": {
     "model_module": "@jupyter-widgets/controls",
     "model_module_version": "1.5.0",
     "model_name": "HBoxModel",
     "state": {
      "_dom_classes": [],
      "_model_module": "@jupyter-widgets/controls",
      "_model_module_version": "1.5.0",
      "_model_name": "HBoxModel",
      "_view_count": null,
      "_view_module": "@jupyter-widgets/controls",
      "_view_module_version": "1.5.0",
      "_view_name": "HBoxView",
      "box_style": "",
      "children": [
       "IPY_MODEL_fe8e28781d594af79f5f2fa8f2ec1216",
       "IPY_MODEL_b6280335918b4bf49f9b2e464db75509",
       "IPY_MODEL_720aad33f52d45acbc795bab32d7d454"
      ],
      "layout": "IPY_MODEL_557d5febc1d34fce9f425884ad4d0c1f"
     }
    },
    "1128a775b348495d9d1abb336ccce0e9": {
     "model_module": "@jupyter-widgets/controls",
     "model_module_version": "1.5.0",
     "model_name": "ProgressStyleModel",
     "state": {
      "_model_module": "@jupyter-widgets/controls",
      "_model_module_version": "1.5.0",
      "_model_name": "ProgressStyleModel",
      "_view_count": null,
      "_view_module": "@jupyter-widgets/base",
      "_view_module_version": "1.2.0",
      "_view_name": "StyleView",
      "bar_color": null,
      "description_width": ""
     }
    },
    "2523c88746134cfdb5604356b5b4d05f": {
     "model_module": "@jupyter-widgets/base",
     "model_module_version": "1.2.0",
     "model_name": "LayoutModel",
     "state": {
      "_model_module": "@jupyter-widgets/base",
      "_model_module_version": "1.2.0",
      "_model_name": "LayoutModel",
      "_view_count": null,
      "_view_module": "@jupyter-widgets/base",
      "_view_module_version": "1.2.0",
      "_view_name": "LayoutView",
      "align_content": null,
      "align_items": null,
      "align_self": null,
      "border": null,
      "bottom": null,
      "display": null,
      "flex": null,
      "flex_flow": null,
      "grid_area": null,
      "grid_auto_columns": null,
      "grid_auto_flow": null,
      "grid_auto_rows": null,
      "grid_column": null,
      "grid_gap": null,
      "grid_row": null,
      "grid_template_areas": null,
      "grid_template_columns": null,
      "grid_template_rows": null,
      "height": null,
      "justify_content": null,
      "justify_items": null,
      "left": null,
      "margin": null,
      "max_height": null,
      "max_width": null,
      "min_height": null,
      "min_width": null,
      "object_fit": null,
      "object_position": null,
      "order": null,
      "overflow": null,
      "overflow_x": null,
      "overflow_y": null,
      "padding": null,
      "right": null,
      "top": null,
      "visibility": null,
      "width": null
     }
    },
    "2a8003e5b1bf4c2cb76a83cf6842b659": {
     "model_module": "@jupyter-widgets/base",
     "model_module_version": "1.2.0",
     "model_name": "LayoutModel",
     "state": {
      "_model_module": "@jupyter-widgets/base",
      "_model_module_version": "1.2.0",
      "_model_name": "LayoutModel",
      "_view_count": null,
      "_view_module": "@jupyter-widgets/base",
      "_view_module_version": "1.2.0",
      "_view_name": "LayoutView",
      "align_content": null,
      "align_items": null,
      "align_self": null,
      "border": null,
      "bottom": null,
      "display": null,
      "flex": null,
      "flex_flow": null,
      "grid_area": null,
      "grid_auto_columns": null,
      "grid_auto_flow": null,
      "grid_auto_rows": null,
      "grid_column": null,
      "grid_gap": null,
      "grid_row": null,
      "grid_template_areas": null,
      "grid_template_columns": null,
      "grid_template_rows": null,
      "height": null,
      "justify_content": null,
      "justify_items": null,
      "left": null,
      "margin": null,
      "max_height": null,
      "max_width": null,
      "min_height": null,
      "min_width": null,
      "object_fit": null,
      "object_position": null,
      "order": null,
      "overflow": null,
      "overflow_x": null,
      "overflow_y": null,
      "padding": null,
      "right": null,
      "top": null,
      "visibility": null,
      "width": null
     }
    },
    "4c69cf88bc134fe88b4abbc4d9cb2a93": {
     "model_module": "@jupyter-widgets/base",
     "model_module_version": "1.2.0",
     "model_name": "LayoutModel",
     "state": {
      "_model_module": "@jupyter-widgets/base",
      "_model_module_version": "1.2.0",
      "_model_name": "LayoutModel",
      "_view_count": null,
      "_view_module": "@jupyter-widgets/base",
      "_view_module_version": "1.2.0",
      "_view_name": "LayoutView",
      "align_content": null,
      "align_items": null,
      "align_self": null,
      "border": null,
      "bottom": null,
      "display": null,
      "flex": null,
      "flex_flow": null,
      "grid_area": null,
      "grid_auto_columns": null,
      "grid_auto_flow": null,
      "grid_auto_rows": null,
      "grid_column": null,
      "grid_gap": null,
      "grid_row": null,
      "grid_template_areas": null,
      "grid_template_columns": null,
      "grid_template_rows": null,
      "height": null,
      "justify_content": null,
      "justify_items": null,
      "left": null,
      "margin": null,
      "max_height": null,
      "max_width": null,
      "min_height": null,
      "min_width": null,
      "object_fit": null,
      "object_position": null,
      "order": null,
      "overflow": null,
      "overflow_x": null,
      "overflow_y": null,
      "padding": null,
      "right": null,
      "top": null,
      "visibility": null,
      "width": null
     }
    },
    "5178ee5780cd450da7255683bc808ffd": {
     "model_module": "@jupyter-widgets/controls",
     "model_module_version": "1.5.0",
     "model_name": "DescriptionStyleModel",
     "state": {
      "_model_module": "@jupyter-widgets/controls",
      "_model_module_version": "1.5.0",
      "_model_name": "DescriptionStyleModel",
      "_view_count": null,
      "_view_module": "@jupyter-widgets/base",
      "_view_module_version": "1.2.0",
      "_view_name": "StyleView",
      "description_width": ""
     }
    },
    "557d5febc1d34fce9f425884ad4d0c1f": {
     "model_module": "@jupyter-widgets/base",
     "model_module_version": "1.2.0",
     "model_name": "LayoutModel",
     "state": {
      "_model_module": "@jupyter-widgets/base",
      "_model_module_version": "1.2.0",
      "_model_name": "LayoutModel",
      "_view_count": null,
      "_view_module": "@jupyter-widgets/base",
      "_view_module_version": "1.2.0",
      "_view_name": "LayoutView",
      "align_content": null,
      "align_items": null,
      "align_self": null,
      "border": null,
      "bottom": null,
      "display": null,
      "flex": null,
      "flex_flow": null,
      "grid_area": null,
      "grid_auto_columns": null,
      "grid_auto_flow": null,
      "grid_auto_rows": null,
      "grid_column": null,
      "grid_gap": null,
      "grid_row": null,
      "grid_template_areas": null,
      "grid_template_columns": null,
      "grid_template_rows": null,
      "height": null,
      "justify_content": null,
      "justify_items": null,
      "left": null,
      "margin": null,
      "max_height": null,
      "max_width": null,
      "min_height": null,
      "min_width": null,
      "object_fit": null,
      "object_position": null,
      "order": null,
      "overflow": null,
      "overflow_x": null,
      "overflow_y": null,
      "padding": null,
      "right": null,
      "top": null,
      "visibility": null,
      "width": null
     }
    },
    "6050c4faead14f83887cea2f742a60d2": {
     "model_module": "@jupyter-widgets/controls",
     "model_module_version": "1.5.0",
     "model_name": "ProgressStyleModel",
     "state": {
      "_model_module": "@jupyter-widgets/controls",
      "_model_module_version": "1.5.0",
      "_model_name": "ProgressStyleModel",
      "_view_count": null,
      "_view_module": "@jupyter-widgets/base",
      "_view_module_version": "1.2.0",
      "_view_name": "StyleView",
      "bar_color": null,
      "description_width": ""
     }
    },
    "65879bfb5dfa4b97a3d4f59de79aecbf": {
     "model_module": "@jupyter-widgets/controls",
     "model_module_version": "1.5.0",
     "model_name": "HTMLModel",
     "state": {
      "_dom_classes": [],
      "_model_module": "@jupyter-widgets/controls",
      "_model_module_version": "1.5.0",
      "_model_name": "HTMLModel",
      "_view_count": null,
      "_view_module": "@jupyter-widgets/controls",
      "_view_module_version": "1.5.0",
      "_view_name": "HTMLView",
      "description": "",
      "description_tooltip": null,
      "layout": "IPY_MODEL_9ae09cdad5d24f2c87fbf7757e59ec9b",
      "placeholder": "​",
      "style": "IPY_MODEL_dee5674f3f3d430591add72683ac60ee",
      "value": "100%"
     }
    },
    "67cb7bdbc2574b9fb746dcf66dcbb962": {
     "model_module": "@jupyter-widgets/controls",
     "model_module_version": "1.5.0",
     "model_name": "FloatProgressModel",
     "state": {
      "_dom_classes": [],
      "_model_module": "@jupyter-widgets/controls",
      "_model_module_version": "1.5.0",
      "_model_name": "FloatProgressModel",
      "_view_count": null,
      "_view_module": "@jupyter-widgets/controls",
      "_view_module_version": "1.5.0",
      "_view_name": "ProgressView",
      "bar_style": "success",
      "description": "",
      "description_tooltip": null,
      "layout": "IPY_MODEL_91fbfde4ef6e44f1aab99a7a8123496a",
      "max": 668,
      "min": 0,
      "orientation": "horizontal",
      "style": "IPY_MODEL_1128a775b348495d9d1abb336ccce0e9",
      "value": 668
     }
    },
    "7070e4bb5f6d4d7f881c533085f9f7ec": {
     "model_module": "@jupyter-widgets/controls",
     "model_module_version": "1.5.0",
     "model_name": "DescriptionStyleModel",
     "state": {
      "_model_module": "@jupyter-widgets/controls",
      "_model_module_version": "1.5.0",
      "_model_name": "DescriptionStyleModel",
      "_view_count": null,
      "_view_module": "@jupyter-widgets/base",
      "_view_module_version": "1.2.0",
      "_view_name": "StyleView",
      "description_width": ""
     }
    },
    "720aad33f52d45acbc795bab32d7d454": {
     "model_module": "@jupyter-widgets/controls",
     "model_module_version": "1.5.0",
     "model_name": "HTMLModel",
     "state": {
      "_dom_classes": [],
      "_model_module": "@jupyter-widgets/controls",
      "_model_module_version": "1.5.0",
      "_model_name": "HTMLModel",
      "_view_count": null,
      "_view_module": "@jupyter-widgets/controls",
      "_view_module_version": "1.5.0",
      "_view_name": "HTMLView",
      "description": "",
      "description_tooltip": null,
      "layout": "IPY_MODEL_2a8003e5b1bf4c2cb76a83cf6842b659",
      "placeholder": "​",
      "style": "IPY_MODEL_7070e4bb5f6d4d7f881c533085f9f7ec",
      "value": " 10329/10329 [10:23&lt;00:00,  7.84it/s]"
     }
    },
    "83bca7dab6794b13aaa2972dd76da287": {
     "model_module": "@jupyter-widgets/controls",
     "model_module_version": "1.5.0",
     "model_name": "DescriptionStyleModel",
     "state": {
      "_model_module": "@jupyter-widgets/controls",
      "_model_module_version": "1.5.0",
      "_model_name": "DescriptionStyleModel",
      "_view_count": null,
      "_view_module": "@jupyter-widgets/base",
      "_view_module_version": "1.2.0",
      "_view_name": "StyleView",
      "description_width": ""
     }
    },
    "91fbfde4ef6e44f1aab99a7a8123496a": {
     "model_module": "@jupyter-widgets/base",
     "model_module_version": "1.2.0",
     "model_name": "LayoutModel",
     "state": {
      "_model_module": "@jupyter-widgets/base",
      "_model_module_version": "1.2.0",
      "_model_name": "LayoutModel",
      "_view_count": null,
      "_view_module": "@jupyter-widgets/base",
      "_view_module_version": "1.2.0",
      "_view_name": "LayoutView",
      "align_content": null,
      "align_items": null,
      "align_self": null,
      "border": null,
      "bottom": null,
      "display": null,
      "flex": null,
      "flex_flow": null,
      "grid_area": null,
      "grid_auto_columns": null,
      "grid_auto_flow": null,
      "grid_auto_rows": null,
      "grid_column": null,
      "grid_gap": null,
      "grid_row": null,
      "grid_template_areas": null,
      "grid_template_columns": null,
      "grid_template_rows": null,
      "height": null,
      "justify_content": null,
      "justify_items": null,
      "left": null,
      "margin": null,
      "max_height": null,
      "max_width": null,
      "min_height": null,
      "min_width": null,
      "object_fit": null,
      "object_position": null,
      "order": null,
      "overflow": null,
      "overflow_x": null,
      "overflow_y": null,
      "padding": null,
      "right": null,
      "top": null,
      "visibility": null,
      "width": null
     }
    },
    "9ae09cdad5d24f2c87fbf7757e59ec9b": {
     "model_module": "@jupyter-widgets/base",
     "model_module_version": "1.2.0",
     "model_name": "LayoutModel",
     "state": {
      "_model_module": "@jupyter-widgets/base",
      "_model_module_version": "1.2.0",
      "_model_name": "LayoutModel",
      "_view_count": null,
      "_view_module": "@jupyter-widgets/base",
      "_view_module_version": "1.2.0",
      "_view_name": "LayoutView",
      "align_content": null,
      "align_items": null,
      "align_self": null,
      "border": null,
      "bottom": null,
      "display": null,
      "flex": null,
      "flex_flow": null,
      "grid_area": null,
      "grid_auto_columns": null,
      "grid_auto_flow": null,
      "grid_auto_rows": null,
      "grid_column": null,
      "grid_gap": null,
      "grid_row": null,
      "grid_template_areas": null,
      "grid_template_columns": null,
      "grid_template_rows": null,
      "height": null,
      "justify_content": null,
      "justify_items": null,
      "left": null,
      "margin": null,
      "max_height": null,
      "max_width": null,
      "min_height": null,
      "min_width": null,
      "object_fit": null,
      "object_position": null,
      "order": null,
      "overflow": null,
      "overflow_x": null,
      "overflow_y": null,
      "padding": null,
      "right": null,
      "top": null,
      "visibility": null,
      "width": null
     }
    },
    "9bb307f55b5748f5aeca94f44133e28c": {
     "model_module": "@jupyter-widgets/base",
     "model_module_version": "1.2.0",
     "model_name": "LayoutModel",
     "state": {
      "_model_module": "@jupyter-widgets/base",
      "_model_module_version": "1.2.0",
      "_model_name": "LayoutModel",
      "_view_count": null,
      "_view_module": "@jupyter-widgets/base",
      "_view_module_version": "1.2.0",
      "_view_name": "LayoutView",
      "align_content": null,
      "align_items": null,
      "align_self": null,
      "border": null,
      "bottom": null,
      "display": null,
      "flex": null,
      "flex_flow": null,
      "grid_area": null,
      "grid_auto_columns": null,
      "grid_auto_flow": null,
      "grid_auto_rows": null,
      "grid_column": null,
      "grid_gap": null,
      "grid_row": null,
      "grid_template_areas": null,
      "grid_template_columns": null,
      "grid_template_rows": null,
      "height": null,
      "justify_content": null,
      "justify_items": null,
      "left": null,
      "margin": null,
      "max_height": null,
      "max_width": null,
      "min_height": null,
      "min_width": null,
      "object_fit": null,
      "object_position": null,
      "order": null,
      "overflow": null,
      "overflow_x": null,
      "overflow_y": null,
      "padding": null,
      "right": null,
      "top": null,
      "visibility": null,
      "width": null
     }
    },
    "9e7ce50457cc4bc3b0ee4c50e673fac5": {
     "model_module": "@jupyter-widgets/controls",
     "model_module_version": "1.5.0",
     "model_name": "HBoxModel",
     "state": {
      "_dom_classes": [],
      "_model_module": "@jupyter-widgets/controls",
      "_model_module_version": "1.5.0",
      "_model_name": "HBoxModel",
      "_view_count": null,
      "_view_module": "@jupyter-widgets/controls",
      "_view_module_version": "1.5.0",
      "_view_name": "HBoxView",
      "box_style": "",
      "children": [
       "IPY_MODEL_65879bfb5dfa4b97a3d4f59de79aecbf",
       "IPY_MODEL_67cb7bdbc2574b9fb746dcf66dcbb962",
       "IPY_MODEL_eeae783f68de420797d6c193c9bc86c1"
      ],
      "layout": "IPY_MODEL_4c69cf88bc134fe88b4abbc4d9cb2a93"
     }
    },
    "b6280335918b4bf49f9b2e464db75509": {
     "model_module": "@jupyter-widgets/controls",
     "model_module_version": "1.5.0",
     "model_name": "FloatProgressModel",
     "state": {
      "_dom_classes": [],
      "_model_module": "@jupyter-widgets/controls",
      "_model_module_version": "1.5.0",
      "_model_name": "FloatProgressModel",
      "_view_count": null,
      "_view_module": "@jupyter-widgets/controls",
      "_view_module_version": "1.5.0",
      "_view_name": "ProgressView",
      "bar_style": "success",
      "description": "",
      "description_tooltip": null,
      "layout": "IPY_MODEL_9bb307f55b5748f5aeca94f44133e28c",
      "max": 10329,
      "min": 0,
      "orientation": "horizontal",
      "style": "IPY_MODEL_6050c4faead14f83887cea2f742a60d2",
      "value": 10329
     }
    },
    "dee5674f3f3d430591add72683ac60ee": {
     "model_module": "@jupyter-widgets/controls",
     "model_module_version": "1.5.0",
     "model_name": "DescriptionStyleModel",
     "state": {
      "_model_module": "@jupyter-widgets/controls",
      "_model_module_version": "1.5.0",
      "_model_name": "DescriptionStyleModel",
      "_view_count": null,
      "_view_module": "@jupyter-widgets/base",
      "_view_module_version": "1.2.0",
      "_view_name": "StyleView",
      "description_width": ""
     }
    },
    "eeae783f68de420797d6c193c9bc86c1": {
     "model_module": "@jupyter-widgets/controls",
     "model_module_version": "1.5.0",
     "model_name": "HTMLModel",
     "state": {
      "_dom_classes": [],
      "_model_module": "@jupyter-widgets/controls",
      "_model_module_version": "1.5.0",
      "_model_name": "HTMLModel",
      "_view_count": null,
      "_view_module": "@jupyter-widgets/controls",
      "_view_module_version": "1.5.0",
      "_view_name": "HTMLView",
      "description": "",
      "description_tooltip": null,
      "layout": "IPY_MODEL_04639e5503484146b79f7bbde269e3ad",
      "placeholder": "​",
      "style": "IPY_MODEL_5178ee5780cd450da7255683bc808ffd",
      "value": " 668/668 [00:04&lt;00:00, 147.82it/s]"
     }
    },
    "fe8e28781d594af79f5f2fa8f2ec1216": {
     "model_module": "@jupyter-widgets/controls",
     "model_module_version": "1.5.0",
     "model_name": "HTMLModel",
     "state": {
      "_dom_classes": [],
      "_model_module": "@jupyter-widgets/controls",
      "_model_module_version": "1.5.0",
      "_model_name": "HTMLModel",
      "_view_count": null,
      "_view_module": "@jupyter-widgets/controls",
      "_view_module_version": "1.5.0",
      "_view_name": "HTMLView",
      "description": "",
      "description_tooltip": null,
      "layout": "IPY_MODEL_2523c88746134cfdb5604356b5b4d05f",
      "placeholder": "​",
      "style": "IPY_MODEL_83bca7dab6794b13aaa2972dd76da287",
      "value": "100%"
     }
    }
   }
  }
 },
 "nbformat": 4,
 "nbformat_minor": 4
}
