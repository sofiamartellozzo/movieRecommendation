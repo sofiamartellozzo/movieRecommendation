{
  "cells": [
    {
      "cell_type": "markdown",
      "metadata": {
        "id": "ofUfngSuuiuR"
      },
      "source": [
        "#Numerical Analysis' project\n",
        "\n",
        "Movie recommendation system"
      ]
    },
    {
      "cell_type": "code",
      "execution_count": null,
      "metadata": {
        "id": "BUpzryGvufOX"
      },
      "outputs": [],
      "source": [
        "import numpy as np\n",
        "import matplotlib.pyplot as plt\n",
        "import pandas as pd\n",
        "from scipy.sparse import csr_matrix\n",
        "from scipy.stats import pearsonr\n",
        "from numpy.linalg import matrix_rank\n",
        "import seaborn as sns\n",
        "import time\n",
        "import jax.numpy as jnp\n",
        "import jax"
      ]
    },
    {
      "cell_type": "markdown",
      "metadata": {
        "id": "v2E-g2QavVzT"
      },
      "source": [
        "Load the dataset using pandas"
      ]
    },
    {
      "cell_type": "code",
      "execution_count": null,
      "metadata": {
        "id": "_bxmTRyiu9He"
      },
      "outputs": [],
      "source": [
        "movies = pd.read_csv('movies.csv')\n",
        "ratings = pd.read_csv('ratings.csv')"
      ]
    },
    {
      "cell_type": "code",
      "execution_count": null,
      "metadata": {
        "colab": {
          "base_uri": "https://localhost:8080/"
        },
        "id": "vr2mVUTIvc2r",
        "outputId": "3e9522c0-f6ea-45ed-ed7e-f11c463939e0"
      },
      "outputs": [
        {
          "data": {
            "text/plain": [
              "(669, 149533, 105339)"
            ]
          },
          "execution_count": 58,
          "metadata": {},
          "output_type": "execute_result"
        }
      ],
      "source": [
        "#ratings # 105339 users' ratings , 668 different users\n",
        "#movies # 10329 movies\n",
        "\n",
        "rows = np.array(ratings['userId'])\n",
        "cols = np.array(ratings['movieId'])\n",
        "vals = np.array(ratings['rating'])\n",
        "\n",
        "n = rows.max() + 1 # Number of user\n",
        "p = cols.max() + 1# Number of movies\n",
        "N = len(vals) # Number of ratings\n",
        "\n",
        "n , p , N"
      ]
    },
    {
      "cell_type": "code",
      "execution_count": null,
      "metadata": {
        "id": "f5lmpABEvelb"
      },
      "outputs": [],
      "source": [
        "movies.head()"
      ]
    },
    {
      "cell_type": "code",
      "execution_count": null,
      "metadata": {
        "id": "eqkyrGYCxJl7"
      },
      "outputs": [],
      "source": [
        "ratings.head()"
      ]
    },
    {
      "cell_type": "code",
      "execution_count": null,
      "metadata": {
        "id": "wyJOUFZAw3-S"
      },
      "outputs": [],
      "source": [
        "movies.info()"
      ]
    },
    {
      "cell_type": "code",
      "execution_count": null,
      "metadata": {
        "id": "SEeCpr-qw-BD"
      },
      "outputs": [],
      "source": [
        "ratings.info()"
      ]
    },
    {
      "cell_type": "code",
      "execution_count": null,
      "metadata": {
        "id": "E0S2-7HQxNy5"
      },
      "outputs": [],
      "source": [
        "movies.describe()"
      ]
    },
    {
      "cell_type": "code",
      "execution_count": null,
      "metadata": {
        "id": "q8m3NxX0yIPT"
      },
      "outputs": [],
      "source": [
        "ratings.describe()"
      ]
    },
    {
      "cell_type": "code",
      "execution_count": null,
      "metadata": {
        "id": "4Sxfzq8FygHo"
      },
      "outputs": [],
      "source": [
        "sns.distplot(ratings['rating'])"
      ]
    },
    {
      "cell_type": "code",
      "execution_count": null,
      "metadata": {
        "id": "ddTojqMAy7xu"
      },
      "outputs": [],
      "source": [
        "sns.distplot(ratings['movieId'])"
      ]
    },
    {
      "cell_type": "code",
      "execution_count": null,
      "metadata": {
        "id": "Psh4Y__azP66"
      },
      "outputs": [],
      "source": [
        "sns.scatterplot(data = ratings , x = 'userId' , y = 'movieId' , hue = 'rating')"
      ]
    },
    {
      "cell_type": "code",
      "execution_count": null,
      "metadata": {
        "id": "YBbsHWvkz6b4"
      },
      "outputs": [],
      "source": [
        "ratings.corr()"
      ]
    },
    {
      "cell_type": "markdown",
      "metadata": {
        "id": "dfMC74cAokKn"
      },
      "source": [
        "Shuffle the data"
      ]
    },
    {
      "cell_type": "code",
      "execution_count": null,
      "metadata": {
        "id": "3MAjyzHuom52"
      },
      "outputs": [],
      "source": [
        "indexes = np.arange(N)\n",
        "np.random.seed(0) # for reproducibility\n",
        "np.random.shuffle(indexes)\n",
        "indexes\n",
        "# Reordering the arrays\n",
        "rows = rows[indexes]\n",
        "cols = cols[indexes]\n",
        "vals = vals[indexes]"
      ]
    },
    {
      "cell_type": "markdown",
      "metadata": {
        "id": "RhJA61ParQ1d"
      },
      "source": [
        "Building the train set (80%) and the validation set (20%)"
      ]
    },
    {
      "cell_type": "code",
      "execution_count": null,
      "metadata": {
        "id": "kiIg-jcNpBZc"
      },
      "outputs": [],
      "source": [
        "# Split data in training and testing\n",
        "num_training = int(N * 0.8)\n",
        "\n",
        "rows_train = rows[:num_training]\n",
        "cols_train = cols[:num_training]\n",
        "vals_train = vals[:num_training]\n",
        "rows_test  = rows[num_training:]\n",
        "cols_test  = cols[num_training:]\n",
        "vals_test  = vals[num_training:]"
      ]
    },
    {
      "cell_type": "code",
      "execution_count": null,
      "metadata": {
        "colab": {
          "base_uri": "https://localhost:8080/"
        },
        "id": "0fcFS9YMBP4B",
        "outputId": "eb56d2c3-ea22-4420-e0fa-1278935e2dce"
      },
      "outputs": [
        {
          "name": "stdout",
          "output_type": "stream",
          "text": [
            "668 10329\n"
          ]
        }
      ],
      "source": [
        "# Find all the possible user ids and movie ids-> do that after the deletion\n",
        "userIds_available = set()\n",
        "movieIds_available = set()\n",
        "for id in np.array(ratings['userId'] , dtype = int):\n",
        "  userIds_available.add(id)\n",
        "\n",
        "for id in np.array(movies['movieId'] , dtype = int):\n",
        "  movieIds_available.add(id)\n",
        "\n",
        "print(len(userIds_available) , len(movieIds_available))\n",
        "#userIds_available"
      ]
    },
    {
      "cell_type": "code",
      "execution_count": null,
      "metadata": {
        "id": "_8kvlxGaOHP2"
      },
      "outputs": [],
      "source": [
        "# Make the 2 sets list in order to easily find the index of an id\n",
        "userIds_available = list(userIds_available)\n",
        "movieIds_available = list(movieIds_available) \n",
        "movieIds_available.sort()"
      ]
    },
    {
      "cell_type": "markdown",
      "metadata": {
        "id": "Z6jfWiwBrSqA"
      },
      "source": [
        "Building the matrix with the origina values"
      ]
    },
    {
      "cell_type": "code",
      "execution_count": null,
      "metadata": {
        "id": "Syoe5z8op3PN"
      },
      "outputs": [],
      "source": [
        "#original_values = csr_matrix((vals_train, (rows_train, cols_train)), shape=(len(userIds_available), len(movieIds_available)))\n",
        "#original_values = original_values.toarray()"
      ]
    },
    {
      "cell_type": "markdown",
      "metadata": {
        "id": "XZaHsfFh1HQQ"
      },
      "source": [
        "Building the 'Ratings matrix'\n",
        "Users on the rows and Movies on the columns\n",
        "\n",
        "Initializing all the elements to 0 and then updating position (i,j) with the rating of movie j by user i if it's present"
      ]
    },
    {
      "cell_type": "code",
      "execution_count": null,
      "metadata": {
        "colab": {
          "base_uri": "https://localhost:8080/"
        },
        "id": "PVM6olDk08zY",
        "outputId": "3a6ebbdd-6e7d-4dd9-acf0-2dc27bcbbf41"
      },
      "outputs": [
        {
          "name": "stdout",
          "output_type": "stream",
          "text": [
            "The number of userIds is: 668\n",
            "The number of movieIds is: 10329\n"
          ]
        },
        {
          "data": {
            "text/plain": [
              "(668, 10329)"
            ]
          },
          "execution_count": 63,
          "metadata": {},
          "output_type": "execute_result"
        }
      ],
      "source": [
        "# Initialize the matrix to all 0\n",
        "print(\"The number of userIds is:\" , len(userIds_available))\n",
        "print(\"The number of movieIds is:\" , len(movieIds_available))\n",
        "# +1 because the ids start from 1\n",
        "ratings_matrix = np.zeros((len(userIds_available) , len(movieIds_available)))\n",
        "ratings_matrix.shape"
      ]
    },
    {
      "cell_type": "code",
      "execution_count": null,
      "metadata": {
        "id": "FjVM07332FrT"
      },
      "outputs": [],
      "source": [
        "# Updating the matrix with the real ratings where possible\n",
        "#ratings_matrix[rows_train , cols_train] = vals_train\n",
        "def find_user_pos(id):\n",
        "  return userIds_available.index(id)\n",
        "\n",
        "def find_movie_pos(id):\n",
        "  return movieIds_available.index(id)\n",
        "\n",
        "for i in range(len(rows_train)):\n",
        "  # Take the corresponding position in the matrix\n",
        "  u_pos = find_user_pos(rows_train[i])\n",
        "  m_pos = find_movie_pos(cols_train[i])\n",
        "  # Set the known value\n",
        "  ratings_matrix[u_pos , m_pos] = vals_train[i]"
      ]
    },
    {
      "cell_type": "code",
      "execution_count": null,
      "metadata": {
        "colab": {
          "base_uri": "https://localhost:8080/"
        },
        "id": "6Eofsk3o31hp",
        "outputId": "03980477-797e-4325-dda8-a5e276b27312"
      },
      "outputs": [
        {
          "name": "stdout",
          "output_type": "stream",
          "text": [
            "     98304   1       2       3       ...  131050  98284   98290   98296 \n",
            "1       0.0     0.0     0.0     0.0  ...     0.0     0.0     0.0     0.0\n",
            "2       0.0     0.0     0.0     2.0  ...     0.0     0.0     0.0     0.0\n",
            "3       0.0     0.0     0.0     0.0  ...     0.0     0.0     0.0     0.0\n",
            "4       0.0     0.0     0.0     0.0  ...     0.0     0.0     0.0     0.0\n",
            "5       0.0     4.0     0.0     0.0  ...     0.0     0.0     0.0     0.0\n",
            "..      ...     ...     ...     ...  ...     ...     ...     ...     ...\n",
            "664     0.0     0.0     0.0     0.0  ...     0.0     0.0     0.0     0.0\n",
            "665     0.0     0.0     0.0     0.0  ...     0.0     0.0     0.0     0.0\n",
            "666     0.0     0.0     0.0     0.0  ...     0.0     0.0     0.0     0.0\n",
            "667     0.0     0.0     0.0     0.0  ...     0.0     0.0     0.0     0.0\n",
            "668     3.0     0.0     3.0     0.0  ...     0.0     3.0     2.0     2.5\n",
            "\n",
            "[668 rows x 10329 columns]\n"
          ]
        }
      ],
      "source": [
        "frame = pd.DataFrame(ratings_matrix, index = userIds_available , columns = movieIds_available)\n",
        "print(frame)"
      ]
    },
    {
      "cell_type": "markdown",
      "metadata": {
        "id": "iGC1WOXmrtcw"
      },
      "source": [
        "Verifying the rank of the ratings_matrix is much greater than the minimum betweeen n and p:\n",
        "\n",
        "$$\n",
        "rank >> min(n,p)\n",
        "$$"
      ]
    },
    {
      "cell_type": "code",
      "execution_count": null,
      "metadata": {
        "id": "cNjP1D_c_JVm"
      },
      "outputs": [],
      "source": [
        "rank = matrix_rank(ratings_matrix)"
      ]
    },
    {
      "cell_type": "code",
      "execution_count": null,
      "metadata": {
        "colab": {
          "base_uri": "https://localhost:8080/"
        },
        "id": "WaC8rnpqse5R",
        "outputId": "7c611dcd-d695-4f95-cbd4-281de4ea69e9"
      },
      "outputs": [
        {
          "data": {
            "text/plain": [
              "668"
            ]
          },
          "execution_count": 82,
          "metadata": {},
          "output_type": "execute_result"
        }
      ],
      "source": [
        "rank"
      ]
    },
    {
      "cell_type": "markdown",
      "metadata": {
        "id": "K8TXykDUUygu"
      },
      "source": [
        "Checking if there are users that haven't watched any movie"
      ]
    },
    {
      "cell_type": "markdown",
      "metadata": {
        "id": "2RO08e6_U4V2"
      },
      "source": [
        "Deleting rows corresponding to user that hasn't watched any movie"
      ]
    },
    {
      "cell_type": "code",
      "execution_count": null,
      "metadata": {
        "colab": {
          "base_uri": "https://localhost:8080/"
        },
        "id": "GXrSNmWVU9p5",
        "outputId": "e26a0352-6cd1-4632-8b59-7c12813b1196"
      },
      "outputs": [
        {
          "name": "stdout",
          "output_type": "stream",
          "text": [
            "Initial shape:  (668, 10329)\n",
            "Deleted 0 rows\n",
            "Final shape:  (668, 10329)\n"
          ]
        }
      ],
      "source": [
        "# There was a row deleted -> probably because there is a user repeated \n",
        "print(\"Initial shape: \" , ratings_matrix.shape)\n",
        "count = []\n",
        "for user in range(ratings_matrix.shape[0]):\n",
        "  # Save the row to delete\n",
        "  if sum(ratings_matrix[user]) == 0: count.append(user)\n",
        "\n",
        "ratings_matrix = np.delete(ratings_matrix , count , axis = 0)\n",
        "print(\"Deleted %d rows\" % len(count))\n",
        "print(\"Final shape: \" , ratings_matrix.shape)"
      ]
    },
    {
      "cell_type": "markdown",
      "metadata": {
        "id": "WoA2QL7vz3gr"
      },
      "source": [
        "Building movie-genre correlation matrix M\n",
        "\n",
        "$$\n",
        "M_{i,j} = \n",
        "\\begin{cases}\n",
        "1 & \\text{if movie i is of genre j}\\\\\n",
        "0 & \\text{otherwise}\n",
        "\\end{cases}\n",
        "$$"
      ]
    },
    {
      "cell_type": "code",
      "execution_count": null,
      "metadata": {
        "id": "uB4OdENLyn_Q"
      },
      "outputs": [],
      "source": [
        "# Put in a set all the genres available\n",
        "genre_available = set()\n",
        "\n",
        "for i in range(movies.shape[0]):\n",
        "  genres = movies['genres'][i].split('|')\n",
        "  for g in genres: genre_available.add(g)\n",
        "\n",
        "# print(\"All genres available are: \" , id_available , genre_available)"
      ]
    },
    {
      "cell_type": "code",
      "execution_count": null,
      "metadata": {
        "colab": {
          "base_uri": "https://localhost:8080/"
        },
        "id": "4MI3Kx7V0txE",
        "outputId": "9ecdc1f4-e34d-4a72-a97c-e1df5623a42a"
      },
      "outputs": [
        {
          "name": "stdout",
          "output_type": "stream",
          "text": [
            "Max movie id:  149532\n"
          ]
        }
      ],
      "source": [
        "# Build the matrix\n",
        "num_movies = len(movieIds_available)\n",
        "print(\"Max movie id: \" , max(movies['movieId']))\n",
        "num_genres = len(genre_available)\n",
        "correlation_matrix = np.zeros((num_movies , num_genres) , dtype = np.int8)"
      ]
    },
    {
      "cell_type": "code",
      "execution_count": null,
      "metadata": {
        "id": "0mPlXvkm2jHb"
      },
      "outputs": [],
      "source": [
        "correlation_matrix"
      ]
    },
    {
      "cell_type": "code",
      "execution_count": null,
      "metadata": {
        "colab": {
          "base_uri": "https://localhost:8080/"
        },
        "id": "fwLGNLdY2kqa",
        "outputId": "af63e8fa-bb16-492e-d295-c470231b74fe"
      },
      "outputs": [
        {
          "name": "stdout",
          "output_type": "stream",
          "text": [
            "        Mystery  IMAX  Romance  Crime  ...  Children  Western  Action  Film-Noir\n",
            "98304         0     0        0      0  ...         0        0       0          0\n",
            "1             0     0        0      0  ...         0        0       0          0\n",
            "2             0     0        0      0  ...         0        0       0          0\n",
            "3             0     0        0      0  ...         0        0       0          0\n",
            "4             0     0        0      0  ...         0        0       0          0\n",
            "...         ...   ...      ...    ...  ...       ...      ...     ...        ...\n",
            "65514         0     0        0      0  ...         0        0       0          0\n",
            "131050        0     0        0      0  ...         0        0       0          0\n",
            "98284         0     0        0      0  ...         0        0       0          0\n",
            "98290         0     0        0      0  ...         0        0       0          0\n",
            "98296         0     0        0      0  ...         0        0       0          0\n",
            "\n",
            "[10329 rows x 20 columns]\n"
          ]
        }
      ],
      "source": [
        "frame = pd.DataFrame(correlation_matrix, index = movieIds_available , columns = genre_available)\n",
        "print(frame)"
      ]
    },
    {
      "cell_type": "code",
      "execution_count": null,
      "metadata": {
        "id": "iLvwYbkS3MNJ"
      },
      "outputs": [],
      "source": [
        "# Update the table with the correspondance\n",
        "for i in range(movies.shape[0]):\n",
        "  id = movies['movieId'][i]\n",
        "  # Take the right position in the matrix\n",
        "  id = movieIds_available.index(id)\n",
        "\n",
        "  genres = movies['genres'][i].split('|')\n",
        "  for pos , g in enumerate(genre_available):\n",
        "    if g in genres:\n",
        "      correlation_matrix[id , pos] = 1"
      ]
    },
    {
      "cell_type": "code",
      "execution_count": null,
      "metadata": {
        "colab": {
          "base_uri": "https://localhost:8080/"
        },
        "id": "oSNhv6KVHs0g",
        "outputId": "27473a72-7848-491d-dd0a-be411aadbc88"
      },
      "outputs": [
        {
          "name": "stdout",
          "output_type": "stream",
          "text": [
            "        Mystery  IMAX  Romance  Crime  ...  Children  Western  Action  Film-Noir\n",
            "98304         0     0        0      0  ...         0        0       0          0\n",
            "1             0     0        0      0  ...         1        0       0          0\n",
            "2             0     0        0      0  ...         1        0       0          0\n",
            "3             0     0        1      0  ...         0        0       0          0\n",
            "4             0     0        1      0  ...         0        0       0          0\n",
            "...         ...   ...      ...    ...  ...       ...      ...     ...        ...\n",
            "65514         0     0        0      0  ...         0        0       1          0\n",
            "131050        0     0        0      0  ...         0        0       0          0\n",
            "98284         0     0        1      0  ...         0        0       0          0\n",
            "98290         0     0        0      0  ...         0        0       0          0\n",
            "98296         0     0        0      1  ...         0        0       0          0\n",
            "\n",
            "[10329 rows x 20 columns]\n"
          ]
        }
      ],
      "source": [
        "frame = pd.DataFrame(correlation_matrix, index = movieIds_available , columns = genre_available)\n",
        "print(frame)"
      ]
    },
    {
      "cell_type": "code",
      "execution_count": null,
      "metadata": {
        "colab": {
          "base_uri": "https://localhost:8080/"
        },
        "id": "fQz67taAJ3z8",
        "outputId": "7dd06aab-bf5f-41b5-886a-25034ac2b3c7"
      },
      "outputs": [
        {
          "name": "stdout",
          "output_type": "stream",
          "text": [
            "1\n",
            "['Adventure', 'Animation', 'Children', 'Comedy', 'Fantasy']\n",
            "[0 0 0 0 1 0 0 0 0 1 1 0 0 1 0 0 1 0 0 0]\n"
          ]
        }
      ],
      "source": [
        "# Just to verify the correspondences\n",
        "print(movies['movieId'][0])\n",
        "print(movies['genres'][0].split('|'))\n",
        "\n",
        "print(correlation_matrix[1])\n",
        "\n",
        "# frame.to_csv()"
      ]
    },
    {
      "cell_type": "markdown",
      "metadata": {
        "id": "-pjZ2GqVQYfs"
      },
      "source": [
        "Next step:\n",
        "create a movie-movie matrix to find similiar movies: movies which covers the same genres"
      ]
    },
    {
      "cell_type": "code",
      "execution_count": null,
      "metadata": {
        "id": "IWn8x9D7KAc6"
      },
      "outputs": [],
      "source": [
        "# Initializing the matrix to all zeros\n",
        "movie_sim = np.zeros((num_movies , num_movies))"
      ]
    },
    {
      "cell_type": "code",
      "execution_count": null,
      "metadata": {
        "colab": {
          "base_uri": "https://localhost:8080/"
        },
        "id": "RAOfoYWNvUHx",
        "outputId": "1dbf32d7-0627-40cd-a998-8352649c0d5e"
      },
      "outputs": [
        {
          "data": {
            "text/plain": [
              "0.6666666666666666"
            ]
          },
          "execution_count": 69,
          "metadata": {},
          "output_type": "execute_result"
        }
      ],
      "source": [
        "def similar_movies(movie1 , movie2):\n",
        "  \"\"\"\n",
        "  movie1 and movie2 are rows of correlation_matrix\n",
        "  \"\"\"\n",
        "  intersection = np.bitwise_and(movie1 , movie2)\n",
        "  union = np.bitwise_or(movie1 , movie2)\n",
        "  return sum(intersection) / sum(union)\n",
        "\n",
        "def cosine_similarity(movie1 , movie2):\n",
        "  \"\"\"\n",
        "  movie1 and movie2 are rows of correlation_matrix\n",
        "  \"\"\"\n",
        "  return np.dot(movie1, movie2)/(np.linalg.norm(movie1) * np.linalg.norm(movie2))\n",
        "\n",
        "print(\"similar_movies_coefficent: \" , similar_movies([1, 0, 0, 1, 0, 1] , [1, 1, 0, 1, 0, 1]))\n",
        "print(\"cosine_similary_coefficent: \" , cosine_similarity([1, 0, 0, 1, 0, 1] , [0, 1, 0, 0, 0, 0]))\n"
      ]
    },
    {
      "cell_type": "code",
      "execution_count": null,
      "metadata": {
        "id": "1_sWZBVIyJ6B"
      },
      "outputs": [],
      "source": [
        "# Probably this matrix is useless -> yes: to slow, we don't need it for every possible combination\n",
        "for i in range(10):\n",
        "  for j in range(i , 10):\n",
        "    movie_sim[j , i] = similar_movies(correlation_matrix[i] , correlation_matrix[j])"
      ]
    },
    {
      "cell_type": "code",
      "execution_count": null,
      "metadata": {
        "colab": {
          "base_uri": "https://localhost:8080/"
        },
        "id": "-01b0TOw1WkD",
        "outputId": "1f5881d2-e7f6-4f0a-9cfe-ca35e26edf5f"
      },
      "outputs": [
        {
          "name": "stdout",
          "output_type": "stream",
          "text": [
            "          0         1         2         3  ...         6    7    8    9\n",
            "0  1.000000  0.000000  0.000000  0.000000  ...  0.000000  0.0  0.0  0.0\n",
            "1  0.000000  1.000000  0.000000  0.000000  ...  0.000000  0.0  0.0  0.0\n",
            "2  0.000000  0.600000  1.000000  0.000000  ...  0.000000  0.0  0.0  0.0\n",
            "3  0.000000  0.166667  0.000000  1.000000  ...  0.000000  0.0  0.0  0.0\n",
            "4  0.333333  0.142857  0.000000  0.666667  ...  0.000000  0.0  0.0  0.0\n",
            "5  0.000000  0.200000  0.000000  0.500000  ...  0.000000  0.0  0.0  0.0\n",
            "6  0.000000  0.000000  0.000000  0.000000  ...  1.000000  0.0  0.0  0.0\n",
            "7  0.000000  0.166667  0.000000  1.000000  ...  0.000000  1.0  0.0  0.0\n",
            "8  0.000000  0.400000  0.666667  0.000000  ...  0.000000  0.0  1.0  0.0\n",
            "9  0.000000  0.000000  0.000000  0.000000  ...  0.333333  0.0  0.0  1.0\n",
            "\n",
            "[10 rows x 10 columns]\n"
          ]
        }
      ],
      "source": [
        "frame = pd.DataFrame(movie_sim[0:10 , 0:10])\n",
        "print(frame)"
      ]
    },
    {
      "cell_type": "markdown",
      "metadata": {
        "id": "C-YKLAKYmCe9"
      },
      "source": [
        "Crate two dictionary:\n",
        "    - index_cluster: (K)= movie_id (V)= number of its cluster\n",
        "    - movie_cluster: (K)= cluster number (V)= list contains all similar movies"
      ]
    },
    {
      "cell_type": "code",
      "execution_count": null,
      "metadata": {
        "id": "TfRzbs7LmCe9"
      },
      "outputs": [],
      "source": [
        "movie_cluster = {}\n",
        "threshold = 0.6\n",
        "index_cluster = {}\n",
        "movieIds_copy = movieIds_available.copy()\n",
        "\n",
        "num_cluster = 0\n",
        "while len(movieIds_copy)>0:\n",
        "  for id_x in movieIds_copy:\n",
        "    list_movies = []\n",
        "    index_cluster[id_x] = num_cluster\n",
        "    list_movies.append(id_x)\n",
        "    for id_y in movieIds_copy:\n",
        "      if id_x != id_y:\n",
        "        sim = similar_movies(correlation_matrix[movieIds_available.index(id_x)], correlation_matrix[movieIds_available.index(id_y)])\n",
        "        if sim>= threshold:\n",
        "          index_cluster[id_y] = num_cluster\n",
        "          list_movies.append(id_y)\n",
        "          movieIds_copy.remove(id_y)\n",
        "    movieIds_copy.remove(id_x)\n",
        "    movie_cluster[num_cluster] = list_movies\n",
        "    num_cluster += 1\n"
      ]
    },
    {
      "cell_type": "code",
      "execution_count": null,
      "metadata": {
        "id": "rWZt_XQNmCe9"
      },
      "outputs": [],
      "source": [
        "print(index_cluster)\n",
        "print(movie_cluster.get(0))\n",
        "print(movie_cluster.get(100))\n",
        "print(movieIds_copy)    #this is empty now because i check all movies if similar\n",
        "print(movieIds_available)   #varify all ids are untouched"
      ]
    },
    {
      "cell_type": "code",
      "source": [
        "# Count the number of missing values in the original matrix\n",
        "missing_values = 0\n",
        "\n",
        "for i_user in tqdm(range(ratings_matrix.shape[0])):\n",
        "  for j_movie in range(ratings_matrix.shape[1]):\n",
        "    # If the movie in position j_movie hasn't a rating\n",
        "    if ratings_matrix[i_user , j_movie] == 0:\n",
        "      missing_values += 1\n",
        "    \n",
        "print(\"There are %d missing valuess\" % (missing_values))\n",
        "print(\"There are %d values\" % (ratings_matrix.shape[0] * ratings_matrix.shape[1]))"
      ],
      "metadata": {
        "id": "RwWiRXHbmqU5"
      },
      "execution_count": null,
      "outputs": []
    },
    {
      "cell_type": "code",
      "source": [
        "# Fill matrix with some ratings\n",
        "possible_ratings_matrix3 = ratings_matrix.copy() # to maintain the original \n",
        "num_of_predicted_value = 0\n",
        "good_rating = 3.5\n",
        "\n",
        "for i_user in tqdm(range(possible_ratings_matrix3.shape[0])):\n",
        "  #print(\"user: \" , i_user)\n",
        "  for j_movie in range(possible_ratings_matrix3.shape[1]):\n",
        "    # If user i_user has whatched movie j_movie\n",
        "    if possible_ratings_matrix3[i_user , j_movie] >= good_rating:\n",
        "      # Take movies similar to j_movie\n",
        "      cluster = index_cluster[movieIds_available[j_movie]]\n",
        "      sim_movies_ids = movie_cluster[cluster]\n",
        "\n",
        "      pos = 0\n",
        "      for id in sim_movies_ids:\n",
        "        # Take the position in the matrix of that movie\n",
        "        pos = movieIds_available.index(id , pos)\n",
        "        if possible_ratings_matrix3[i_user , pos] == 0:\n",
        "          # sim_j_pos = similar_movies(correlation_matrix[j_movie] , correlation_matrix[pos])\n",
        "          sim_j_pos = cosine_similarity(correlation_matrix[j_movie] , correlation_matrix[pos])\n",
        "          possible_ratings_matrix3[i_user , pos] = sim_j_pos * possible_ratings_matrix[i_user , j_movie]\n",
        "          num_of_predicted_value += 1\n",
        "            \n",
        "print(num_of_predicted_value)"
      ],
      "metadata": {
        "id": "A1tvgowpmxCT"
      },
      "execution_count": null,
      "outputs": []
    },
    {
      "cell_type": "code",
      "source": [
        "# Count the number of missing values in the new matrix\n",
        "missing_values = 0\n",
        "\n",
        "for i_user in tqdm(range(possible_ratings_matrix3.shape[0])):\n",
        "  for j_movie in range(possible_ratings_matrix3.shape[1]):\n",
        "    # If the movie in position j_movie hasn't a rating\n",
        "    if possible_ratings_matrix3[i_user , j_movie] == 0:\n",
        "      missing_values += 1\n",
        "    \n",
        "print(\"There are %d missing values\" % (missing_values))\n",
        "print(\"There are %d values\" % (ratings_matrix.shape[0] * ratings_matrix.shape[1]))"
      ],
      "metadata": {
        "id": "UIk9LBDvm_uN"
      },
      "execution_count": null,
      "outputs": []
    },
    {
      "cell_type": "code",
      "source": [
        "# Save the matrix \"possible_ratings_matrix3\" as a CSV file\n",
        "np.savetxt('possible_ratings_matrix.csv', possible_ratings_matrix3, delimiter=',')"
      ],
      "metadata": {
        "id": "JenRPOwfnIF_"
      },
      "execution_count": null,
      "outputs": []
    },
    {
      "cell_type": "code",
      "source": [
        "# Load the matrix \"possible_ratings_matrix\" from the CSV file\n",
        "possible_ratings_matrix2 = np.loadtxt('possible_ratings_matrix.csv', delimiter=',')"
      ],
      "metadata": {
        "id": "pWrK63K2nKpG"
      },
      "execution_count": null,
      "outputs": []
    },
    {
      "cell_type": "code",
      "execution_count": null,
      "metadata": {
        "id": "rfg6vTLB-5Dl"
      },
      "outputs": [],
      "source": [
        "import json\n",
        "\n",
        "dict = {\n",
        "    int(movieIds_available[0]): [2 , 3 , 6],\n",
        "    int(movieIds_available[1]): [1 , 5]\n",
        "}\n",
        "\n",
        "# Save the similar movies dictionary -> their calculation took 6h 50 min\n",
        "with open('sim_movies.json' , 'w') as fp:\n",
        "  json.dump(dict , fp , indent = 4)"
      ]
    },
    {
      "cell_type": "code",
      "execution_count": null,
      "metadata": {
        "colab": {
          "base_uri": "https://localhost:8080/"
        },
        "id": "YQXr7xZsAVZO",
        "outputId": "c5874150-d160-4fdf-889f-85aebc0b1559"
      },
      "outputs": [
        {
          "name": "stdout",
          "output_type": "stream",
          "text": [
            "{'98304': [2, 3, 6], '1': [1, 5]}\n"
          ]
        }
      ],
      "source": [
        "# Open the saved data\n",
        "with open('sim_movies.json' , 'r') as fp:\n",
        "  movie_sim_dict_loaded = json.load(fp)\n",
        "\n",
        "print(movie_sim_dict_loaded)"
      ]
    },
    {
      "cell_type": "markdown",
      "metadata": {
        "id": "NjqeGvjf3n-E"
      },
      "source": [
        "The next step is to add possible ratings to each user according to similarities between movies: if 2 movie cover the same genre, it's possible that the rating will be the same in both of them.\n",
        "\n",
        "At this step, just look at correlations between movies and not between users: to reduce the number of empty cells in \"ratings_matrix\""
      ]
    },
    {
      "cell_type": "markdown",
      "metadata": {
        "id": "VThu3D-rlIgf"
      },
      "source": [
        "# Singular value truncation (SVT) based recommender system"
      ]
    },
    {
      "cell_type": "code",
      "execution_count": null,
      "metadata": {
        "id": "nk3shAEo6OWu"
      },
      "outputs": [],
      "source": [
        "n_max_iter = 100\n",
        "threshold = 100.0\n",
        "increment_tol = 1e-2\n",
        "\n",
        "X_hat = ratings_matrix\n",
        "\n",
        "for k in range(n_max_iter):\n",
        "  X_old = X_hat.copy()\n",
        "  U,s,VT = np.linalg.svd(X_hat, full_matrices=False)\n",
        "  s[s < threshold] = 0\n",
        "  X_hat = U @ np.diag(s) @ VT\n",
        "  X_hat[rows_train,cols_train] = vals_train \n",
        "  increment = np.linalg.norm(X_hat - X_old)"
      ]
    },
    {
      "cell_type": "code",
      "execution_count": null,
      "metadata": {
        "id": "weU-Vvj4tCQs"
      },
      "outputs": [],
      "source": [
        ""
      ]
    }
  ],
  "metadata": {
    "accelerator": "GPU",
    "colab": {
      "collapsed_sections": [],
      "name": "NA_project.ipynb",
      "provenance": []
    },
    "kernelspec": {
      "display_name": "Python 3",
      "name": "python3"
    },
    "language_info": {
      "name": "python"
    }
  },
  "nbformat": 4,
  "nbformat_minor": 0
}