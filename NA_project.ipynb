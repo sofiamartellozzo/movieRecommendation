{
 "cells": [
  {
   "cell_type": "markdown",
   "metadata": {
    "id": "ofUfngSuuiuR"
   },
   "source": [
    "#Numerical Analysis' project\n",
    "\n",
    "Movie recommendation system"
   ]
  },
  {
   "cell_type": "code",
   "execution_count": 854,
   "metadata": {
    "id": "BUpzryGvufOX"
   },
   "outputs": [],
   "source": [
    "from scipy.sparse import csr_matrix\n",
    "from scipy.stats import pearsonr\n",
    "from numpy.linalg import matrix_rank\n",
    "from tqdm.notebook import tqdm\n",
    "from enum import IntEnum\n",
    "import numpy as np\n",
    "import matplotlib.pyplot as plt\n",
    "import pandas as pd\n",
    "import seaborn as sns\n",
    "#import jax.numpy as jnp\n",
    "#import jax\n",
    "import time"
   ]
  },
  {
   "cell_type": "markdown",
   "metadata": {
    "id": "v2E-g2QavVzT"
   },
   "source": [
    "Load the dataset using pandas"
   ]
  },
  {
   "cell_type": "code",
   "execution_count": 809,
   "metadata": {
    "id": "_bxmTRyiu9He"
   },
   "outputs": [],
   "source": [
    "movies = pd.read_csv('movies.csv')\n",
    "ratings = pd.read_csv('ratings.csv')"
   ]
  },
  {
   "cell_type": "code",
   "execution_count": 810,
   "metadata": {},
   "outputs": [
    {
     "name": "stdout",
     "output_type": "stream",
     "text": [
      "668 10329\n"
     ]
    }
   ],
   "source": [
    "# Find all the possible user ids and movie ids-> do that after the deletion\n",
    "userIds_available = set()\n",
    "movieIds_available = set()\n",
    "for id in np.array(ratings['userId'] , dtype = int):\n",
    "    userIds_available.add(id)\n",
    "\n",
    "for id in np.array(movies['movieId'] , dtype = int):\n",
    "    movieIds_available.add(id)\n",
    "    \n",
    "userIds_available = list(userIds_available)\n",
    "movieIds_available = list(movieIds_available)\n",
    "\n",
    "userIds_available.sort()\n",
    "movieIds_available.sort()\n",
    "\n",
    "print(len(userIds_available) , len(movieIds_available))"
   ]
  },
  {
   "cell_type": "code",
   "execution_count": 811,
   "metadata": {
    "colab": {
     "base_uri": "https://localhost:8080/"
    },
    "id": "vr2mVUTIvc2r",
    "outputId": "3617be62-cbfe-49c3-e0e9-4a6e0874f4ac",
    "tags": []
   },
   "outputs": [
    {
     "data": {
      "application/vnd.jupyter.widget-view+json": {
       "model_id": "f39d62ca2abb41c3b1a375e2bb47d079",
       "version_major": 2,
       "version_minor": 0
      },
      "text/plain": [
       "  0%|          | 0/105339 [00:00<?, ?it/s]"
      ]
     },
     "metadata": {},
     "output_type": "display_data"
    },
    {
     "data": {
      "application/vnd.jupyter.widget-view+json": {
       "model_id": "f61048e19ef4441e8065e0a87ad01c0d",
       "version_major": 2,
       "version_minor": 0
      },
      "text/plain": [
       "  0%|          | 0/105339 [00:00<?, ?it/s]"
      ]
     },
     "metadata": {},
     "output_type": "display_data"
    },
    {
     "data": {
      "text/plain": [
       "(669, 149533, 105339)"
      ]
     },
     "execution_count": 811,
     "metadata": {},
     "output_type": "execute_result"
    }
   ],
   "source": [
    "#ratings # 105339 users' ratings , 668 different users\n",
    "#movies # 10329 movies\n",
    "rows = np.array(ratings['userId'])\n",
    "cols = np.array(ratings['movieId'])\n",
    "vals = np.array(ratings['rating'])\n",
    "\n",
    "n = rows.max() + 1 # Number of user\n",
    "p = cols.max() + 1# Number of movies\n",
    "N = len(vals) # Number of ratings\n",
    "\n",
    "\n",
    "def binary_search(array , x):\n",
    "    low = 0\n",
    "    high = len(array) - 1\n",
    "    while(high >= low):\n",
    "        mid = int((high + low) / 2)\n",
    "        \n",
    "        if array[mid] == x:\n",
    "            return mid\n",
    "        \n",
    "        elif array[mid] > x:\n",
    "            high = mid - 1\n",
    "            \n",
    "        else:\n",
    "            low = mid + 1\n",
    "\n",
    "    print(\"Element %d not found\" % x)\n",
    "    return -1\n",
    "\n",
    "# Update the arrays rows/cols with the true position instead of the ids \n",
    "for i_user in tqdm(range(len(rows))):\n",
    "    rows[i_user] = binary_search(userIds_available ,  rows[i_user])\n",
    "\n",
    "for i_movie in tqdm(range(len(cols))):\n",
    "    cols[i_movie] = binary_search(movieIds_available , cols[i_movie])\n",
    "\n",
    "n , p , N"
   ]
  },
  {
   "cell_type": "code",
   "execution_count": null,
   "metadata": {
    "id": "f5lmpABEvelb",
    "tags": []
   },
   "outputs": [],
   "source": [
    "# Command for analyse input data matrix \n",
    "movies.head()\n",
    "ratings.head()\n",
    "movies.info()\n",
    "ratings.info()\n",
    "movies.describe()\n",
    "ratings.describe()\n",
    "sns.distplot(ratings['rating'])\n",
    "sns.distplot(ratings['movieId'])\n",
    "sns.scatterplot(data = ratings , x = 'userId' , y = 'movieId' , hue = 'rating')\n",
    "ratings.corr()"
   ]
  },
  {
   "cell_type": "code",
   "execution_count": 814,
   "metadata": {
    "id": "3MAjyzHuom52"
   },
   "outputs": [],
   "source": [
    "# Shuffle the data\n",
    "indexes = np.arange(N)\n",
    "np.random.seed(0) # for reproducibility\n",
    "np.random.shuffle(indexes)\n",
    "indexes\n",
    "# Reordering the arrays\n",
    "rows = rows[indexes]\n",
    "cols = cols[indexes]\n",
    "vals = vals[indexes]"
   ]
  },
  {
   "cell_type": "markdown",
   "metadata": {
    "id": "RhJA61ParQ1d"
   },
   "source": [
    "Building the train set (80%) and the validation set (20%)"
   ]
  },
  {
   "cell_type": "code",
   "execution_count": 815,
   "metadata": {
    "id": "kiIg-jcNpBZc"
   },
   "outputs": [
    {
     "name": "stdout",
     "output_type": "stream",
     "text": [
      "84271 84271 84271\n"
     ]
    }
   ],
   "source": [
    "# Split data in training and testing\n",
    "num_training = int(N * 0.8)\n",
    "\n",
    "rows_train = rows[:num_training]\n",
    "cols_train = cols[:num_training]\n",
    "vals_train = vals[:num_training]\n",
    "rows_test  = rows[num_training:]\n",
    "cols_test  = cols[num_training:]\n",
    "vals_test  = vals[num_training:]\n",
    "\n",
    "print(len(rows_train) , len(cols_train) , len(vals_train))"
   ]
  },
  {
   "cell_type": "markdown",
   "metadata": {
    "id": "Z6jfWiwBrSqA"
   },
   "source": [
    "Building the matrix with the origina values\n",
    "\n",
    "Building the 'Ratings matrix'\n",
    "Users on the rows and Movies on the columns\n",
    "\n",
    "Initializing all the elements to 0 and then updating position (i,j) with the rating of movie j by user i if it's present"
   ]
  },
  {
   "cell_type": "code",
   "execution_count": 818,
   "metadata": {
    "id": "FjVM07332FrT"
   },
   "outputs": [
    {
     "name": "stdout",
     "output_type": "stream",
     "text": [
      "[[0. 0. 0. ... 0. 0. 0.]\n",
      " [0. 0. 0. ... 0. 0. 0.]\n",
      " [0. 0. 0. ... 0. 0. 0.]\n",
      " ...\n",
      " [0. 0. 0. ... 0. 0. 0.]\n",
      " [0. 0. 0. ... 0. 0. 0.]\n",
      " [0. 0. 0. ... 0. 0. 0.]]\n",
      "=========================\n",
      "[[0. 0. 0. ... 0. 0. 0.]\n",
      " [5. 0. 2. ... 0. 0. 0.]\n",
      " [0. 0. 0. ... 0. 0. 0.]\n",
      " ...\n",
      " [0. 0. 0. ... 0. 0. 0.]\n",
      " [0. 0. 0. ... 0. 0. 0.]\n",
      " [3. 3. 2. ... 0. 0. 0.]]\n"
     ]
    }
   ],
   "source": [
    "# Initialize the matrix with all zeros\n",
    "ratings_matrix = np.zeros((len(userIds_available) , len(movieIds_available)))\n",
    "print(ratings_matrix)\n",
    "print(\"=========================\")\n",
    "# Update the matrix with the known values (contained in vals_train array)\n",
    "ratings_matrix[rows_train, cols_train] = vals_train\n",
    "print(ratings_matrix) "
   ]
  },
  {
   "cell_type": "code",
   "execution_count": null,
   "metadata": {
    "colab": {
     "base_uri": "https://localhost:8080/"
    },
    "id": "6Eofsk3o31hp",
    "outputId": "9b4547b2-68a4-467b-9ce5-b3e5ebcb8689"
   },
   "outputs": [],
   "source": [
    "frame = pd.DataFrame(ratings_matrix, index = userIds_available , columns = movieIds_available)\n",
    "print(frame)"
   ]
  },
  {
   "cell_type": "markdown",
   "metadata": {
    "id": "K8TXykDUUygu"
   },
   "source": [
    "Checking if there are users that haven't watched any movie"
   ]
  },
  {
   "cell_type": "markdown",
   "metadata": {
    "id": "2RO08e6_U4V2"
   },
   "source": [
    "Deleting rows corresponding to user that hasn't watched any movie"
   ]
  },
  {
   "cell_type": "code",
   "execution_count": 819,
   "metadata": {
    "colab": {
     "base_uri": "https://localhost:8080/"
    },
    "id": "GXrSNmWVU9p5",
    "outputId": "bdbff8ff-9442-44a5-ee80-2f4e9c806e60"
   },
   "outputs": [
    {
     "name": "stdout",
     "output_type": "stream",
     "text": [
      "Initial shape:  (668, 10329)\n",
      "Deleted 0 rows\n",
      "Final shape:  (668, 10329)\n"
     ]
    }
   ],
   "source": [
    "print(\"Initial shape: \" , ratings_matrix.shape)\n",
    "count = []\n",
    "for user in range(ratings_matrix.shape[0]):\n",
    "    # Save the row to delete\n",
    "    if sum(ratings_matrix[user]) == 0: count.append(user)\n",
    "\n",
    "ratings_matrix = np.delete(ratings_matrix , count , axis = 0)\n",
    "print(\"Deleted %d rows\" % len(count))\n",
    "print(\"Final shape: \" , ratings_matrix.shape)"
   ]
  },
  {
   "cell_type": "code",
   "execution_count": 820,
   "metadata": {},
   "outputs": [
    {
     "data": {
      "application/vnd.jupyter.widget-view+json": {
       "model_id": "c1ef837bd267499e9918de29e6be283c",
       "version_major": 2,
       "version_minor": 0
      },
      "text/plain": [
       "  0%|          | 0/668 [00:00<?, ?it/s]"
      ]
     },
     "metadata": {},
     "output_type": "display_data"
    },
    {
     "name": "stdout",
     "output_type": "stream",
     "text": [
      "There are 6815501 missing valuess\n",
      "There are 84271 values inserted\n",
      "There are 6899772 values\n"
     ]
    }
   ],
   "source": [
    "# Count the number of missing values\n",
    "def count_missing_values(matrix):\n",
    "    missing_values = 0\n",
    "\n",
    "    for i_user in tqdm(range(matrix.shape[0])):\n",
    "        for j_movie in range(matrix.shape[1]):\n",
    "            # If the movie in position j_movie hasn't a rating\n",
    "            if matrix[i_user , j_movie] == 0:\n",
    "                missing_values += 1\n",
    "\n",
    "    print(\"There are %d missing valuess\" % (missing_values))\n",
    "    print(\"There are %d values inserted\" % (matrix.shape[0] * matrix.shape[1] - missing_values))\n",
    "    print(\"There are %d values\" % (matrix.shape[0] * matrix.shape[1]))\n",
    "    \n",
    "count_missing_values(ratings_matrix)"
   ]
  },
  {
   "cell_type": "markdown",
   "metadata": {
    "id": "WoA2QL7vz3gr"
   },
   "source": [
    "Building movie-genre correlation matrix M\n",
    "\n",
    "$$\n",
    "M_{i,j} = \n",
    "\\begin{cases}\n",
    "1 & \\text{if movie i is of genre j}\\\\\n",
    "0 & \\text{otherwise}\n",
    "\\end{cases}\n",
    "$$"
   ]
  },
  {
   "cell_type": "code",
   "execution_count": 822,
   "metadata": {
    "id": "uB4OdENLyn_Q"
   },
   "outputs": [],
   "source": [
    "# Put in a set all the genres available\n",
    "genre_available = set()\n",
    "\n",
    "for i in range(movies.shape[0]):\n",
    "    genres = movies['genres'][i].split('|')\n",
    "    for g in genres: genre_available.add(g)\n",
    "\n",
    "# print(\"All genres available are: \" , id_available , genre_available)"
   ]
  },
  {
   "cell_type": "code",
   "execution_count": 823,
   "metadata": {
    "colab": {
     "base_uri": "https://localhost:8080/"
    },
    "id": "4MI3Kx7V0txE",
    "outputId": "fd9e033e-5e6c-4cfc-b2e5-72a0d09c1719"
   },
   "outputs": [
    {
     "name": "stdout",
     "output_type": "stream",
     "text": [
      "Max movie id:  149532\n",
      "Number of movies is:  10329\n",
      "Number of genres is:  20\n"
     ]
    }
   ],
   "source": [
    "# Build the matrix\n",
    "num_movies = len(movieIds_available)\n",
    "num_genres = len(genre_available)\n",
    "print(\"Max movie id: \" , max(movies['movieId']))\n",
    "print(\"Number of movies is: \" , num_movies)\n",
    "print(\"Number of genres is: \" , num_genres)\n",
    "# Initialize the matrix with all zeros of int8 type\n",
    "correlation_matrix = np.zeros((num_movies , num_genres) , dtype = np.int8)"
   ]
  },
  {
   "cell_type": "code",
   "execution_count": 824,
   "metadata": {
    "id": "iLvwYbkS3MNJ"
   },
   "outputs": [
    {
     "data": {
      "application/vnd.jupyter.widget-view+json": {
       "model_id": "afeb73061fcc45f2b2637cfeff93b6b4",
       "version_major": 2,
       "version_minor": 0
      },
      "text/plain": [
       "  0%|          | 0/10329 [00:00<?, ?it/s]"
      ]
     },
     "metadata": {},
     "output_type": "display_data"
    }
   ],
   "source": [
    "# Update the table with the correspondance\n",
    "for i in tqdm(range(movies.shape[0])):\n",
    "    id = movies['movieId'][i]\n",
    "    # Take the right position in the matrix\n",
    "    id = movieIds_available.index(id)\n",
    "\n",
    "    genres = movies['genres'][i].split('|')\n",
    "    for pos , g in enumerate(genre_available):\n",
    "        if g in genres:\n",
    "            correlation_matrix[id , pos] = 1"
   ]
  },
  {
   "cell_type": "code",
   "execution_count": null,
   "metadata": {
    "colab": {
     "base_uri": "https://localhost:8080/"
    },
    "id": "oSNhv6KVHs0g",
    "outputId": "83274e56-8675-4edd-bccc-4ceaff035b1d"
   },
   "outputs": [],
   "source": [
    "frame = pd.DataFrame(correlation_matrix, index = movieIds_available , columns = genre_available)\n",
    "print(frame)"
   ]
  },
  {
   "cell_type": "markdown",
   "metadata": {
    "id": "-pjZ2GqVQYfs"
   },
   "source": [
    "Next step:\n",
    "create a movie-movie matrix to find similiar movies: movies which covers the same genres"
   ]
  },
  {
   "cell_type": "code",
   "execution_count": 825,
   "metadata": {
    "colab": {
     "base_uri": "https://localhost:8080/"
    },
    "id": "RAOfoYWNvUHx",
    "outputId": "dc477a3e-b286-4683-bb50-592bb1a695c7"
   },
   "outputs": [
    {
     "name": "stdout",
     "output_type": "stream",
     "text": [
      "similar_movies_coefficent:  0.75\n",
      "cosine_similary_coefficent:  0.7442084075352507\n",
      "cosine_similary_coefficent 2.0:  1.0\n"
     ]
    }
   ],
   "source": [
    "def similar_movies(movie1 , movie2):\n",
    "    \"\"\"\n",
    "    movie1 and movie2 are rows of correlation_matrix\n",
    "    \"\"\"\n",
    "    intersection = np.bitwise_and(movie1 , movie2)\n",
    "    union = np.bitwise_or(movie1 , movie2)\n",
    "    return sum(intersection) / sum(union)\n",
    "\n",
    "def cosine_similarity(vector1 , vector2):\n",
    "    \"\"\"\n",
    "    vector1 and vector2 are rows of correlation_matrix or of ratings_matrix\n",
    "    \"\"\"\n",
    "    return np.dot(vector1, vector2)/(np.linalg.norm(vector1) * np.linalg.norm(vector2))\n",
    "\n",
    "def cosine_similarity_2(vector1 , vector2):\n",
    "    '''\n",
    "    Apply this similarity between users -> want to find similar behaviour in rating common movies and then\n",
    "        use movies that one of the two hasn't watched yet, not use them here\n",
    "    '''\n",
    "    common_vector1 = []\n",
    "    common_vector2 = []\n",
    "    \n",
    "    # Take just the movies rated in both the array to find a similarity between users\n",
    "    for i in range(len(vector1)):\n",
    "        if vector1[i] != 0 and vector2[i] != 0:\n",
    "            common_vector1.append(vector1[i])\n",
    "            common_vector2.append(vector2[i])\n",
    "    # If the two vectors(users) has at least 3 common ratings\n",
    "    if len(common_vector1) > 2:\n",
    "        return np.dot(common_vector1, common_vector2)/(np.linalg.norm(common_vector1) * np.linalg.norm(common_vector2))\n",
    "    else:\n",
    "        return 0\n",
    "\n",
    "print(\"similar_movies_coefficent: \" , similar_movies([1, 0, 0, 1, 0, 1] , [1, 1, 0, 1, 0, 1]))\n",
    "print(\"cosine_similary_coefficent: \" , cosine_similarity([1, 0, 3, 1, 0, 5] , [1, 2, 3, 1, 5, 5]))\n",
    "print(\"cosine_similary_coefficent 2.0: \" , cosine_similarity_2([1, 0, 3, 1, 0, 5] , [1, 2, 3, 1, 5, 5]))"
   ]
  },
  {
   "cell_type": "markdown",
   "metadata": {
    "id": "ilOD4i4LzpVh"
   },
   "source": [
    "Creating the dictionary containing the clusters"
   ]
  },
  {
   "cell_type": "code",
   "execution_count": 937,
   "metadata": {},
   "outputs": [
    {
     "data": {
      "application/vnd.jupyter.widget-view+json": {
       "model_id": "f45e817dfc8f4e96ac68cae3033b91b6",
       "version_major": 2,
       "version_minor": 0
      },
      "text/plain": [
       "  0%|          | 0/10329 [00:00<?, ?it/s]"
      ]
     },
     "metadata": {},
     "output_type": "display_data"
    },
    {
     "data": {
      "application/vnd.jupyter.widget-view+json": {
       "model_id": "51d3690635f648cc91b1fef07d926838",
       "version_major": 2,
       "version_minor": 0
      },
      "text/plain": [
       "  0%|          | 0/162 [00:00<?, ?it/s]"
      ]
     },
     "metadata": {},
     "output_type": "display_data"
    },
    {
     "data": {
      "application/vnd.jupyter.widget-view+json": {
       "model_id": "8762551b9f9e41848c2475a9483e20ea",
       "version_major": 2,
       "version_minor": 0
      },
      "text/plain": [
       "  0%|          | 0/52 [00:00<?, ?it/s]"
      ]
     },
     "metadata": {},
     "output_type": "display_data"
    },
    {
     "data": {
      "application/vnd.jupyter.widget-view+json": {
       "model_id": "4b12fd23f07d44bb9a5f01673277eca4",
       "version_major": 2,
       "version_minor": 0
      },
      "text/plain": [
       "  0%|          | 0/22 [00:00<?, ?it/s]"
      ]
     },
     "metadata": {},
     "output_type": "display_data"
    },
    {
     "data": {
      "application/vnd.jupyter.widget-view+json": {
       "model_id": "88fb13e877d142cfa691587a4cdb3199",
       "version_major": 2,
       "version_minor": 0
      },
      "text/plain": [
       "  0%|          | 0/11 [00:00<?, ?it/s]"
      ]
     },
     "metadata": {},
     "output_type": "display_data"
    },
    {
     "data": {
      "application/vnd.jupyter.widget-view+json": {
       "model_id": "df0812983f834168aa4bb85fabc1bed3",
       "version_major": 2,
       "version_minor": 0
      },
      "text/plain": [
       "  0%|          | 0/5 [00:00<?, ?it/s]"
      ]
     },
     "metadata": {},
     "output_type": "display_data"
    },
    {
     "data": {
      "application/vnd.jupyter.widget-view+json": {
       "model_id": "b290c48b631a4ad58b1da39aef4c6832",
       "version_major": 2,
       "version_minor": 0
      },
      "text/plain": [
       "  0%|          | 0/2 [00:00<?, ?it/s]"
      ]
     },
     "metadata": {},
     "output_type": "display_data"
    },
    {
     "data": {
      "application/vnd.jupyter.widget-view+json": {
       "model_id": "e2a472af972f4f58bb8a639fc5581a6d",
       "version_major": 2,
       "version_minor": 0
      },
      "text/plain": [
       "  0%|          | 0/1 [00:00<?, ?it/s]"
      ]
     },
     "metadata": {},
     "output_type": "display_data"
    },
    {
     "name": "stdout",
     "output_type": "stream",
     "text": [
      "Number of cluster is:  261\n"
     ]
    }
   ],
   "source": [
    "# Creating clusters for movies\n",
    "movie_cluster = {}\n",
    "threshold = 0.7\n",
    "index_cluster = {}\n",
    "movieIds_copy = movieIds_available.copy()\n",
    "\n",
    "num_cluster = 0\n",
    "while len(movieIds_copy)>0:\n",
    "    for id_x in tqdm(movieIds_copy):\n",
    "        list_movies = []\n",
    "        index_cluster[id_x] = num_cluster\n",
    "        list_movies.append(id_x)\n",
    "        for id_y in movieIds_copy:\n",
    "            if id_x != id_y:\n",
    "                sim = cosine_similarity(correlation_matrix[movieIds_available.index(id_x)], correlation_matrix[movieIds_available.index(id_y)])\n",
    "                if sim>= threshold:\n",
    "                    index_cluster[id_y] = num_cluster\n",
    "                    list_movies.append(id_y)\n",
    "                    movieIds_copy.remove(id_y)\n",
    "        movieIds_copy.remove(id_x)\n",
    "        movie_cluster[num_cluster] = list_movies\n",
    "        num_cluster += 1\n",
    "    \n",
    "print(\"Number of cluster is: \" , num_cluster)"
   ]
  },
  {
   "cell_type": "code",
   "execution_count": 928,
   "metadata": {},
   "outputs": [
    {
     "data": {
      "application/vnd.jupyter.widget-view+json": {
       "model_id": "498eb9d1c5d2404f923f05fed1308858",
       "version_major": 2,
       "version_minor": 0
      },
      "text/plain": [
       "  0%|          | 0/668 [00:00<?, ?it/s]"
      ]
     },
     "metadata": {},
     "output_type": "display_data"
    },
    {
     "data": {
      "application/vnd.jupyter.widget-view+json": {
       "model_id": "196f696d48b749379cc6f00880489ddf",
       "version_major": 2,
       "version_minor": 0
      },
      "text/plain": [
       "  0%|          | 0/41 [00:00<?, ?it/s]"
      ]
     },
     "metadata": {},
     "output_type": "display_data"
    },
    {
     "data": {
      "application/vnd.jupyter.widget-view+json": {
       "model_id": "43c8873270b94959b2ab12c0800ccdff",
       "version_major": 2,
       "version_minor": 0
      },
      "text/plain": [
       "  0%|          | 0/16 [00:00<?, ?it/s]"
      ]
     },
     "metadata": {},
     "output_type": "display_data"
    },
    {
     "data": {
      "application/vnd.jupyter.widget-view+json": {
       "model_id": "db9eb63c2e0a4a08aa7d5007b1b1b255",
       "version_major": 2,
       "version_minor": 0
      },
      "text/plain": [
       "  0%|          | 0/8 [00:00<?, ?it/s]"
      ]
     },
     "metadata": {},
     "output_type": "display_data"
    },
    {
     "data": {
      "application/vnd.jupyter.widget-view+json": {
       "model_id": "afc3aec0c04a4a30a77e197a0008683e",
       "version_major": 2,
       "version_minor": 0
      },
      "text/plain": [
       "  0%|          | 0/4 [00:00<?, ?it/s]"
      ]
     },
     "metadata": {},
     "output_type": "display_data"
    },
    {
     "data": {
      "application/vnd.jupyter.widget-view+json": {
       "model_id": "15000b91cf8c4697a14c681b29f2f043",
       "version_major": 2,
       "version_minor": 0
      },
      "text/plain": [
       "  0%|          | 0/2 [00:00<?, ?it/s]"
      ]
     },
     "metadata": {},
     "output_type": "display_data"
    },
    {
     "data": {
      "application/vnd.jupyter.widget-view+json": {
       "model_id": "b90409631c0a44a3a02e1575f84ffe4d",
       "version_major": 2,
       "version_minor": 0
      },
      "text/plain": [
       "  0%|          | 0/1 [00:00<?, ?it/s]"
      ]
     },
     "metadata": {},
     "output_type": "display_data"
    },
    {
     "name": "stdout",
     "output_type": "stream",
     "text": [
      "Number of cluster is:  75\n"
     ]
    }
   ],
   "source": [
    "# Creating clusters for users\n",
    "users_cluster = {}\n",
    "threshold = 0.95\n",
    "user_index_cluster = {}\n",
    "userIds_copy = userIds_available.copy()\n",
    "\n",
    "num_cluster = 0\n",
    "while len(userIds_copy)>0:\n",
    "    for id_x in tqdm(userIds_copy):\n",
    "        list_users = []\n",
    "        user_index_cluster[id_x] = num_cluster\n",
    "        list_users.append(id_x)\n",
    "        for id_y in userIds_copy:\n",
    "            # If it's not the same user\n",
    "            if id_x != id_y:\n",
    "                # Calculate the cosine similarity\n",
    "                sim = cosine_similarity_2(ratings_matrix[userIds_available.index(id_x)], ratings_matrix[userIds_available.index(id_y)])\n",
    "                # If they are similar enough\n",
    "                if sim >= threshold:\n",
    "                    user_index_cluster[id_y] = num_cluster\n",
    "                    list_users.append(id_y)\n",
    "                    userIds_copy.remove(id_y)\n",
    "        userIds_copy.remove(id_x)\n",
    "        users_cluster[num_cluster] = list_users\n",
    "        num_cluster += 1\n",
    "    \n",
    "print(\"Number of cluster is: \" , num_cluster)"
   ]
  },
  {
   "cell_type": "code",
   "execution_count": 529,
   "metadata": {},
   "outputs": [],
   "source": [
    "#print(index_cluster)\n",
    "#print(movie_cluster.get(2))\n",
    "#print(movie_cluster.get(400))\n",
    "#print(movieIds_copy)    #this is empty now because i check all movies if similar\n",
    "#print(movieIds_available)   #varify all ids are untouched"
   ]
  },
  {
   "cell_type": "code",
   "execution_count": 938,
   "metadata": {
    "id": "hLDTPLstktw3"
   },
   "outputs": [],
   "source": [
    "# Order each sublist of the dictionaries\n",
    "for key , value in movie_cluster.items():\n",
    "    new_value = value\n",
    "    new_value.sort()\n",
    "    movie_cluster[key] = new_value\n",
    "    \n",
    "for key , value in users_cluster.items():\n",
    "    new_value = value\n",
    "    new_value.sort()\n",
    "    users_cluster[key] = new_value"
   ]
  },
  {
   "cell_type": "code",
   "execution_count": null,
   "metadata": {},
   "outputs": [],
   "source": [
    "    \n",
    "'''\n",
    "for key , value in users_cluster.items():\n",
    "    if len(value) > 1:\n",
    "        print(value)\n",
    "        break\n",
    "print(\"Showing 2 users considered similar\")\n",
    "\n",
    "user1_array = ratings_matrix[userIds_available.index(1)]\n",
    "user2_array = ratings_matrix[userIds_available.index(2)]\n",
    "\n",
    "print(\"Similarity between user %d and user %d is %1.3f\" % (3 , 245 , cosine_similarity(user1_array , user2_array)))\n",
    "\n",
    "for i in range(len(user1_array)):\n",
    "    if user1_array[i] != 0 and user2_array[i] != 0:\n",
    "        print(\"Movie %d: %1.1f - %1.1f\" % (i , user1_array[i] , user2_array[i]))\n",
    "'''"
   ]
  },
  {
   "cell_type": "code",
   "execution_count": 939,
   "metadata": {},
   "outputs": [],
   "source": [
    "# Array that contains the position of each ratings\n",
    "ratings_position_array = list([0.5 , 1 , 1.5 , 2 , 2.5 , 3 , 3.5 , 4 , 4.5 , 5])\n",
    "\n",
    "def get_rating_to_assign(array):\n",
    "    # Find the max count\n",
    "    max_rating_count = 0\n",
    "    count_of_ratings = 0\n",
    "    for i in range(len(array)):\n",
    "        count_of_ratings += array[i]\n",
    "        if array[i] > max_rating_count:\n",
    "            max_rating_count = array[i]\n",
    "        \n",
    "    # If there aren't at least 3 ratings\n",
    "    if count_of_ratings < 3:\n",
    "        return 0\n",
    "            \n",
    "    # Fill the list with the maximum ratings\n",
    "    list_of_max = set()\n",
    "    for i in range(len(array)):\n",
    "        if array[i] == max_rating_count:\n",
    "            list_of_max.add(ratings_position_array[i])\n",
    "    \n",
    "    if len(list_of_max) == 0:\n",
    "        return 0\n",
    "            \n",
    "    # Calculate the avg between the ratings that appear more\n",
    "    rating = 0\n",
    "    for r in list_of_max:\n",
    "        rating += r\n",
    "    \n",
    "    return rating / len(list_of_max)"
   ]
  },
  {
   "cell_type": "code",
   "execution_count": 931,
   "metadata": {},
   "outputs": [
    {
     "data": {
      "application/vnd.jupyter.widget-view+json": {
       "model_id": "410726164e93465390e826fe9ec1f54a",
       "version_major": 2,
       "version_minor": 0
      },
      "text/plain": [
       "  0%|          | 0/668 [00:00<?, ?it/s]"
      ]
     },
     "metadata": {},
     "output_type": "display_data"
    },
    {
     "name": "stdout",
     "output_type": "stream",
     "text": [
      "991112\n"
     ]
    }
   ],
   "source": [
    "# Filling matrix with some ratings due to user similarities\n",
    "partial_ratings_matrix = ratings_matrix.copy() # to maintain the original\n",
    "num_of_predicted_value = 0\n",
    "\n",
    "for i_user in tqdm(range(partial_ratings_matrix.shape[0])):\n",
    "    # Take the cluster key for the user\n",
    "    cluster = user_index_cluster[userIds_available[i_user]]\n",
    "    # Take all the similar users\n",
    "    sim_users_ids = users_cluster[cluster]\n",
    "    \n",
    "    # If there is at least a similar user\n",
    "    if len(sim_users_ids) > 1:\n",
    "        \n",
    "        for j_movie in range(partial_ratings_matrix.shape[1]):\n",
    "            # If the user hasn't watched the movie yet\n",
    "            if ratings_matrix[i_user , j_movie] == 0:\n",
    "                # For each movie calculate the most common rating and assing it\n",
    "                # Array that will contains the sum of all the different ratings the movie received\n",
    "                ratings_array = np.zeros(10)\n",
    "                pos = 0\n",
    "                for user_id in sim_users_ids: \n",
    "                    # Take the row corresponding to the user\n",
    "                    pos = userIds_available.index(user_id , pos)\n",
    "\n",
    "                    # If the similar user has watched it\n",
    "                    if ratings_matrix[pos , j_movie] != 0:\n",
    "                        position_in_array = ratings_position_array.index(ratings_matrix[pos , j_movie])\n",
    "                        ratings_array[position_in_array] += 1\n",
    "                \n",
    "                rating = get_rating_to_assign(ratings_array)\n",
    "                if rating > 0:\n",
    "                    partial_ratings_matrix[i_user , j_movie] = rating\n",
    "                    num_of_predicted_value += 1\n",
    "            \n",
    "print(num_of_predicted_value)"
   ]
  },
  {
   "cell_type": "code",
   "execution_count": 893,
   "metadata": {},
   "outputs": [
    {
     "data": {
      "application/vnd.jupyter.widget-view+json": {
       "model_id": "48959589e7b54f879e7372e587658bee",
       "version_major": 2,
       "version_minor": 0
      },
      "text/plain": [
       "  0%|          | 0/668 [00:00<?, ?it/s]"
      ]
     },
     "metadata": {},
     "output_type": "display_data"
    },
    {
     "name": "stdout",
     "output_type": "stream",
     "text": [
      "2801063\n"
     ]
    }
   ],
   "source": [
    "# Filling matrix with some ratings due to user similarities\n",
    "partial_ratings_matrix = ratings_matrix.copy() # to maintain the original\n",
    "num_of_predicted_value = 0\n",
    "\n",
    "for i_user in tqdm(range(partial_ratings_matrix.shape[0])):\n",
    "    # Take the cluster key for the user\n",
    "    cluster = user_index_cluster[userIds_available[i_user]]\n",
    "    # Take all the similar users\n",
    "    sim_users_ids = users_cluster[cluster]\n",
    "    \n",
    "    # If there is at least a similar user\n",
    "    if len(sim_users_ids) > 1:\n",
    "        \n",
    "        for j_movie in range(partial_ratings_matrix.shape[1]):\n",
    "            # If the user hasn't watched the movie yet\n",
    "            if ratings_matrix[i_user , j_movie] == 0:\n",
    "                # For each movie calculate the avg rating given by similar users\n",
    "                ratings_sum = 0\n",
    "                total_contributions = 0\n",
    "\n",
    "                pos = 0\n",
    "                for user_id in sim_users_ids: \n",
    "                    # Take the row corresponding to the user\n",
    "                    pos = userIds_available.index(user_id , pos)\n",
    "\n",
    "                    # If the similar user has watched it\n",
    "                    if ratings_matrix[pos , j_movie] != 0:\n",
    "                        ratings_sum += ratings_matrix[pos , j_movie]\n",
    "                        total_contributions += 1\n",
    "\n",
    "                # If at least a similar user has watched the movie\n",
    "                if total_contributions > 0:\n",
    "                    average = ratings_sum / total_contributions\n",
    "                    partial_ratings_matrix[i_user , j_movie] = average # toDo: find a better way\n",
    "                    num_of_predicted_value += 1\n",
    "            \n",
    "print(num_of_predicted_value)"
   ]
  },
  {
   "cell_type": "code",
   "execution_count": 940,
   "metadata": {},
   "outputs": [
    {
     "data": {
      "application/vnd.jupyter.widget-view+json": {
       "model_id": "c21e4ccccc48432ca6623884c94fd947",
       "version_major": 2,
       "version_minor": 0
      },
      "text/plain": [
       "  0%|          | 0/668 [00:00<?, ?it/s]"
      ]
     },
     "metadata": {},
     "output_type": "display_data"
    },
    {
     "name": "stdout",
     "output_type": "stream",
     "text": [
      "There are 5824389 missing valuess\n",
      "There are 1075383 values inserted\n",
      "There are 6899772 values\n"
     ]
    }
   ],
   "source": [
    "# Count the number of missing values\n",
    "count_missing_values(partial_ratings_matrix)"
   ]
  },
  {
   "cell_type": "code",
   "execution_count": 941,
   "metadata": {},
   "outputs": [
    {
     "data": {
      "application/vnd.jupyter.widget-view+json": {
       "model_id": "af8c6a9b649f4858b225599cdb7eb128",
       "version_major": 2,
       "version_minor": 0
      },
      "text/plain": [
       "  0%|          | 0/668 [00:00<?, ?it/s]"
      ]
     },
     "metadata": {},
     "output_type": "display_data"
    },
    {
     "name": "stdout",
     "output_type": "stream",
     "text": [
      "4096292\n"
     ]
    }
   ],
   "source": [
    "# Filling matrix with some ratings due to content similarities\n",
    "possible_ratings_matrix = partial_ratings_matrix.copy() # to maintain the original\n",
    "num_of_predicted_value = 0\n",
    "\n",
    "for i_user in tqdm(range(possible_ratings_matrix.shape[0])):\n",
    "    for j_movie in range(possible_ratings_matrix.shape[1]):\n",
    "        # If user i_user has whatched and rated movie j_movie\n",
    "        if ratings_matrix[i_user , j_movie] >= 0.5: # toDo: use partial_ratings_matrix\n",
    "            # Take movies similar to j_movie\n",
    "            cluster = index_cluster[movieIds_available[j_movie]]\n",
    "            sim_movies_ids = movie_cluster[cluster]\n",
    "\n",
    "            pos = 0\n",
    "            for id in sim_movies_ids:\n",
    "                # Take the position in the matrix of that movie\n",
    "                pos = movieIds_available.index(id , pos)\n",
    "                # If the user hasn't watched that movie yet\n",
    "                if ratings_matrix[i_user , pos] == 0:\n",
    "                    if possible_ratings_matrix[i_user , pos] == 0:\n",
    "                        # Save the similar rating\n",
    "                        possible_ratings_matrix[i_user , pos] = ratings_matrix[i_user , j_movie]\n",
    "                        num_of_predicted_value += 1\n",
    "                    else:\n",
    "                        # Save the minimum/or maximum between what I'm predicting and what I've alreadey predicted\n",
    "                        possible_ratings_matrix[i_user , pos] = max(possible_ratings_matrix[i_user , pos] , \n",
    "                                                                     ratings_matrix[i_user , j_movie])\n",
    "            \n",
    "print(num_of_predicted_value)"
   ]
  },
  {
   "cell_type": "code",
   "execution_count": 942,
   "metadata": {},
   "outputs": [
    {
     "data": {
      "application/vnd.jupyter.widget-view+json": {
       "model_id": "28892bfb918742a6b0dc7e13d8a1d88b",
       "version_major": 2,
       "version_minor": 0
      },
      "text/plain": [
       "  0%|          | 0/668 [00:00<?, ?it/s]"
      ]
     },
     "metadata": {},
     "output_type": "display_data"
    },
    {
     "name": "stdout",
     "output_type": "stream",
     "text": [
      "There are 1728097 missing valuess\n",
      "There are 5171675 values inserted\n",
      "There are 6899772 values\n"
     ]
    }
   ],
   "source": [
    "# Count the number of missing values\n",
    "count_missing_values(possible_ratings_matrix)"
   ]
  },
  {
   "cell_type": "code",
   "execution_count": 848,
   "metadata": {},
   "outputs": [],
   "source": [
    "# Save the matrix \"possible_ratings_matrix\" as a CSV file\n",
    "# Sofia's algorithm\n",
    "#np.savetxt('possible_ratings_matrix1.csv', possible_ratings_matrix, delimiter=',' , fmt='%1.1f')\n",
    "# Matteo's algorithm\n",
    "#np.savetxt('possible_ratings_matrix2.csv', possible_ratings_matrix, delimiter=',' , fmt='%1.1f')\n",
    "# Content + collaborative filtering\n",
    "#np.savetxt('content_collaborative_filterting_matrix.csv' , possible_ratings_matrix , delimiter = ',' , fmt = '%1.1f')"
   ]
  },
  {
   "cell_type": "code",
   "execution_count": 364,
   "metadata": {},
   "outputs": [],
   "source": [
    "# Load the matrix \"possible_ratings_matrix\" from the CSV file\n",
    "# Sofia's algorithm\n",
    "#possible_ratings_matrix = np.loadtxt('possible_ratings_matrix1.csv', delimiter=',')\n",
    "# Matteo's algorithm\n",
    "#possible_ratings_matrix = np.loadtxt('possible_ratings_matrix2.csv', delimiter=',')\n",
    "# Content + collaborative filtering\n",
    "#possible_ratings_matrix = np.loadtxt('content_collaborative_filterting_matrix.csv', delimiter=',')"
   ]
  },
  {
   "cell_type": "code",
   "execution_count": 935,
   "metadata": {},
   "outputs": [
    {
     "name": "stdout",
     "output_type": "stream",
     "text": [
      "[[0. 0. 0. ... 0. 0. 0.]\n",
      " [5. 0. 2. ... 0. 0. 0.]\n",
      " [0. 0. 0. ... 0. 0. 0.]\n",
      " ...\n",
      " [0. 0. 0. ... 0. 0. 0.]\n",
      " [0. 0. 0. ... 0. 0. 0.]\n",
      " [3. 3. 2. ... 0. 0. 0.]]\n",
      "===============================\n",
      "[[5.  3.  4.  ... 0.  1.5 0. ]\n",
      " [5.  3.  2.  ... 0.  5.  0. ]\n",
      " [5.  3.5 4.  ... 4.  5.  0. ]\n",
      " ...\n",
      " [5.  5.  5.  ... 5.  5.  0. ]\n",
      " [5.  3.  4.5 ... 0.  4.5 0. ]\n",
      " [3.  3.  2.  ... 4.5 5.  2.5]]\n"
     ]
    }
   ],
   "source": [
    "print(ratings_matrix)\n",
    "print(\"===============================\")\n",
    "print(possible_ratings_matrix)"
   ]
  },
  {
   "cell_type": "code",
   "execution_count": 126,
   "metadata": {
    "id": "rfg6vTLB-5Dl"
   },
   "outputs": [],
   "source": [
    "import json\n",
    "\n",
    "dict = {\n",
    "    int(movieIds_available[0]): [2 , 3 , 6],\n",
    "    int(movieIds_available[1]): [1 , 5]\n",
    "}\n",
    "\n",
    "with open('sim_movies.json' , 'w') as fp:\n",
    "    json.dump(dict , fp , indent = 4)"
   ]
  },
  {
   "cell_type": "code",
   "execution_count": 127,
   "metadata": {
    "colab": {
     "base_uri": "https://localhost:8080/"
    },
    "id": "YQXr7xZsAVZO",
    "outputId": "c5874150-d160-4fdf-889f-85aebc0b1559"
   },
   "outputs": [
    {
     "name": "stdout",
     "output_type": "stream",
     "text": [
      "{'1': [2, 3, 6], '2': [1, 5]}\n"
     ]
    }
   ],
   "source": [
    "# Open the saved data\n",
    "with open('sim_movies.json' , 'r') as fp:\n",
    "    movie_sim_dict_loaded = json.load(fp)\n",
    "\n",
    "print(movie_sim_dict_loaded)"
   ]
  },
  {
   "cell_type": "markdown",
   "metadata": {
    "id": "VThu3D-rlIgf"
   },
   "source": [
    "# Singular value truncation (SVT) based recommender system"
   ]
  },
  {
   "cell_type": "code",
   "execution_count": 943,
   "metadata": {},
   "outputs": [
    {
     "data": {
      "application/vnd.jupyter.widget-view+json": {
       "model_id": "166b511d0c1945dcadb7b4c169a88a60",
       "version_major": 2,
       "version_minor": 0
      },
      "text/plain": [
       "  0%|          | 0/21068 [00:00<?, ?it/s]"
      ]
     },
     "metadata": {},
     "output_type": "display_data"
    },
    {
     "name": "stdout",
     "output_type": "stream",
     "text": [
      "(1.5237087625801642, 0.16821182253228176)\n",
      "At this stage 20211 values have already been predicted\n",
      "True positive:  16443\n",
      "True positive + false positive:  19957\n",
      "True positive + false negative:  16587\n",
      "Precision:  0.8239214310768151\n",
      "Recall:  0.9913185024416712\n"
     ]
    },
    {
     "data": {
      "text/plain": [
       "0.8999014886164622"
      ]
     },
     "execution_count": 943,
     "metadata": {},
     "output_type": "execute_result"
    }
   ],
   "source": [
    "# Aanalyzing the errors/precision/recall/f1 score after the prediction of the ratings predicted only\n",
    "rows_test_limited = list()\n",
    "cols_test_limited = list()\n",
    "vals_test_limited = list()\n",
    "\n",
    "def analyze_starting_errors():\n",
    "    for i in tqdm(range(len(rows_test))):\n",
    "        # Add just the position filled with the algortithm\n",
    "        if possible_ratings_matrix[rows_test[i]][cols_test[i]] != 0:\n",
    "            rows_test_limited.append(rows_test[i])\n",
    "            cols_test_limited.append(cols_test[i])\n",
    "            vals_test_limited.append(vals_test[i])\n",
    "            \n",
    "    vals_pred_limited = possible_ratings_matrix[rows_test_limited, cols_test_limited]\n",
    "    err = vals_test_limited - vals_pred_limited\n",
    "    RMSE = np.sqrt(np.mean(err**2))\n",
    "    rho = pearsonr(vals_test_limited, vals_pred_limited)[0]\n",
    "    \n",
    "    return RMSE , rho\n",
    "\n",
    "# Perform some evaluations\n",
    "def precision_and_recall_initial_state():\n",
    "    total_recommended = 0 # true positive + false negative\n",
    "    predicted_recommended_items = 0 # true positive + false positive\n",
    "    predicted_true_recommended_items = 0 # true positive\n",
    "    # A movie is recommended if it's rating is greater than this value\n",
    "    recommendation_value = 3\n",
    "    for i in range(len(rows_test_limited)):\n",
    "        true_rating = vals_test_limited[i]\n",
    "        predicted_value = possible_ratings_matrix[rows_test_limited[i]][cols_test_limited[i]]\n",
    "        # Calculate true positive\n",
    "        if true_rating >= recommendation_value: \n",
    "            total_recommended += 1\n",
    "            if predicted_value >= recommendation_value:\n",
    "                predicted_true_recommended_items += 1\n",
    "        # Calculate true positive + false positive\n",
    "        if predicted_value >= recommendation_value:\n",
    "            predicted_recommended_items += 1\n",
    "                \n",
    "    print(\"True positive: \" , predicted_true_recommended_items)\n",
    "    print(\"True positive + false positive: \" , predicted_recommended_items)\n",
    "    print(\"True positive + false negative: \" , total_recommended)\n",
    "    precision = predicted_true_recommended_items / predicted_recommended_items\n",
    "    recall = predicted_true_recommended_items / total_recommended\n",
    "    print(\"Precision: \" , precision)\n",
    "    print(\"Recall: \" , recall)\n",
    "    return precision , recall\n",
    "\n",
    "def F1_measure(precision_value , recall_value):\n",
    "    return 2 * precision_value * recall_value / ( precision_value + recall_value)\n",
    "\n",
    "print(analyze_starting_errors()) \n",
    "print(\"At this stage %d values have already been predicted\" % len(rows_test_limited))\n",
    "precision , recall = precision_and_recall_initial_state()\n",
    "F1_measure(precision , recall)"
   ]
  },
  {
   "cell_type": "code",
   "execution_count": null,
   "metadata": {},
   "outputs": [],
   "source": [
    "''' \n",
    "With max: (movie 0.7 , user 0.95 , cosine2 with at least 3 similarity ratings)\n",
    "    True positive: 16443\n",
    "    True positivie + False positive: 19957\n",
    "    True positive + fate negative: 16587\n",
    "    Precision: 0.824\n",
    "    Recall:    0.991\n",
    "    F-1 score: 0.9\n",
    "    \n",
    "With max: (movie 0.8 , user 0.95 , cosine2 with at least 3 similarity ratings)\n",
    "    True positive: 19699\n",
    "    True positivie + False positive: 19300\n",
    "    True positive + fate negative: 16168\n",
    "    Precision: 0.826\n",
    "    Recall:    0.986\n",
    "    F-1 score: 0.899\n",
    "    \n",
    "With max: (movie 0.8 , user 0.95 , cosine2 with at least 4 similarity ratings)\n",
    "    True positive: 19509\n",
    "    True positivie + False positive: 19107\n",
    "    True positive + fate negative: 16004\n",
    "    Precision: 0.826\n",
    "    Recall:    0.987\n",
    "    F-1 score: 0.899\n",
    "    \n",
    "With max: (movie 0.8 , user 0.9 , cosine2 with at least 4 similarity ratings)\n",
    "    True positive: 19637\n",
    "    True positivie + False positive: 19255\n",
    "    True positive + fate negative: 16081\n",
    "    Precision: 0.824\n",
    "    Recall:    0.986\n",
    "    F-1 score: 0.899\n",
    "    \n",
    "With max: (movie 0.8 , user 0.9 , cosine2 with at least 3 similarity ratings)\n",
    "    True positive: 16430\n",
    "    True positivie + False positive: 19937\n",
    "    True positive + fate negative: 16964\n",
    "    Precision: 0.824\n",
    "    Recall:    0.984\n",
    "    F-1 score: 0.897\n",
    "'''"
   ]
  },
  {
   "cell_type": "code",
   "execution_count": 944,
   "metadata": {},
   "outputs": [
    {
     "data": {
      "application/vnd.jupyter.widget-view+json": {
       "model_id": "2a2df9d8bed440579e7687bc44f4eab8",
       "version_major": 2,
       "version_minor": 0
      },
      "text/plain": [
       "  0%|          | 0/668 [00:00<?, ?it/s]"
      ]
     },
     "metadata": {},
     "output_type": "display_data"
    },
    {
     "name": "stdout",
     "output_type": "stream",
     "text": [
      "Saved 5171675 values\n"
     ]
    }
   ],
   "source": [
    "# Reconstruct rows_train, cols_train, vals_train with all the value of the input + already predicted values\n",
    "counter = 0\n",
    "rows_train_updated = list()\n",
    "cols_train_updated = list()\n",
    "vals_train_updated = list()\n",
    "for i_user in tqdm(range(possible_ratings_matrix.shape[0])):\n",
    "    for j_movie in range(possible_ratings_matrix.shape[1]):\n",
    "        # If it is a default or predicted value, save the position\n",
    "        if possible_ratings_matrix[i_user][j_movie] != 0:\n",
    "            rows_train_updated.append(i_user)\n",
    "            cols_train_updated.append(j_movie)\n",
    "            vals_train_updated.append(possible_ratings_matrix[i_user][j_movie])\n",
    "            counter += 1\n",
    "print(\"Saved %d values\" % counter)"
   ]
  },
  {
   "cell_type": "code",
   "execution_count": 945,
   "metadata": {},
   "outputs": [],
   "source": [
    "def errors():\n",
    "    vals_pred = X_hat[rows_test, cols_test]\n",
    "    err = vals_test - vals_pred\n",
    "    RMSE = np.sqrt(np.mean(err**2))\n",
    "    rho = pearsonr(vals_test, vals_pred)[0]\n",
    "    \n",
    "    return RMSE , rho"
   ]
  },
  {
   "cell_type": "code",
   "execution_count": null,
   "metadata": {},
   "outputs": [],
   "source": [
    "# errors_jit = jax.jit(errors)"
   ]
  },
  {
   "cell_type": "code",
   "execution_count": 946,
   "metadata": {
    "id": "nk3shAEo6OWu"
   },
   "outputs": [
    {
     "data": {
      "application/vnd.jupyter.widget-view+json": {
       "model_id": "6c767dc3d60541b9a9207edb65d5859b",
       "version_major": 2,
       "version_minor": 0
      },
      "text/plain": [
       "  0%|          | 0/150 [00:00<?, ?it/s]"
      ]
     },
     "metadata": {},
     "output_type": "display_data"
    },
    {
     "name": "stdout",
     "output_type": "stream",
     "text": [
      "================== iter 10 - theshold 274.18 - increment 1.187e+02\n",
      "RMSE: 1.520\n",
      "rho : 0.168\n",
      "precision: 0.825\n",
      "recall: 0.981\n",
      "F1-score: 0.896\n",
      "================== iter 20 - theshold 248.09 - increment 2.220e+01\n",
      "RMSE: 1.517\n",
      "rho : 0.170\n",
      "precision: 0.825\n",
      "recall: 0.982\n",
      "F1-score: 0.896\n",
      "================== iter 30 - theshold 224.48 - increment 1.056e+01\n",
      "RMSE: 1.516\n",
      "rho : 0.171\n",
      "precision: 0.825\n",
      "recall: 0.982\n",
      "F1-score: 0.897\n",
      "================== iter 40 - theshold 203.12 - increment 7.006e+00\n",
      "RMSE: 1.515\n",
      "rho : 0.171\n",
      "precision: 0.825\n",
      "recall: 0.982\n",
      "F1-score: 0.897\n",
      "================== iter 50 - theshold 183.79 - increment 5.431e+00\n",
      "RMSE: 1.514\n",
      "rho : 0.171\n",
      "precision: 0.825\n",
      "recall: 0.982\n",
      "F1-score: 0.897\n",
      "================== iter 60 - theshold 166.30 - increment 4.705e+00\n",
      "RMSE: 1.514\n",
      "rho : 0.172\n",
      "precision: 0.825\n",
      "recall: 0.983\n",
      "F1-score: 0.897\n",
      "================== iter 70 - theshold 150.47 - increment 4.274e+00\n",
      "RMSE: 1.513\n",
      "rho : 0.172\n",
      "precision: 0.825\n",
      "recall: 0.983\n",
      "F1-score: 0.897\n",
      "================== iter 80 - theshold 136.15 - increment 3.938e+00\n",
      "RMSE: 1.513\n",
      "rho : 0.172\n",
      "precision: 0.825\n",
      "recall: 0.983\n",
      "F1-score: 0.897\n",
      "================== iter 90 - theshold 123.20 - increment 3.716e+00\n",
      "RMSE: 1.513\n",
      "rho : 0.172\n",
      "precision: 0.825\n",
      "recall: 0.983\n",
      "F1-score: 0.897\n",
      "================== iter 100 - theshold 111.47 - increment 3.529e+00\n",
      "RMSE: 1.512\n",
      "rho : 0.172\n",
      "precision: 0.825\n",
      "recall: 0.984\n",
      "F1-score: 0.897\n",
      "================== iter 110 - theshold 100.86 - increment 3.364e+00\n",
      "RMSE: 1.512\n",
      "rho : 0.172\n",
      "precision: 0.825\n",
      "recall: 0.984\n",
      "F1-score: 0.897\n",
      "================== iter 120 - theshold 91.27 - increment 3.145e+00\n",
      "RMSE: 1.512\n",
      "rho : 0.172\n",
      "precision: 0.825\n",
      "recall: 0.984\n",
      "F1-score: 0.897\n",
      "================== iter 130 - theshold 82.58 - increment 3.002e+00\n",
      "RMSE: 1.511\n",
      "rho : 0.172\n",
      "precision: 0.825\n",
      "recall: 0.984\n",
      "F1-score: 0.897\n",
      "================== iter 140 - theshold 74.72 - increment 2.865e+00\n",
      "RMSE: 1.511\n",
      "rho : 0.172\n",
      "precision: 0.825\n",
      "recall: 0.984\n",
      "F1-score: 0.897\n",
      "================== iter 150 - theshold 67.61 - increment 2.761e+00\n",
      "RMSE: 1.511\n",
      "rho : 0.172\n",
      "precision: 0.825\n",
      "recall: 0.984\n",
      "F1-score: 0.897\n"
     ]
    }
   ],
   "source": [
    "# SVT before with the empty matrix , now check the rank, maybe it's low\n",
    "n_max_iter = 150\n",
    "# Fifth possibility -> contant threshold\n",
    "#threshold = 50\n",
    "increment_tol = 1e-1\n",
    "\n",
    "a = 0.01\n",
    "b = 300\n",
    "\n",
    "RMSE_list = list()\n",
    "rho_list = list()\n",
    "\n",
    "X_hat = possible_ratings_matrix\n",
    "\n",
    "for k in tqdm(range(n_max_iter)):\n",
    "    X_old = X_hat.copy()\n",
    "    U,s,VT = np.linalg.svd(X_hat, full_matrices=False)\n",
    "\n",
    "    # Tenth possibility \n",
    "    threshold = b * np.exp(-k * a)\n",
    "    \n",
    "    # Fourth possibility\n",
    "    s[s > 0] = s[s > 0] - threshold\n",
    "    s[s < 0] = 0\n",
    "\n",
    "    X_hat = U @ np.diag(s) @ VT\n",
    "    \n",
    "    # Maintain the default values\n",
    "    X_hat[rows_train_updated,cols_train_updated] = vals_train_updated\n",
    "    \n",
    "    # Some negative values could appear -> set to 0\n",
    "    X_hat[X_hat < 0] = 0\n",
    "\n",
    "    # Calculate the increment -> how much the new matrix is different from the previuos one\n",
    "    increment = np.linalg.norm(X_hat - X_old) \n",
    "\n",
    "    if k % 10 == 9:\n",
    "        # Calculate the errors\n",
    "        RMSE , rho = errors()\n",
    "        # Add the errors in the lists\n",
    "        RMSE_list.append(RMSE)\n",
    "        rho_list.append(rho)\n",
    "        precision , recall = precision_and_recall()\n",
    "        f1_score = F1_measure(precision , recall)\n",
    "        # Show the errors\n",
    "        print('================== iter %d - theshold %1.2f - increment %1.3e' % (k+1, threshold, increment))\n",
    "        print('RMSE: %1.3f' % RMSE)\n",
    "        print('rho : %1.3f' % rho)\n",
    "        print('precision: %1.3f' % precision)\n",
    "        print('recall: %1.3f' % recall)\n",
    "        print('F1-score: %1.3f' % f1_score)\n",
    "\n",
    "    # If the increment is low -> stop the algorithm\n",
    "    if increment < increment_tol:\n",
    "        break"
   ]
  },
  {
   "cell_type": "code",
   "execution_count": 512,
   "metadata": {
    "id": "weU-Vvj4tCQs"
   },
   "outputs": [],
   "source": [
    "#print(np.mean(s[s > 0]))\n",
    "#print(s)"
   ]
  },
  {
   "cell_type": "code",
   "execution_count": null,
   "metadata": {},
   "outputs": [],
   "source": [
    "'''\n",
    "Collaborative-filterting + Content-filtering (150 iterations) (movie 0.7,user 0.95, cosine2 with at least 3 similarity ratings)\n",
    "\n",
    "    RMSE: 1.511\n",
    "    rho:  0.172\n",
    "    \n",
    "    Precision: 0.825\n",
    "    Recall:    0.984\n",
    "    F-1 measure: 0.897\n",
    "\n",
    "\n",
    "Collaborative-filterting + Content-filtering (200 iterations) (movie similarity threshold = 0.9, cosine2 with 0.9)\n",
    "\n",
    "    RMSE: 1.292\n",
    "    rho:  0.207\n",
    "    \n",
    "    Precision: 0.832\n",
    "    Recall:    0.951\n",
    "    F-1 measure: 0.888\n",
    "    \n",
    "Collaborative-filterting + Content-filtering (200 iterations) (movie similarity threshold = 0.8, cosine2 with 0.9)\n",
    "\n",
    "    RMSE: 1.417\n",
    "    rho:  0.194\n",
    "    \n",
    "    Precision: 0.824\n",
    "    Recall:    0.974\n",
    "    F-1 measure: 0.893\n",
    "    \n",
    "Collaborative-filterting + Content-filtering (300 iterations) (movie similarity threshold = 0.8)\n",
    "\n",
    "    RMSE: 1.424\n",
    "    rho:  0.181\n",
    "    \n",
    "    Precision: 0.826\n",
    "    Recall:    0.952\n",
    "    F-1 measure: 0.884\n",
    "    \n",
    "Collaborative-filterting + Content-filtering (300 iterations) (movie similarity threshold = 0.9)\n",
    "\n",
    "    RMSE: 1.306\n",
    "    rho:  0.220\n",
    "    \n",
    "    Precision: 0.835\n",
    "    Recall:    0.911\n",
    "    F-1 measure: 0.871\n",
    "\n",
    "Collaborative-filterting only(500 iterations)\n",
    "    \n",
    "    RMSE: 1.280\n",
    "    rho:  0.433\n",
    "    \n",
    "    Precision: 0.923\n",
    "    Recall:    0.647\n",
    "    F-1 measure: 0.761\n",
    "\n",
    "\n",
    "Content-filtering only (300 iterations)\n",
    "    \n",
    "    After restarting all with max:\n",
    "    \n",
    "    RMSE: 1.305\n",
    "    rho:  0.221\n",
    "    \n",
    "    Precision: 0.835\n",
    "    Recall:    0.909\n",
    "    F-1 measure: 0.871\n",
    "\n",
    "    Adaptive threshold -> Threshold = b * np.exp(-k * a) , a = 0.01 , b = 300\n",
    "\n",
    "                After 300 iterations:\n",
    "                RMSE: 1.118\n",
    "                rho: 0.222\n",
    "\n",
    "                Precision: 0.822\n",
    "                Recall:    0.975\n",
    "                F-1 measure: 0.892\n",
    "\n",
    "    Constant threshold -> Threshold = 50\n",
    "\n",
    "                After 300 iterations: \n",
    "                RMSE: 1.125\n",
    "                rho:  0.208\n",
    "\n",
    "                Precision: 0.821\n",
    "                Recall:    0.973\n",
    "                F-1 measure: 0.890\n",
    "'''"
   ]
  },
  {
   "cell_type": "code",
   "execution_count": 456,
   "metadata": {},
   "outputs": [],
   "source": [
    "# Save the matrix resulting from SVT as a CSV file\n",
    "# Sofia's algorithm\n",
    "#np.savetxt('final_ratings_matrix1.csv', X_hat, delimiter=',' , fmt='%1.1f')\n",
    "# Matteo's algorithm\n",
    "#np.savetxt('final_ratings_matrix2.csv', X_hat, delimiter=',' , fmt='%1.1f')"
   ]
  },
  {
   "cell_type": "code",
   "execution_count": null,
   "metadata": {},
   "outputs": [],
   "source": [
    "# Load the matrix final_ratings_matrix from the CSV file\n",
    "# Sofia's algorithm\n",
    "#X_hat = np.loadtxt('final_ratings_matrix1.csv', delimiter=',')\n",
    "# Matteo's algorithm\n",
    "#X_hat = np.loadtxt('final_ratings_matrix2.csv', delimiter=',')"
   ]
  },
  {
   "cell_type": "code",
   "execution_count": 852,
   "metadata": {},
   "outputs": [],
   "source": [
    "# Perform some evaluations\n",
    "def precision_and_recall():\n",
    "    total_recommended = 0 # true positive + false negative\n",
    "    predicted_recommended_items = 0 # true positive + false positive\n",
    "    predicted_true_recommended_items = 0 # true positive\n",
    "    # A movie is recommended if it's rating is greater than this value\n",
    "    recommendation_value = 3\n",
    "    for i in range(len(rows_test)):\n",
    "        true_rating = vals_test[i]\n",
    "        predicted_value = X_hat[rows_test[i]][cols_test[i]]\n",
    "        # Calculate true positive\n",
    "        if true_rating >= recommendation_value: \n",
    "            total_recommended += 1\n",
    "            if predicted_value >= recommendation_value:\n",
    "                predicted_true_recommended_items += 1\n",
    "        # Calculate true positive + false positive\n",
    "        if predicted_value >= recommendation_value:\n",
    "            predicted_recommended_items += 1\n",
    "                \n",
    "    #print(\"True positive: \" , predicted_true_recommended_items)\n",
    "    #print(\"True positive + false positive: \" , predicted_recommended_items)\n",
    "    #print(\"True positive + false negative: \" , total_recommended)\n",
    "    precision = predicted_true_recommended_items / predicted_recommended_items\n",
    "    recall = predicted_true_recommended_items / total_recommended\n",
    "    #print(\"Precision: \" , precision)\n",
    "    #print(\"Recall: \" , recall)\n",
    "    return precision , recall\n",
    "\n",
    "def F1_measure(precision_value , recall_value):\n",
    "    return 2 * precision_value * recall_value / ( precision_value + recall_value)"
   ]
  },
  {
   "cell_type": "code",
   "execution_count": 807,
   "metadata": {},
   "outputs": [
    {
     "name": "stdout",
     "output_type": "stream",
     "text": [
      "True positive:  16745\n",
      "True positive + false positive:  20319\n",
      "True positive + false negative:  17184\n",
      "Precision:  0.8241055170037895\n",
      "Recall:  0.9744529795158287\n"
     ]
    },
    {
     "data": {
      "text/plain": [
       "0.8929952270485028"
      ]
     },
     "execution_count": 807,
     "metadata": {},
     "output_type": "execute_result"
    }
   ],
   "source": [
    "precision , recall = precision_and_recall()\n",
    "F1_measure(precision , recall)"
   ]
  },
  {
   "cell_type": "code",
   "execution_count": null,
   "metadata": {},
   "outputs": [],
   "source": []
  }
 ],
 "metadata": {
  "colab": {
   "collapsed_sections": [],
   "name": "NA_project.ipynb",
   "provenance": []
  },
  "kernelspec": {
   "display_name": "Python 3",
   "language": "python",
   "name": "python3"
  },
  "language_info": {
   "codemirror_mode": {
    "name": "ipython",
    "version": 3
   },
   "file_extension": ".py",
   "mimetype": "text/x-python",
   "name": "python",
   "nbconvert_exporter": "python",
   "pygments_lexer": "ipython3",
   "version": "3.8.8"
  },
  "widgets": {
   "application/vnd.jupyter.widget-state+json": {
    "04639e5503484146b79f7bbde269e3ad": {
     "model_module": "@jupyter-widgets/base",
     "model_module_version": "1.2.0",
     "model_name": "LayoutModel",
     "state": {
      "_model_module": "@jupyter-widgets/base",
      "_model_module_version": "1.2.0",
      "_model_name": "LayoutModel",
      "_view_count": null,
      "_view_module": "@jupyter-widgets/base",
      "_view_module_version": "1.2.0",
      "_view_name": "LayoutView",
      "align_content": null,
      "align_items": null,
      "align_self": null,
      "border": null,
      "bottom": null,
      "display": null,
      "flex": null,
      "flex_flow": null,
      "grid_area": null,
      "grid_auto_columns": null,
      "grid_auto_flow": null,
      "grid_auto_rows": null,
      "grid_column": null,
      "grid_gap": null,
      "grid_row": null,
      "grid_template_areas": null,
      "grid_template_columns": null,
      "grid_template_rows": null,
      "height": null,
      "justify_content": null,
      "justify_items": null,
      "left": null,
      "margin": null,
      "max_height": null,
      "max_width": null,
      "min_height": null,
      "min_width": null,
      "object_fit": null,
      "object_position": null,
      "order": null,
      "overflow": null,
      "overflow_x": null,
      "overflow_y": null,
      "padding": null,
      "right": null,
      "top": null,
      "visibility": null,
      "width": null
     }
    },
    "0cdca51406f64e6cb3fb1c3a32d0d903": {
     "model_module": "@jupyter-widgets/controls",
     "model_module_version": "1.5.0",
     "model_name": "HBoxModel",
     "state": {
      "_dom_classes": [],
      "_model_module": "@jupyter-widgets/controls",
      "_model_module_version": "1.5.0",
      "_model_name": "HBoxModel",
      "_view_count": null,
      "_view_module": "@jupyter-widgets/controls",
      "_view_module_version": "1.5.0",
      "_view_name": "HBoxView",
      "box_style": "",
      "children": [
       "IPY_MODEL_fe8e28781d594af79f5f2fa8f2ec1216",
       "IPY_MODEL_b6280335918b4bf49f9b2e464db75509",
       "IPY_MODEL_720aad33f52d45acbc795bab32d7d454"
      ],
      "layout": "IPY_MODEL_557d5febc1d34fce9f425884ad4d0c1f"
     }
    },
    "1128a775b348495d9d1abb336ccce0e9": {
     "model_module": "@jupyter-widgets/controls",
     "model_module_version": "1.5.0",
     "model_name": "ProgressStyleModel",
     "state": {
      "_model_module": "@jupyter-widgets/controls",
      "_model_module_version": "1.5.0",
      "_model_name": "ProgressStyleModel",
      "_view_count": null,
      "_view_module": "@jupyter-widgets/base",
      "_view_module_version": "1.2.0",
      "_view_name": "StyleView",
      "bar_color": null,
      "description_width": ""
     }
    },
    "2523c88746134cfdb5604356b5b4d05f": {
     "model_module": "@jupyter-widgets/base",
     "model_module_version": "1.2.0",
     "model_name": "LayoutModel",
     "state": {
      "_model_module": "@jupyter-widgets/base",
      "_model_module_version": "1.2.0",
      "_model_name": "LayoutModel",
      "_view_count": null,
      "_view_module": "@jupyter-widgets/base",
      "_view_module_version": "1.2.0",
      "_view_name": "LayoutView",
      "align_content": null,
      "align_items": null,
      "align_self": null,
      "border": null,
      "bottom": null,
      "display": null,
      "flex": null,
      "flex_flow": null,
      "grid_area": null,
      "grid_auto_columns": null,
      "grid_auto_flow": null,
      "grid_auto_rows": null,
      "grid_column": null,
      "grid_gap": null,
      "grid_row": null,
      "grid_template_areas": null,
      "grid_template_columns": null,
      "grid_template_rows": null,
      "height": null,
      "justify_content": null,
      "justify_items": null,
      "left": null,
      "margin": null,
      "max_height": null,
      "max_width": null,
      "min_height": null,
      "min_width": null,
      "object_fit": null,
      "object_position": null,
      "order": null,
      "overflow": null,
      "overflow_x": null,
      "overflow_y": null,
      "padding": null,
      "right": null,
      "top": null,
      "visibility": null,
      "width": null
     }
    },
    "2a8003e5b1bf4c2cb76a83cf6842b659": {
     "model_module": "@jupyter-widgets/base",
     "model_module_version": "1.2.0",
     "model_name": "LayoutModel",
     "state": {
      "_model_module": "@jupyter-widgets/base",
      "_model_module_version": "1.2.0",
      "_model_name": "LayoutModel",
      "_view_count": null,
      "_view_module": "@jupyter-widgets/base",
      "_view_module_version": "1.2.0",
      "_view_name": "LayoutView",
      "align_content": null,
      "align_items": null,
      "align_self": null,
      "border": null,
      "bottom": null,
      "display": null,
      "flex": null,
      "flex_flow": null,
      "grid_area": null,
      "grid_auto_columns": null,
      "grid_auto_flow": null,
      "grid_auto_rows": null,
      "grid_column": null,
      "grid_gap": null,
      "grid_row": null,
      "grid_template_areas": null,
      "grid_template_columns": null,
      "grid_template_rows": null,
      "height": null,
      "justify_content": null,
      "justify_items": null,
      "left": null,
      "margin": null,
      "max_height": null,
      "max_width": null,
      "min_height": null,
      "min_width": null,
      "object_fit": null,
      "object_position": null,
      "order": null,
      "overflow": null,
      "overflow_x": null,
      "overflow_y": null,
      "padding": null,
      "right": null,
      "top": null,
      "visibility": null,
      "width": null
     }
    },
    "4c69cf88bc134fe88b4abbc4d9cb2a93": {
     "model_module": "@jupyter-widgets/base",
     "model_module_version": "1.2.0",
     "model_name": "LayoutModel",
     "state": {
      "_model_module": "@jupyter-widgets/base",
      "_model_module_version": "1.2.0",
      "_model_name": "LayoutModel",
      "_view_count": null,
      "_view_module": "@jupyter-widgets/base",
      "_view_module_version": "1.2.0",
      "_view_name": "LayoutView",
      "align_content": null,
      "align_items": null,
      "align_self": null,
      "border": null,
      "bottom": null,
      "display": null,
      "flex": null,
      "flex_flow": null,
      "grid_area": null,
      "grid_auto_columns": null,
      "grid_auto_flow": null,
      "grid_auto_rows": null,
      "grid_column": null,
      "grid_gap": null,
      "grid_row": null,
      "grid_template_areas": null,
      "grid_template_columns": null,
      "grid_template_rows": null,
      "height": null,
      "justify_content": null,
      "justify_items": null,
      "left": null,
      "margin": null,
      "max_height": null,
      "max_width": null,
      "min_height": null,
      "min_width": null,
      "object_fit": null,
      "object_position": null,
      "order": null,
      "overflow": null,
      "overflow_x": null,
      "overflow_y": null,
      "padding": null,
      "right": null,
      "top": null,
      "visibility": null,
      "width": null
     }
    },
    "5178ee5780cd450da7255683bc808ffd": {
     "model_module": "@jupyter-widgets/controls",
     "model_module_version": "1.5.0",
     "model_name": "DescriptionStyleModel",
     "state": {
      "_model_module": "@jupyter-widgets/controls",
      "_model_module_version": "1.5.0",
      "_model_name": "DescriptionStyleModel",
      "_view_count": null,
      "_view_module": "@jupyter-widgets/base",
      "_view_module_version": "1.2.0",
      "_view_name": "StyleView",
      "description_width": ""
     }
    },
    "557d5febc1d34fce9f425884ad4d0c1f": {
     "model_module": "@jupyter-widgets/base",
     "model_module_version": "1.2.0",
     "model_name": "LayoutModel",
     "state": {
      "_model_module": "@jupyter-widgets/base",
      "_model_module_version": "1.2.0",
      "_model_name": "LayoutModel",
      "_view_count": null,
      "_view_module": "@jupyter-widgets/base",
      "_view_module_version": "1.2.0",
      "_view_name": "LayoutView",
      "align_content": null,
      "align_items": null,
      "align_self": null,
      "border": null,
      "bottom": null,
      "display": null,
      "flex": null,
      "flex_flow": null,
      "grid_area": null,
      "grid_auto_columns": null,
      "grid_auto_flow": null,
      "grid_auto_rows": null,
      "grid_column": null,
      "grid_gap": null,
      "grid_row": null,
      "grid_template_areas": null,
      "grid_template_columns": null,
      "grid_template_rows": null,
      "height": null,
      "justify_content": null,
      "justify_items": null,
      "left": null,
      "margin": null,
      "max_height": null,
      "max_width": null,
      "min_height": null,
      "min_width": null,
      "object_fit": null,
      "object_position": null,
      "order": null,
      "overflow": null,
      "overflow_x": null,
      "overflow_y": null,
      "padding": null,
      "right": null,
      "top": null,
      "visibility": null,
      "width": null
     }
    },
    "6050c4faead14f83887cea2f742a60d2": {
     "model_module": "@jupyter-widgets/controls",
     "model_module_version": "1.5.0",
     "model_name": "ProgressStyleModel",
     "state": {
      "_model_module": "@jupyter-widgets/controls",
      "_model_module_version": "1.5.0",
      "_model_name": "ProgressStyleModel",
      "_view_count": null,
      "_view_module": "@jupyter-widgets/base",
      "_view_module_version": "1.2.0",
      "_view_name": "StyleView",
      "bar_color": null,
      "description_width": ""
     }
    },
    "65879bfb5dfa4b97a3d4f59de79aecbf": {
     "model_module": "@jupyter-widgets/controls",
     "model_module_version": "1.5.0",
     "model_name": "HTMLModel",
     "state": {
      "_dom_classes": [],
      "_model_module": "@jupyter-widgets/controls",
      "_model_module_version": "1.5.0",
      "_model_name": "HTMLModel",
      "_view_count": null,
      "_view_module": "@jupyter-widgets/controls",
      "_view_module_version": "1.5.0",
      "_view_name": "HTMLView",
      "description": "",
      "description_tooltip": null,
      "layout": "IPY_MODEL_9ae09cdad5d24f2c87fbf7757e59ec9b",
      "placeholder": "​",
      "style": "IPY_MODEL_dee5674f3f3d430591add72683ac60ee",
      "value": "100%"
     }
    },
    "67cb7bdbc2574b9fb746dcf66dcbb962": {
     "model_module": "@jupyter-widgets/controls",
     "model_module_version": "1.5.0",
     "model_name": "FloatProgressModel",
     "state": {
      "_dom_classes": [],
      "_model_module": "@jupyter-widgets/controls",
      "_model_module_version": "1.5.0",
      "_model_name": "FloatProgressModel",
      "_view_count": null,
      "_view_module": "@jupyter-widgets/controls",
      "_view_module_version": "1.5.0",
      "_view_name": "ProgressView",
      "bar_style": "success",
      "description": "",
      "description_tooltip": null,
      "layout": "IPY_MODEL_91fbfde4ef6e44f1aab99a7a8123496a",
      "max": 668,
      "min": 0,
      "orientation": "horizontal",
      "style": "IPY_MODEL_1128a775b348495d9d1abb336ccce0e9",
      "value": 668
     }
    },
    "7070e4bb5f6d4d7f881c533085f9f7ec": {
     "model_module": "@jupyter-widgets/controls",
     "model_module_version": "1.5.0",
     "model_name": "DescriptionStyleModel",
     "state": {
      "_model_module": "@jupyter-widgets/controls",
      "_model_module_version": "1.5.0",
      "_model_name": "DescriptionStyleModel",
      "_view_count": null,
      "_view_module": "@jupyter-widgets/base",
      "_view_module_version": "1.2.0",
      "_view_name": "StyleView",
      "description_width": ""
     }
    },
    "720aad33f52d45acbc795bab32d7d454": {
     "model_module": "@jupyter-widgets/controls",
     "model_module_version": "1.5.0",
     "model_name": "HTMLModel",
     "state": {
      "_dom_classes": [],
      "_model_module": "@jupyter-widgets/controls",
      "_model_module_version": "1.5.0",
      "_model_name": "HTMLModel",
      "_view_count": null,
      "_view_module": "@jupyter-widgets/controls",
      "_view_module_version": "1.5.0",
      "_view_name": "HTMLView",
      "description": "",
      "description_tooltip": null,
      "layout": "IPY_MODEL_2a8003e5b1bf4c2cb76a83cf6842b659",
      "placeholder": "​",
      "style": "IPY_MODEL_7070e4bb5f6d4d7f881c533085f9f7ec",
      "value": " 10329/10329 [10:23&lt;00:00,  7.84it/s]"
     }
    },
    "83bca7dab6794b13aaa2972dd76da287": {
     "model_module": "@jupyter-widgets/controls",
     "model_module_version": "1.5.0",
     "model_name": "DescriptionStyleModel",
     "state": {
      "_model_module": "@jupyter-widgets/controls",
      "_model_module_version": "1.5.0",
      "_model_name": "DescriptionStyleModel",
      "_view_count": null,
      "_view_module": "@jupyter-widgets/base",
      "_view_module_version": "1.2.0",
      "_view_name": "StyleView",
      "description_width": ""
     }
    },
    "91fbfde4ef6e44f1aab99a7a8123496a": {
     "model_module": "@jupyter-widgets/base",
     "model_module_version": "1.2.0",
     "model_name": "LayoutModel",
     "state": {
      "_model_module": "@jupyter-widgets/base",
      "_model_module_version": "1.2.0",
      "_model_name": "LayoutModel",
      "_view_count": null,
      "_view_module": "@jupyter-widgets/base",
      "_view_module_version": "1.2.0",
      "_view_name": "LayoutView",
      "align_content": null,
      "align_items": null,
      "align_self": null,
      "border": null,
      "bottom": null,
      "display": null,
      "flex": null,
      "flex_flow": null,
      "grid_area": null,
      "grid_auto_columns": null,
      "grid_auto_flow": null,
      "grid_auto_rows": null,
      "grid_column": null,
      "grid_gap": null,
      "grid_row": null,
      "grid_template_areas": null,
      "grid_template_columns": null,
      "grid_template_rows": null,
      "height": null,
      "justify_content": null,
      "justify_items": null,
      "left": null,
      "margin": null,
      "max_height": null,
      "max_width": null,
      "min_height": null,
      "min_width": null,
      "object_fit": null,
      "object_position": null,
      "order": null,
      "overflow": null,
      "overflow_x": null,
      "overflow_y": null,
      "padding": null,
      "right": null,
      "top": null,
      "visibility": null,
      "width": null
     }
    },
    "9ae09cdad5d24f2c87fbf7757e59ec9b": {
     "model_module": "@jupyter-widgets/base",
     "model_module_version": "1.2.0",
     "model_name": "LayoutModel",
     "state": {
      "_model_module": "@jupyter-widgets/base",
      "_model_module_version": "1.2.0",
      "_model_name": "LayoutModel",
      "_view_count": null,
      "_view_module": "@jupyter-widgets/base",
      "_view_module_version": "1.2.0",
      "_view_name": "LayoutView",
      "align_content": null,
      "align_items": null,
      "align_self": null,
      "border": null,
      "bottom": null,
      "display": null,
      "flex": null,
      "flex_flow": null,
      "grid_area": null,
      "grid_auto_columns": null,
      "grid_auto_flow": null,
      "grid_auto_rows": null,
      "grid_column": null,
      "grid_gap": null,
      "grid_row": null,
      "grid_template_areas": null,
      "grid_template_columns": null,
      "grid_template_rows": null,
      "height": null,
      "justify_content": null,
      "justify_items": null,
      "left": null,
      "margin": null,
      "max_height": null,
      "max_width": null,
      "min_height": null,
      "min_width": null,
      "object_fit": null,
      "object_position": null,
      "order": null,
      "overflow": null,
      "overflow_x": null,
      "overflow_y": null,
      "padding": null,
      "right": null,
      "top": null,
      "visibility": null,
      "width": null
     }
    },
    "9bb307f55b5748f5aeca94f44133e28c": {
     "model_module": "@jupyter-widgets/base",
     "model_module_version": "1.2.0",
     "model_name": "LayoutModel",
     "state": {
      "_model_module": "@jupyter-widgets/base",
      "_model_module_version": "1.2.0",
      "_model_name": "LayoutModel",
      "_view_count": null,
      "_view_module": "@jupyter-widgets/base",
      "_view_module_version": "1.2.0",
      "_view_name": "LayoutView",
      "align_content": null,
      "align_items": null,
      "align_self": null,
      "border": null,
      "bottom": null,
      "display": null,
      "flex": null,
      "flex_flow": null,
      "grid_area": null,
      "grid_auto_columns": null,
      "grid_auto_flow": null,
      "grid_auto_rows": null,
      "grid_column": null,
      "grid_gap": null,
      "grid_row": null,
      "grid_template_areas": null,
      "grid_template_columns": null,
      "grid_template_rows": null,
      "height": null,
      "justify_content": null,
      "justify_items": null,
      "left": null,
      "margin": null,
      "max_height": null,
      "max_width": null,
      "min_height": null,
      "min_width": null,
      "object_fit": null,
      "object_position": null,
      "order": null,
      "overflow": null,
      "overflow_x": null,
      "overflow_y": null,
      "padding": null,
      "right": null,
      "top": null,
      "visibility": null,
      "width": null
     }
    },
    "9e7ce50457cc4bc3b0ee4c50e673fac5": {
     "model_module": "@jupyter-widgets/controls",
     "model_module_version": "1.5.0",
     "model_name": "HBoxModel",
     "state": {
      "_dom_classes": [],
      "_model_module": "@jupyter-widgets/controls",
      "_model_module_version": "1.5.0",
      "_model_name": "HBoxModel",
      "_view_count": null,
      "_view_module": "@jupyter-widgets/controls",
      "_view_module_version": "1.5.0",
      "_view_name": "HBoxView",
      "box_style": "",
      "children": [
       "IPY_MODEL_65879bfb5dfa4b97a3d4f59de79aecbf",
       "IPY_MODEL_67cb7bdbc2574b9fb746dcf66dcbb962",
       "IPY_MODEL_eeae783f68de420797d6c193c9bc86c1"
      ],
      "layout": "IPY_MODEL_4c69cf88bc134fe88b4abbc4d9cb2a93"
     }
    },
    "b6280335918b4bf49f9b2e464db75509": {
     "model_module": "@jupyter-widgets/controls",
     "model_module_version": "1.5.0",
     "model_name": "FloatProgressModel",
     "state": {
      "_dom_classes": [],
      "_model_module": "@jupyter-widgets/controls",
      "_model_module_version": "1.5.0",
      "_model_name": "FloatProgressModel",
      "_view_count": null,
      "_view_module": "@jupyter-widgets/controls",
      "_view_module_version": "1.5.0",
      "_view_name": "ProgressView",
      "bar_style": "success",
      "description": "",
      "description_tooltip": null,
      "layout": "IPY_MODEL_9bb307f55b5748f5aeca94f44133e28c",
      "max": 10329,
      "min": 0,
      "orientation": "horizontal",
      "style": "IPY_MODEL_6050c4faead14f83887cea2f742a60d2",
      "value": 10329
     }
    },
    "dee5674f3f3d430591add72683ac60ee": {
     "model_module": "@jupyter-widgets/controls",
     "model_module_version": "1.5.0",
     "model_name": "DescriptionStyleModel",
     "state": {
      "_model_module": "@jupyter-widgets/controls",
      "_model_module_version": "1.5.0",
      "_model_name": "DescriptionStyleModel",
      "_view_count": null,
      "_view_module": "@jupyter-widgets/base",
      "_view_module_version": "1.2.0",
      "_view_name": "StyleView",
      "description_width": ""
     }
    },
    "eeae783f68de420797d6c193c9bc86c1": {
     "model_module": "@jupyter-widgets/controls",
     "model_module_version": "1.5.0",
     "model_name": "HTMLModel",
     "state": {
      "_dom_classes": [],
      "_model_module": "@jupyter-widgets/controls",
      "_model_module_version": "1.5.0",
      "_model_name": "HTMLModel",
      "_view_count": null,
      "_view_module": "@jupyter-widgets/controls",
      "_view_module_version": "1.5.0",
      "_view_name": "HTMLView",
      "description": "",
      "description_tooltip": null,
      "layout": "IPY_MODEL_04639e5503484146b79f7bbde269e3ad",
      "placeholder": "​",
      "style": "IPY_MODEL_5178ee5780cd450da7255683bc808ffd",
      "value": " 668/668 [00:04&lt;00:00, 147.82it/s]"
     }
    },
    "fe8e28781d594af79f5f2fa8f2ec1216": {
     "model_module": "@jupyter-widgets/controls",
     "model_module_version": "1.5.0",
     "model_name": "HTMLModel",
     "state": {
      "_dom_classes": [],
      "_model_module": "@jupyter-widgets/controls",
      "_model_module_version": "1.5.0",
      "_model_name": "HTMLModel",
      "_view_count": null,
      "_view_module": "@jupyter-widgets/controls",
      "_view_module_version": "1.5.0",
      "_view_name": "HTMLView",
      "description": "",
      "description_tooltip": null,
      "layout": "IPY_MODEL_2523c88746134cfdb5604356b5b4d05f",
      "placeholder": "​",
      "style": "IPY_MODEL_83bca7dab6794b13aaa2972dd76da287",
      "value": "100%"
     }
    }
   }
  }
 },
 "nbformat": 4,
 "nbformat_minor": 4
}
